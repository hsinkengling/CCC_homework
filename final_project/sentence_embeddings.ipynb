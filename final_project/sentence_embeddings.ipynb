{
  "cells": [
    {
      "cell_type": "code",
      "execution_count": 1,
      "metadata": {
        "colab": {
          "base_uri": "https://localhost:8080/"
        },
        "id": "iZmnDvMaKQdN",
        "outputId": "4f91fed3-add8-4b0d-99b2-9e9a84503673"
      },
      "outputs": [
        {
          "output_type": "stream",
          "name": "stdout",
          "text": [
            "Collecting sentence-transformers\n",
            "  Downloading sentence-transformers-2.2.0.tar.gz (79 kB)\n",
            "\u001b[K     |████████████████████████████████| 79 kB 8.2 MB/s \n",
            "\u001b[?25hCollecting transformers<5.0.0,>=4.6.0\n",
            "  Downloading transformers-4.17.0-py3-none-any.whl (3.8 MB)\n",
            "\u001b[K     |████████████████████████████████| 3.8 MB 70.3 MB/s \n",
            "\u001b[?25hRequirement already satisfied: tqdm in /usr/local/lib/python3.7/dist-packages (from sentence-transformers) (4.63.0)\n",
            "Requirement already satisfied: torch>=1.6.0 in /usr/local/lib/python3.7/dist-packages (from sentence-transformers) (1.10.0+cu111)\n",
            "Requirement already satisfied: torchvision in /usr/local/lib/python3.7/dist-packages (from sentence-transformers) (0.11.1+cu111)\n",
            "Requirement already satisfied: numpy in /usr/local/lib/python3.7/dist-packages (from sentence-transformers) (1.21.5)\n",
            "Requirement already satisfied: scikit-learn in /usr/local/lib/python3.7/dist-packages (from sentence-transformers) (1.0.2)\n",
            "Requirement already satisfied: scipy in /usr/local/lib/python3.7/dist-packages (from sentence-transformers) (1.4.1)\n",
            "Requirement already satisfied: nltk in /usr/local/lib/python3.7/dist-packages (from sentence-transformers) (3.2.5)\n",
            "Collecting sentencepiece\n",
            "  Downloading sentencepiece-0.1.96-cp37-cp37m-manylinux_2_17_x86_64.manylinux2014_x86_64.whl (1.2 MB)\n",
            "\u001b[K     |████████████████████████████████| 1.2 MB 58.1 MB/s \n",
            "\u001b[?25hCollecting huggingface-hub\n",
            "  Downloading huggingface_hub-0.4.0-py3-none-any.whl (67 kB)\n",
            "\u001b[K     |████████████████████████████████| 67 kB 6.0 MB/s \n",
            "\u001b[?25hRequirement already satisfied: typing-extensions in /usr/local/lib/python3.7/dist-packages (from torch>=1.6.0->sentence-transformers) (3.10.0.2)\n",
            "Requirement already satisfied: importlib-metadata in /usr/local/lib/python3.7/dist-packages (from transformers<5.0.0,>=4.6.0->sentence-transformers) (4.11.2)\n",
            "Collecting pyyaml>=5.1\n",
            "  Downloading PyYAML-6.0-cp37-cp37m-manylinux_2_5_x86_64.manylinux1_x86_64.manylinux_2_12_x86_64.manylinux2010_x86_64.whl (596 kB)\n",
            "\u001b[K     |████████████████████████████████| 596 kB 68.5 MB/s \n",
            "\u001b[?25hCollecting sacremoses\n",
            "  Downloading sacremoses-0.0.49-py3-none-any.whl (895 kB)\n",
            "\u001b[K     |████████████████████████████████| 895 kB 69.5 MB/s \n",
            "\u001b[?25hRequirement already satisfied: packaging>=20.0 in /usr/local/lib/python3.7/dist-packages (from transformers<5.0.0,>=4.6.0->sentence-transformers) (21.3)\n",
            "Requirement already satisfied: regex!=2019.12.17 in /usr/local/lib/python3.7/dist-packages (from transformers<5.0.0,>=4.6.0->sentence-transformers) (2019.12.20)\n",
            "Requirement already satisfied: filelock in /usr/local/lib/python3.7/dist-packages (from transformers<5.0.0,>=4.6.0->sentence-transformers) (3.6.0)\n",
            "Collecting tokenizers!=0.11.3,>=0.11.1\n",
            "  Downloading tokenizers-0.11.6-cp37-cp37m-manylinux_2_12_x86_64.manylinux2010_x86_64.whl (6.5 MB)\n",
            "\u001b[K     |████████████████████████████████| 6.5 MB 53.9 MB/s \n",
            "\u001b[?25hRequirement already satisfied: requests in /usr/local/lib/python3.7/dist-packages (from transformers<5.0.0,>=4.6.0->sentence-transformers) (2.23.0)\n",
            "Requirement already satisfied: pyparsing!=3.0.5,>=2.0.2 in /usr/local/lib/python3.7/dist-packages (from packaging>=20.0->transformers<5.0.0,>=4.6.0->sentence-transformers) (3.0.7)\n",
            "Requirement already satisfied: zipp>=0.5 in /usr/local/lib/python3.7/dist-packages (from importlib-metadata->transformers<5.0.0,>=4.6.0->sentence-transformers) (3.7.0)\n",
            "Requirement already satisfied: six in /usr/local/lib/python3.7/dist-packages (from nltk->sentence-transformers) (1.15.0)\n",
            "Requirement already satisfied: certifi>=2017.4.17 in /usr/local/lib/python3.7/dist-packages (from requests->transformers<5.0.0,>=4.6.0->sentence-transformers) (2021.10.8)\n",
            "Requirement already satisfied: idna<3,>=2.5 in /usr/local/lib/python3.7/dist-packages (from requests->transformers<5.0.0,>=4.6.0->sentence-transformers) (2.10)\n",
            "Requirement already satisfied: chardet<4,>=3.0.2 in /usr/local/lib/python3.7/dist-packages (from requests->transformers<5.0.0,>=4.6.0->sentence-transformers) (3.0.4)\n",
            "Requirement already satisfied: urllib3!=1.25.0,!=1.25.1,<1.26,>=1.21.1 in /usr/local/lib/python3.7/dist-packages (from requests->transformers<5.0.0,>=4.6.0->sentence-transformers) (1.25.11)\n",
            "Requirement already satisfied: click in /usr/local/lib/python3.7/dist-packages (from sacremoses->transformers<5.0.0,>=4.6.0->sentence-transformers) (7.1.2)\n",
            "Requirement already satisfied: joblib in /usr/local/lib/python3.7/dist-packages (from sacremoses->transformers<5.0.0,>=4.6.0->sentence-transformers) (1.1.0)\n",
            "Requirement already satisfied: threadpoolctl>=2.0.0 in /usr/local/lib/python3.7/dist-packages (from scikit-learn->sentence-transformers) (3.1.0)\n",
            "Requirement already satisfied: pillow!=8.3.0,>=5.3.0 in /usr/local/lib/python3.7/dist-packages (from torchvision->sentence-transformers) (7.1.2)\n",
            "Building wheels for collected packages: sentence-transformers\n",
            "  Building wheel for sentence-transformers (setup.py) ... \u001b[?25l\u001b[?25hdone\n",
            "  Created wheel for sentence-transformers: filename=sentence_transformers-2.2.0-py3-none-any.whl size=120747 sha256=db9a585051262548d4a8f1e039d40f4050745e9cf130ef6b40bb749cfa4b9f15\n",
            "  Stored in directory: /root/.cache/pip/wheels/83/c0/df/b6873ab7aac3f2465aa9144b6b4c41c4391cfecc027c8b07e7\n",
            "Successfully built sentence-transformers\n",
            "Installing collected packages: pyyaml, tokenizers, sacremoses, huggingface-hub, transformers, sentencepiece, sentence-transformers\n",
            "  Attempting uninstall: pyyaml\n",
            "    Found existing installation: PyYAML 3.13\n",
            "    Uninstalling PyYAML-3.13:\n",
            "      Successfully uninstalled PyYAML-3.13\n",
            "Successfully installed huggingface-hub-0.4.0 pyyaml-6.0 sacremoses-0.0.49 sentence-transformers-2.2.0 sentencepiece-0.1.96 tokenizers-0.11.6 transformers-4.17.0\n"
          ]
        }
      ],
      "source": [
        "!pip install sentence-transformers"
      ]
    },
    {
      "cell_type": "code",
      "execution_count": 2,
      "metadata": {
        "id": "FhC5WdIzbkCY"
      },
      "outputs": [],
      "source": [
        "import pandas as pd\n",
        "import numpy as np\n",
        "import matplotlib.pyplot as plt\n",
        "import seaborn as sns\n",
        "import sklearn\n",
        "import randomr"
      ]
    },
    {
      "cell_type": "code",
      "execution_count": 3,
      "metadata": {
        "id": "1AH5LVnjbkCZ"
      },
      "outputs": [],
      "source": [
        "%matplotlib inline"
      ]
    },
    {
      "cell_type": "code",
      "execution_count": 4,
      "metadata": {
        "colab": {
          "base_uri": "https://localhost:8080/"
        },
        "id": "p5JksU63egih",
        "outputId": "bfab25da-bcfe-41f2-e9d3-9015a68add48"
      },
      "outputs": [
        {
          "output_type": "stream",
          "name": "stdout",
          "text": [
            "Mounted at /content/drive\n"
          ]
        }
      ],
      "source": [
        "from google.colab import drive\n",
        "drive.mount('/content/drive')"
      ]
    },
    {
      "cell_type": "code",
      "execution_count": 5,
      "metadata": {
        "colab": {
          "base_uri": "https://localhost:8080/",
          "height": 401,
          "referenced_widgets": [
            "c8af764e15b8420f899a14912428b53b",
            "a028a1753c1647729dabf03876263b42",
            "c7a5a322791943e788ed6b13317e1ddc",
            "5d8ac9a528c64bc7813be10516487de9",
            "a64792d539bd44fd8d38bda2e69c161a",
            "3bc43a52b37f4ec287644ad77ae97564",
            "0ace8bdf40504900b8ce5237a2917791",
            "bdf71281bf02402c92ac9273ad4509e9",
            "6d86172077984b43b072e79a619b7931",
            "d89268814dcc4e1e844a88a71cfa97ce",
            "f0a4349dfeb24372831210717846dde3",
            "d13e175fea554bc29ef5a18a1eea0ce8",
            "223588a33da242b2ac2bb5b44bcf5ace",
            "c471a35ce2db44859821d46e16fd8481",
            "c5db281d7d71493baaaef31a2fcbf8bd",
            "8365116abc9a41849548220765b20b29",
            "51c4705513a7405ba009490e7381c238",
            "21e739f1056a43c9bc02ca525cfa1d9a",
            "89a4adcc4de742ba8dd4c9edd295a548",
            "c73e1d50d59547a9896d879176c02c40",
            "e9a6bedef0904dd4bd7d022bc82ddf1a",
            "9d0fe700324c4ce9b2f9c4bd49cbe3ce",
            "533f0d81436c442487d9c051e3007fb3",
            "b1cee3eca9e54ff9ad1d347e1f429cf0",
            "964986386e644285b9da991a50cc0c77",
            "82003ef1d04847a19b2c921f3548e9da",
            "c96863fb3bd44d3f920c58142525b6d7",
            "90d342735e81440d83e658b9b5cd792e",
            "8b97ce7611454b4ba0d1f9aad8fa9dd6",
            "13d76e8036bc429c8ca8dfe9c15e9e62",
            "71314091db8440b78cb94f30bbf86603",
            "d1315bb30e0843a5861cf5b531c64bf0",
            "4af2376e7498460fb6bb0e88c7d79b39",
            "420f58fe73f445219369c55fdc6cfef9",
            "25a34b6f860c49f38f5e2aebad55a202",
            "19a220db88a144639bc10df91def44b9",
            "187b446d9edf47ffbb7bdced06edf0d2",
            "2ef0b15fe34a4d5ca9fc39c38d0ec7e6",
            "c0ba85e6166c4a41b191917aab22bc81",
            "0a120e37b4254f328daf0c6ff56dced4",
            "0cc409d2a93d47bd8a18f1a8210731f5",
            "dc0714666c2c4e13b4efafcb60955836",
            "8f00b60a43d44346bfb1828ab49063d5",
            "439ba19f03824a08905defab522827c8",
            "7978448875394a9588bb8208f138f46e",
            "24a38a8c245248d7a2c90efd501b43a5",
            "9dae1c198e4e42cfab983e9c3742d712",
            "1893b5c7bda64f338c1328d91f5729a2",
            "283fb770abdc4cb2aff8d6801010d027",
            "cf6eb2f4c6024c91a2cee90bd6fb6cd9",
            "f9dbc794863144a1bf62a94a3e01375a",
            "8a07e51adb8b43118df8718d998bedfc",
            "db547be697fc47b59bc1d1b743bd2b14",
            "6af8e70e62764c0393b9e7243dad4ea6",
            "c6636a5ebc60473c93e54f481e579222",
            "82615b3ab34543b48ad8f262497d0041",
            "8638d31583c54f9cac707f9d4af17372",
            "507523c34a6746218a7e527859268b9c",
            "768a1019b58844b8aea0a805263da2ef",
            "16e5d3cfc27744d2b544bf04ac61f28a",
            "07f3d1f75962467cbccba014cfd14a6b",
            "691d5c8e526646bcb09fadbd99ec8705",
            "8673b27c680342fe8b4a28a8369ad514",
            "dbb32635b9904f04ac006fb55c625a5c",
            "3b283d141d1f456fbe4b53b8e6b85803",
            "c65170126fd7454aaa9280dbc2e67be3",
            "f9de167fe2594237beac1dd98d15225c",
            "d1f5c669915b4875beac401468d0feca",
            "f163cdd9a24d4d8eb9ff96cd857e845a",
            "02420851fd0a40759fa643ab5e10ba30",
            "7c63bdf6ca174f8cb3ddcbb665c6006f",
            "12f5fcf3704a4031a3049cbcf82b7dae",
            "b5dc0d0941c844109931aa5b9e5b6307",
            "c78ac5e5b848403f8ad1fc4fc0c55ffc",
            "96067e45ed654c22b4d27f13c63df5db",
            "d4b35bdac0804410a9bb37c4930888fc",
            "555239e6859e4a7cb46b1f6a0ca04e45",
            "7f4982beeaee47e699bd685008b3d740",
            "62975d0a241b49199ec4af4536e441dc",
            "9ca6b96cdd8b4120b38fc78e709839b5",
            "2e4e01ad9ab14c87beb08c9900ea5c47",
            "0e50a7b4a9734c0fa30496af8fd6ccc4",
            "0b3e121eed6c4b1ca4ac5f362ea454a9",
            "c06b5623161341688466ee0849f980e2",
            "8e6765f0706f41bb840f569f7a1ecd6b",
            "25dca93d335b4defb2e43829c43d5e97",
            "40946bada3a347309ceb54bf5ec60a2a",
            "2e6c7f6d8a2b4dc29a48a40863cfea1f",
            "f27afd13d75d4fe29075bface24a7f81",
            "ca430c18a1c24e42bf04161148d388eb",
            "6b350d7c073a45f4862a9ee8698bff83",
            "2623b22d2a6647e4ae0fe76e0ed2e4c4",
            "263a5fb497b3420891b9b697bf48772d",
            "32966c5adb2842699a95ba4466bb969c",
            "fb69db9bcc024033a3b1d5a709c2dc1b",
            "ef04fa24cadd4ee987ad7cafca0d2527",
            "d1741c5726b74194a088e0d417a7e514",
            "728290db05084614855ef11e4a6e76dd",
            "4936250524ab43f68cf2cd91fca406c7",
            "f6344b686d26423aa9f1340fd49668b8",
            "e3f51b069411488e82a1ff2433eedadc",
            "19bd5ed2720f4455a5eacb07abbc3557",
            "c4d00b0f11dc4dcdbc6222bb153173cd",
            "a4811c9dee04412b8b64b68a27829159",
            "8141581facf44b7f90393a9e72149c9d",
            "3dae430afbf648d39809e6fb1268ac2d",
            "868e0e21ad0242dcb4f57a3f6a30ca4d",
            "4565f9d0e97a4736bacf96524d9aaf83",
            "8b39910ba4c64c05967a7eb9088b9be5",
            "88588c650c664236b9cff8f1c5675e99",
            "2f78160c280042059159471fb88ed4c2",
            "cf2ab660b45f47928515288869d6cbf7",
            "6a5c7eae6491478798f8d25574d23b7a",
            "61a6c830dc574051b7b73d0acdf9710b",
            "f230fa618e1044639e101057abc79192",
            "3e8760987ce441e8aa01493990180073",
            "e606d88088374d76b347325a3632198d",
            "7f5bbd6d098047ab84a01e80313aada0",
            "b8cb9c570a7a4587ba9ddbb069182981",
            "3e74f47ceb404257b1dc5a7fb31f1868",
            "1de90891c99f43f689314acaa013d8b4",
            "ece92a23d7bc4a95a41a751cacbc4180",
            "a861cb8c68e54e8cb186cc2754798594",
            "4fca89979c21481c8a9bc18e2f100581",
            "5625b80f598840e694648f1b3eaf2423",
            "d0edcce3fb4b42a0aa74b5b26ff82dd3",
            "8bfb14dafc574bc3ad6588ab6efd521d",
            "777fe1c656484592bc62ff8da4370fc7",
            "13eb43f6398946e7a260468230ec48c4",
            "74c1738bc4424aaca612f96031e79b0c",
            "56e347fa4053401e89d9bf35d0cbef83",
            "f7e3f57dea554c1aa36a88fe68065931"
          ]
        },
        "id": "K432TawSH0mV",
        "outputId": "b1dd81fb-c5b6-42e5-e975-f1cd07716d92"
      },
      "outputs": [
        {
          "output_type": "display_data",
          "data": {
            "text/plain": [
              "Downloading:   0%|          | 0.00/345 [00:00<?, ?B/s]"
            ],
            "application/vnd.jupyter.widget-view+json": {
              "version_major": 2,
              "version_minor": 0,
              "model_id": "c8af764e15b8420f899a14912428b53b"
            }
          },
          "metadata": {}
        },
        {
          "output_type": "display_data",
          "data": {
            "text/plain": [
              "Downloading:   0%|          | 0.00/4.01k [00:00<?, ?B/s]"
            ],
            "application/vnd.jupyter.widget-view+json": {
              "version_major": 2,
              "version_minor": 0,
              "model_id": "d13e175fea554bc29ef5a18a1eea0ce8"
            }
          },
          "metadata": {}
        },
        {
          "output_type": "display_data",
          "data": {
            "text/plain": [
              "Downloading:   0%|          | 0.00/555 [00:00<?, ?B/s]"
            ],
            "application/vnd.jupyter.widget-view+json": {
              "version_major": 2,
              "version_minor": 0,
              "model_id": "533f0d81436c442487d9c051e3007fb3"
            }
          },
          "metadata": {}
        },
        {
          "output_type": "display_data",
          "data": {
            "text/plain": [
              "Downloading:   0%|          | 0.00/122 [00:00<?, ?B/s]"
            ],
            "application/vnd.jupyter.widget-view+json": {
              "version_major": 2,
              "version_minor": 0,
              "model_id": "420f58fe73f445219369c55fdc6cfef9"
            }
          },
          "metadata": {}
        },
        {
          "output_type": "display_data",
          "data": {
            "text/plain": [
              "Downloading:   0%|          | 0.00/229 [00:00<?, ?B/s]"
            ],
            "application/vnd.jupyter.widget-view+json": {
              "version_major": 2,
              "version_minor": 0,
              "model_id": "7978448875394a9588bb8208f138f46e"
            }
          },
          "metadata": {}
        },
        {
          "output_type": "display_data",
          "data": {
            "text/plain": [
              "Downloading:   0%|          | 0.00/265M [00:00<?, ?B/s]"
            ],
            "application/vnd.jupyter.widget-view+json": {
              "version_major": 2,
              "version_minor": 0,
              "model_id": "82615b3ab34543b48ad8f262497d0041"
            }
          },
          "metadata": {}
        },
        {
          "output_type": "display_data",
          "data": {
            "text/plain": [
              "Downloading:   0%|          | 0.00/53.0 [00:00<?, ?B/s]"
            ],
            "application/vnd.jupyter.widget-view+json": {
              "version_major": 2,
              "version_minor": 0,
              "model_id": "f9de167fe2594237beac1dd98d15225c"
            }
          },
          "metadata": {}
        },
        {
          "output_type": "display_data",
          "data": {
            "text/plain": [
              "Downloading:   0%|          | 0.00/112 [00:00<?, ?B/s]"
            ],
            "application/vnd.jupyter.widget-view+json": {
              "version_major": 2,
              "version_minor": 0,
              "model_id": "7f4982beeaee47e699bd685008b3d740"
            }
          },
          "metadata": {}
        },
        {
          "output_type": "display_data",
          "data": {
            "text/plain": [
              "Downloading:   0%|          | 0.00/466k [00:00<?, ?B/s]"
            ],
            "application/vnd.jupyter.widget-view+json": {
              "version_major": 2,
              "version_minor": 0,
              "model_id": "f27afd13d75d4fe29075bface24a7f81"
            }
          },
          "metadata": {}
        },
        {
          "output_type": "display_data",
          "data": {
            "text/plain": [
              "Downloading:   0%|          | 0.00/505 [00:00<?, ?B/s]"
            ],
            "application/vnd.jupyter.widget-view+json": {
              "version_major": 2,
              "version_minor": 0,
              "model_id": "f6344b686d26423aa9f1340fd49668b8"
            }
          },
          "metadata": {}
        },
        {
          "output_type": "display_data",
          "data": {
            "text/plain": [
              "Downloading:   0%|          | 0.00/232k [00:00<?, ?B/s]"
            ],
            "application/vnd.jupyter.widget-view+json": {
              "version_major": 2,
              "version_minor": 0,
              "model_id": "2f78160c280042059159471fb88ed4c2"
            }
          },
          "metadata": {}
        },
        {
          "output_type": "display_data",
          "data": {
            "text/plain": [
              "Downloading:   0%|          | 0.00/190 [00:00<?, ?B/s]"
            ],
            "application/vnd.jupyter.widget-view+json": {
              "version_major": 2,
              "version_minor": 0,
              "model_id": "ece92a23d7bc4a95a41a751cacbc4180"
            }
          },
          "metadata": {}
        }
      ],
      "source": [
        "from sentence_transformers import SentenceTransformer\n",
        "model = SentenceTransformer('distilbert-base-nli-stsb-mean-tokens')"
      ]
    },
    {
      "cell_type": "code",
      "execution_count": 6,
      "metadata": {
        "id": "a-vFMRuogAXd"
      },
      "outputs": [],
      "source": [
        "from sentence_transformers import util"
      ]
    },
    {
      "cell_type": "code",
      "execution_count": 7,
      "metadata": {
        "id": "lQfHbgzflIsK"
      },
      "outputs": [],
      "source": [
        "dfmlkquotes = pd.read_csv(\"drive/MyDrive/data/coding_prez/mlk.csv\", delimiter='|', header=None, names=['sentence', 'label'])\n",
        "mlkquotesstr = ' '.join(dfmlkquotes.sentence.values)\n",
        "mlkquoteslst = dfmlkquotes.sentence.values.tolist()\n",
        "dfmlxquotes = pd.read_csv(\"drive/MyDrive/data/coding_prez/mlx.csv\", delimiter='|', header=None, names=['sentence', 'label'])\n",
        "mlxquotesstr = ' '.join(dfmlxquotes.sentence.values)\n",
        "mlxquoteslst = dfmlxquotes.sentence.values.tolist()\n",
        "dfmarxquotes = pd.read_csv(\"drive/MyDrive/data/coding_prez/marx_quotes.csv\", delimiter='|', header=None, names=['sentence', 'label'])\n",
        "marxquotesstr = ' '.join(dfmarxquotes.sentence.values)\n",
        "marxquoteslst = dfmarxquotes.sentence.values.tolist()\n",
        "dfharveyquotes = pd.read_csv(\"drive/MyDrive/data/coding_prez/harvey_quotes.csv\", delimiter='|', header=None, names=['sentence', 'label'])\n",
        "harveyquotesstr = ' '.join(dfharveyquotes.sentence.values)\n",
        "harveyquoteslst = dfharveyquotes.sentence.values.tolist()\n",
        "dfbutlerquotes = pd.read_csv(\"drive/MyDrive/data/coding_prez/butler_quotes.csv\", delimiter='|', header=None, names=['sentence', 'label'])\n",
        "butlerquotesstr = ' '.join(dfbutlerquotes.sentence.values)\n",
        "butlerquoteslst = dfbutlerquotes.sentence.values.tolist()\n",
        "dfbeauvoirquotes = pd.read_csv(\"drive/MyDrive/data/coding_prez/beauvoir_quotes.csv\", delimiter='|', header=None, names=['sentence', 'label'])\n",
        "beauvoirquotesstr = ' '.join(dfbeauvoirquotes.sentence.values)\n",
        "beauvoirquoteslst = dfbeauvoirquotes.sentence.values.tolist()"
      ]
    },
    {
      "cell_type": "code",
      "execution_count": 8,
      "metadata": {
        "id": "fyLTuR390qPu"
      },
      "outputs": [],
      "source": [
        "dfmlkwiki = pd.read_csv(\"drive/MyDrive/data/coding_prez/mlkwiki.csv\", delimiter='|', header=None, names=['sentence', 'label'])\n",
        "mlkwikistr = ' '.join(dfmlkwiki.sentence.values.astype('str'))\n",
        "mlkwikilst = dfmlkwiki.sentence.values.astype('str').tolist()\n",
        "dfmlxwiki = pd.read_csv(\"drive/MyDrive/data/coding_prez/mlxwiki.csv\", delimiter='|', header=None, names=['sentence', 'label'])\n",
        "mlxwikistr = ' '.join(dfmlxwiki.sentence.values.astype('str'))\n",
        "mlxwikilst = dfmlxwiki.sentence.values.astype('str').tolist()\n",
        "dfmarxwiki = pd.read_csv(\"drive/MyDrive/data/coding_prez/marxwiki.csv\", delimiter='|', header=None, names=['sentence', 'label'])\n",
        "marxwikistr = ' '.join(dfmarxwiki.sentence.values.astype('str'))\n",
        "marxwikilst = dfmarxwiki.sentence.values.astype('str').tolist()\n",
        "dfharveywiki = pd.read_csv(\"drive/MyDrive/data/coding_prez/harvey_wiki.csv\", delimiter='|', header=None, names=['sentence', 'label'])\n",
        "harveywikistr = ' '.join(dfharveywiki.sentence.values.astype('str'))\n",
        "harveywikilst = dfharveywiki.sentence.values.astype('str').tolist()\n",
        "dfbutlerwiki = pd.read_csv(\"drive/MyDrive/data/coding_prez/butler_wiki.csv\", delimiter='|', header=None, names=['sentence', 'label'])\n",
        "butlerwikistr = ' '.join(dfbutlerwiki.sentence.values.astype('str'))\n",
        "butlerwikilst = dfbutlerwiki.sentence.values.astype('str').tolist()\n",
        "dfbeauvoirwiki = pd.read_csv(\"drive/MyDrive/data/coding_prez/beauvoir_wiki.csv\", delimiter='|', header=None, names=['sentence', 'label'])\n",
        "beauvoirwikistr = ' '.join(dfbeauvoirwiki.sentence.values.astype('str'))\n",
        "beauvoirwikilst = dfbeauvoirwiki.sentence.values.astype('str').tolist()\n",
        "\n"
      ]
    },
    {
      "cell_type": "code",
      "execution_count": 9,
      "metadata": {
        "id": "VyyQyeEL0qXj"
      },
      "outputs": [],
      "source": [
        "dfbirmjail = pd.read_csv(\"drive/MyDrive/data/coding_prez/birminghamjail.csv\", delimiter='|', header=None, names=['sentence', 'label'])\n",
        "birmjailstr = ' '.join(dfbirmjail.sentence.values.astype('str'))\n",
        "birmjaillst = dfbirmjail.sentence.values.astype('str').tolist()\n",
        "dfbyanymeans = pd.read_csv(\"drive/MyDrive/data/coding_prez/byanymeans.csv\", delimiter='|', header=None, names=['sentence', 'label'])\n",
        "byanymeansstr = ' '.join(dfbyanymeans.sentence.values.astype('str'))\n",
        "byanymeanslst = dfbyanymeans.sentence.values.astype('str').tolist()\n",
        "dfcommunistmanifesto = pd.read_csv(\"drive/MyDrive/data/coding_prez/communist_manifesto.csv\", delimiter='|', header=None, names=['sentence', 'label'])\n",
        "communistmanifestostr = ' '.join(dfcommunistmanifesto.sentence.values.astype('str'))\n",
        "communistmanifestolst = dfcommunistmanifesto.sentence.values.astype('str').tolist()\n",
        "dflimitsofcapt = pd.read_csv(\"drive/MyDrive/data/coding_prez/limits_of_capital.csv\", delimiter='|', header=None, names=['sentence', 'label'])\n",
        "limitsofcaptstr = ' '.join(dflimitsofcapt.sentence.values.astype('str'))\n",
        "limitsofcaptlst = dflimitsofcapt.sentence.values.astype('str').tolist()\n",
        "dfgendertrouble = pd.read_csv(\"drive/MyDrive/data/coding_prez/gender_trouble.csv\", delimiter='|', header=None, names=['sentence', 'label'])\n",
        "gendertroublestr = ' '.join(dfgendertrouble.sentence.values.astype('str'))\n",
        "gendertroublelst = dfgendertrouble.sentence.values.astype('str').tolist()\n",
        "dfsecondsex = pd.read_csv(\"drive/MyDrive/data/coding_prez/second_sex.csv\", delimiter='|', header=None, names=['sentence', 'label'])\n",
        "secondsexstr = ' '.join(dfsecondsex.sentence.values.astype('str'))\n",
        "secondsexlst = dfsecondsex.sentence.values.astype('str').tolist()\n"
      ]
    },
    {
      "cell_type": "code",
      "execution_count": 10,
      "metadata": {
        "id": "goFawYa4r7l-"
      },
      "outputs": [],
      "source": [
        "def ave_emb(lst):\n",
        "    '''Get average embeddings for a list of strings'''\n",
        "    l = []\n",
        "    for sentence in lst:\n",
        "        l.append(model.encode(sentence))\n",
        "    return np.array(l).mean(axis = 0)"
      ]
    },
    {
      "cell_type": "code",
      "execution_count": 12,
      "metadata": {
        "id": "v4k-ld2GwDr8"
      },
      "outputs": [],
      "source": [
        "def normalize(vector):\n",
        "    normalized_vector = vector / np.linalg.norm(vector)\n",
        "    return normalized_vector\n",
        "\n",
        "def dimension(model, positives, negatives):\n",
        "    diff = sum([normalize(model.encode(x)) for x in positives]) - sum([normalize(model.encode(y)) for y in negatives])\n",
        "    return diff"
      ]
    },
    {
      "cell_type": "code",
      "execution_count": 13,
      "metadata": {
        "id": "0zH3nNvfwDue"
      },
      "outputs": [],
      "source": [
        "Violence = dimension(model, ['violence','force','power'], ['peaceful', 'quiet', 'pacifist'])\n",
        "Hate = dimension(model, ['hate','angry','cynical'], ['love', 'happy', 'optimistic'])\n",
        "Action = dimension(model, ['action', 'movement', 'start'], ['patience', 'wait', 'restraint'])"
      ]
    },
    {
      "cell_type": "code",
      "execution_count": 16,
      "metadata": {
        "id": "ihOjf9rswDxT"
      },
      "outputs": [],
      "source": [
        "Quotes = [mlkquoteslst, mlxquoteslst, marxquoteslst, harveyquoteslst, beauvoirquoteslst, butlerquoteslst]\n",
        "Quoteslab = ['MLK', 'MalcolmX', 'Marx', 'Harvey', 'Beauvoir', 'Butler']"
      ]
    },
    {
      "cell_type": "code",
      "execution_count": 17,
      "metadata": {
        "id": "jXTQQmUw8MXB"
      },
      "outputs": [],
      "source": [
        "Alltxt = [mlkquoteslst, mlxquoteslst, marxquoteslst, harveyquoteslst, beauvoirquoteslst, butlerquoteslst,\n",
        "          mlkwikilst, mlxwikilst, marxwikilst, harveywikilst, beauvoirwikilst, butlerwikilst,\n",
        "          birmjaillst, byanymeanslst , communistmanifestolst, limitsofcaptlst, secondsexlst, gendertroublelst]\n",
        "alllab = ['mlk_quote', 'malcolmx_quote', 'marx_quote', 'harvey_quote', 'beauvoir_quote', 'butler_quote',\n",
        "          'mlk_wiki', 'malcolmx_wiki', 'marx_wiki', 'harvey_wiki', 'beauvoir_wiki', 'butler_wiki',\n",
        "          'birmjail', 'byanymeans', 'communist manifesto', 'limits of capital', 'second sex', 'gender trouble']"
      ]
    },
    {
      "cell_type": "code",
      "execution_count": 18,
      "metadata": {
        "id": "svpE3es2Dhhy"
      },
      "outputs": [],
      "source": [
        "Categ = [mlkquoteslst + mlxquoteslst + marxquoteslst + harveyquoteslst + beauvoirquoteslst + butlerquoteslst,\n",
        "         mlkwikilst + mlxwikilst + marxwikilst + harveywikilst + beauvoirwikilst + butlerwikilst,\n",
        "         birmjaillst + byanymeanslst + communistmanifestolst + limitsofcaptlst + secondsexlst + gendertroublelst]\n",
        "categlab = ['quotes', 'wiki', 'manuscripts']"
      ]
    },
    {
      "cell_type": "code",
      "execution_count": 20,
      "metadata": {
        "id": "TlY43tfyLwA2"
      },
      "outputs": [],
      "source": [
        "all_quotes = mlkquoteslst + mlxquoteslst + marxquoteslst + harveyquoteslst + beauvoirquoteslst + butlerquoteslst\n",
        "all_wiki = mlkwikilst + mlxwikilst + marxwikilst + harveywikilst + beauvoirwikilst + butlerwikilst\n",
        "all_manuscript = birmjaillst + byanymeanslst + limitsofcaptlst + secondsexlst + gendertroublelst + communistmanifestolst"
      ]
    },
    {
      "cell_type": "code",
      "source": [
        "for txt, lab in zip(Alltxt, alllab):\n",
        "    print(len(txt), lab)"
      ],
      "metadata": {
        "id": "0XzkeoW7HD3r"
      },
      "execution_count": null,
      "outputs": []
    },
    {
      "cell_type": "code",
      "source": [
        "def visualize_cosin_sim(emb, label):\n",
        "    # word_vecs = []\n",
        "    # for i in range(0, len(text.split())):\n",
        "    #     word_vecs.append(word_vector(text, i, model, tokenizer))\n",
        "    L = []\n",
        "    for p in emb:\n",
        "        l = []\n",
        "        for q in emb:\n",
        "            l.append(float(util.cos_sim(p, q)))\n",
        "        L.append(l)\n",
        "    M = np.array(L)\n",
        "    # print(M)\n",
        "    fig = plt.figure()\n",
        "    div = pd.DataFrame(M, columns = label, index = label)\n",
        "    ax = sns.heatmap(div)\n",
        "    plt.show()"
      ],
      "metadata": {
        "id": "5afHfM4jGwLB"
      },
      "execution_count": 51,
      "outputs": []
    },
    {
      "cell_type": "code",
      "source": [
        "embedall = [ave_emb(txt) for txt in Alltxt]"
      ],
      "metadata": {
        "id": "FpqkLp-9GwM8"
      },
      "execution_count": 52,
      "outputs": []
    },
    {
      "cell_type": "code",
      "source": [
        "visualize_cosin_sim(embedall, alllab)"
      ],
      "metadata": {
        "colab": {
          "base_uri": "https://localhost:8080/",
          "height": 368
        },
        "id": "n3FrEEYZGwPY",
        "outputId": "1096ad0d-090e-4c9f-849d-124a26163dcc"
      },
      "execution_count": 53,
      "outputs": [
        {
          "output_type": "display_data",
          "data": {
            "text/plain": [
              "<Figure size 432x288 with 2 Axes>"
            ],
            "image/png": "[encoded data removed]"
          },
          "metadata": {
            "needs_background": "light"
          }
        }
      ]
    },
    {
      "cell_type": "code",
      "execution_count": null,
      "metadata": {
        "colab": {
          "base_uri": "https://localhost:8080/"
        },
        "id": "Ot57zHrSLt3O",
        "outputId": "2fb581b6-2a8b-4011-9576-516d6b3d68e6"
      },
      "outputs": [
        {
          "output_type": "stream",
          "name": "stdout",
          "text": [
            "tensor([[0.8936]])\n",
            "tensor([[0.5986]])\n"
          ]
        }
      ],
      "source": [
        "# print(util.cos_sim(ave_emb(all_quotes), ave_emb(all_manuscript)))\n",
        "# print(util.cos_sim(ave_emb(all_quotes), ave_emb(all_wiki)))\n",
        "# print(util.cos_sim(ave_emb(all_wiki), ave_emb(all_manuscript)))"
      ]
    },
    {
      "cell_type": "code",
      "source": [
        "embed_broad = [ave_emb(txt) for txt in [all_quotes, all_wiki, all_manuscript]]"
      ],
      "metadata": {
        "id": "9KBjcxwXHf8O"
      },
      "execution_count": 56,
      "outputs": []
    },
    {
      "cell_type": "code",
      "source": [
        "visualize_cosin_sim(embed_broad, ['all_quotes', 'all_wiki', 'all_manuscripts'])"
      ],
      "metadata": {
        "colab": {
          "base_uri": "https://localhost:8080/",
          "height": 266
        },
        "id": "pBqw4O9kIDe6",
        "outputId": "67f12f6d-7a80-413f-9ec4-c48a5354ba6d"
      },
      "execution_count": 57,
      "outputs": [
        {
          "output_type": "display_data",
          "data": {
            "text/plain": [
              "<Figure size 432x288 with 2 Axes>"
            ],
            "image/png": "[encoded data removed]"
          },
          "metadata": {
            "needs_background": "light"
          }
        }
      ]
    },
    {
      "cell_type": "code",
      "execution_count": 23,
      "metadata": {
        "id": "vguSpgomwD0f"
      },
      "outputs": [],
      "source": [
        "def makeDF(model, document_lst, labels):\n",
        "    g = []\n",
        "    r = []\n",
        "    c = []\n",
        "    default = model.encode('')\n",
        "    for document in document_lst:\n",
        "        emb_val = ave_emb(document)\n",
        "        try:\n",
        "            g.append(sklearn.metrics.pairwise.cosine_similarity(emb_val.reshape(1,-1), Violence.reshape(1,-1))[0][0])\n",
        "        except:\n",
        "            print(emb_val, document[:30])\n",
        "            g.append(sklearn.metrics.pairwise.cosine_similarity(default.reshape(1,-1), Violence.reshape(1,-1))[0][0])\n",
        "        try:\n",
        "            r.append(sklearn.metrics.pairwise.cosine_similarity(emb_val.reshape(1,-1), Hate.reshape(1,-1))[0][0])\n",
        "        except:\n",
        "            print(emb_val)\n",
        "            r.append(sklearn.metrics.pairwise.cosine_similarity(default.reshape(1,-1), Hate.reshape(1,-1))[0][0])\n",
        "        try:\n",
        "            c.append(sklearn.metrics.pairwise.cosine_similarity(emb_val.reshape(1,-1), Action.reshape(1,-1))[0][0])\n",
        "        except:\n",
        "            print(emb_val)\n",
        "            c.append(sklearn.metrics.pairwise.cosine_similarity(default.reshape(1,-1), Action.reshape(1,-1))[0][0])\n",
        "    print(len(g), len(r), len(c), len(labels))\n",
        "    df = pd.DataFrame({'Violence': g, 'Hate': r, 'Action': c, 'labels': labels}, index = labels)\n",
        "    return df"
      ]
    },
    {
      "cell_type": "code",
      "source": [
        "def Coloring(Series):\n",
        "    x = Series.values\n",
        "    y = x-x.min()\n",
        "    z = y/y.max()\n",
        "    c = list(plt.cm.rainbow(z))\n",
        "    return c\n",
        "\n",
        "def PlotDimension(ax,df, dim):\n",
        "    ax.set_frame_on(False)\n",
        "    ax.set_title(dim, fontsize = 20)\n",
        "    colors = Coloring(df[dim])\n",
        "    for i, word in enumerate(df.index):\n",
        "        ax.annotate(df.iloc[i, 3], (0, df[dim][i]), color = colors[i], alpha = 0.6, fontsize = 12)\n",
        "        # ax.annotate(word[:100], (0, df[dim][i]), alpha = 0.6, fontsize = 12)\n",
        "    MaxY = df[dim].max()\n",
        "    MinY = df[dim].min()\n",
        "    plt.ylim(MinY,MaxY)\n",
        "    plt.yticks(())\n",
        "    plt.xticks(())"
      ],
      "metadata": {
        "id": "tOW_o-xcAb3L"
      },
      "execution_count": 34,
      "outputs": []
    },
    {
      "cell_type": "code",
      "source": [
        "MLKQuotesdf = makeDF(model, mlkquoteslst, [quote[:30] for quote in mlkquoteslst])"
      ],
      "metadata": {
        "colab": {
          "base_uri": "https://localhost:8080/"
        },
        "id": "KvNugYtnAiip",
        "outputId": "a9a00cc1-9ee8-4b3a-9615-adf9d327e9d1"
      },
      "execution_count": 35,
      "outputs": [
        {
          "output_type": "stream",
          "name": "stdout",
          "text": [
            "20 20 20 20\n"
          ]
        }
      ]
    },
    {
      "cell_type": "code",
      "source": [
        "fig = plt.figure(figsize = (12,4))\n",
        "ax1 = fig.add_subplot(131)\n",
        "PlotDimension(ax1, MLKQuotesdf, 'Violence')\n",
        "ax2 = fig.add_subplot(132)\n",
        "PlotDimension(ax2, MLKQuotesdf, 'Hate')\n",
        "ax3 = fig.add_subplot(133)\n",
        "PlotDimension(ax3, MLKQuotesdf, 'Action')\n",
        "plt.show()"
      ],
      "metadata": {
        "colab": {
          "base_uri": "https://localhost:8080/",
          "height": 272
        },
        "id": "B3eCpLS5Aikk",
        "outputId": "861036da-e3e2-4184-f587-9778700a28e5"
      },
      "execution_count": 36,
      "outputs": [
        {
          "output_type": "display_data",
          "data": {
            "text/plain": [
              "<Figure size 864x288 with 3 Axes>"
            ],
            "image/png": "[encoded data removed]"
          },
          "metadata": {}
        }
      ]
    },
    {
      "cell_type": "code",
      "source": [
        "categdf = makeDF(model, Categ, categlab)"
      ],
      "metadata": {
        "colab": {
          "base_uri": "https://localhost:8080/"
        },
        "id": "MMvUwafcA82S",
        "outputId": "1f979399-905b-4efb-bf22-7ad59e0bbc6f"
      },
      "execution_count": 37,
      "outputs": [
        {
          "output_type": "stream",
          "name": "stdout",
          "text": [
            "3 3 3 3\n"
          ]
        }
      ]
    },
    {
      "cell_type": "code",
      "source": [
        "fig = plt.figure(figsize = (12,4))\n",
        "ax1 = fig.add_subplot(131)\n",
        "PlotDimension(ax1, categdf, 'Violence')\n",
        "ax2 = fig.add_subplot(132)\n",
        "PlotDimension(ax2, categdf, 'Hate')\n",
        "ax3 = fig.add_subplot(133)\n",
        "PlotDimension(ax3, categdf, 'Action')\n",
        "plt.show()"
      ],
      "metadata": {
        "colab": {
          "base_uri": "https://localhost:8080/",
          "height": 272
        },
        "id": "TDYWznVrA84Z",
        "outputId": "c6c6fe91-447d-4ec7-a924-710f8e38bffc"
      },
      "execution_count": 39,
      "outputs": [
        {
          "output_type": "display_data",
          "data": {
            "text/plain": [
              "<Figure size 864x288 with 3 Axes>"
            ],
            "image/png": "[encoded data removed]"
          },
          "metadata": {}
        }
      ]
    },
    {
      "cell_type": "markdown",
      "source": [
        "To make sure these projections are statistically rigorous, I perform a ttest for each of the text type where:\n",
        "- H0: cosine-similarity = 0\n",
        "- H1: cosine-similarity =/= 0"
      ],
      "metadata": {
        "id": "BKv83XwfEwmS"
      }
    },
    {
      "cell_type": "code",
      "source": [
        "from scipy import stats"
      ],
      "metadata": {
        "id": "8CwJcX0oEwBa"
      },
      "execution_count": 60,
      "outputs": []
    },
    {
      "cell_type": "code",
      "source": [
        "def vector_ttest(sentences, sentence_lab, dimension, dimension_lab):\n",
        "    '''test '''\n",
        "    proj_vals = []\n",
        "    ct = 0\n",
        "    for sentence in sentences:\n",
        "        emb_val = model.encode(sentence)\n",
        "        proj_vals.append(sklearn.metrics.pairwise.cosine_similarity(emb_val.reshape(1,-1), dimension.reshape(1,-1))[0][0])\n",
        "        ct += 1\n",
        "    t_value, p_value=stats.ttest_1samp(proj_vals, 0)\n",
        "    stars = ''\n",
        "    if p_value < 0.005:\n",
        "        stars = '***'\n",
        "    elif p_value < 0.01:\n",
        "        stars = '**'\n",
        "    elif p_value < 0.05:\n",
        "        stars = '*'\n",
        "    print(f'N: {ct}')\n",
        "    print(f'T-value for {sentence_lab} in {dimension_lab}:' + str(t_value))\n",
        "    print(f'P-value for {sentence_lab} in {dimension_lab}:' + str(p_value) + stars)\n",
        "    "
      ],
      "metadata": {
        "id": "_V82PBASJ6V2"
      },
      "execution_count": 109,
      "outputs": []
    },
    {
      "cell_type": "code",
      "source": [
        "vector_ttest(all_quotes, 'All Quotes', Violence, 'Violence')\n",
        "vector_ttest(all_quotes, 'All Quotes', Hate, 'Hate')\n",
        "vector_ttest(all_quotes, 'All Quotes', Action, 'Action')"
      ],
      "metadata": {
        "colab": {
          "base_uri": "https://localhost:8080/"
        },
        "id": "rN1c1m1pK4IN",
        "outputId": "f63e8bd6-86ee-49c5-d8f5-568e0043dcca"
      },
      "execution_count": 113,
      "outputs": [
        {
          "output_type": "stream",
          "name": "stdout",
          "text": [
            "N: 120\n",
            "T-value for All Quotes in Violence:-2.2835998799325976\n",
            "P-value for All Quotes in Violence:0.02416883784360063*\n",
            "N: 120\n",
            "T-value for All Quotes in Hate:0.25861207674244213\n",
            "P-value for All Quotes in Hate:0.796381340781691\n",
            "N: 120\n",
            "T-value for All Quotes in Action:-5.54814658316123\n",
            "P-value for All Quotes in Action:1.7746746267666952e-07***\n"
          ]
        }
      ]
    },
    {
      "cell_type": "code",
      "source": [
        "vector_ttest(all_wiki, 'All Wiki', Violence, 'Violence')\n",
        "vector_ttest(all_wiki, 'All Wiki', Hate, 'Hate')\n",
        "vector_ttest(all_wiki, 'All Wiki', Action, 'Action')"
      ],
      "metadata": {
        "colab": {
          "base_uri": "https://localhost:8080/"
        },
        "id": "UchskLh3JJCx",
        "outputId": "659969b3-d655-4a2b-95a1-8de3ee11aa3b"
      },
      "execution_count": 111,
      "outputs": [
        {
          "output_type": "stream",
          "name": "stdout",
          "text": [
            "N: 2870\n",
            "T-value for All Wiki in Violence:3.835609230755581\n",
            "P-value for All Wiki in Violence:0.00012794964815192653***\n",
            "N: 2870\n",
            "T-value for All Wiki in Hate:3.86181148537854\n",
            "P-value for All Wiki in Hate:0.00011503571478348496***\n",
            "N: 2870\n",
            "T-value for All Wiki in Action:2.7081880065001624\n",
            "P-value for All Wiki in Action:0.006805316060356664**\n"
          ]
        }
      ]
    },
    {
      "cell_type": "code",
      "source": [
        "vector_ttest(all_manuscript, 'All Manuscript', Violence, 'Violence')\n",
        "vector_ttest(all_manuscript, 'All Manuscript', Hate, 'Hate')\n",
        "vector_ttest(all_manuscript, 'All Manuscript', Action, 'Action')"
      ],
      "metadata": {
        "colab": {
          "base_uri": "https://localhost:8080/"
        },
        "id": "aOMv8GVQJJFd",
        "outputId": "a359f41e-1e46-4b07-ee34-db9fa9a06068"
      },
      "execution_count": 112,
      "outputs": [
        {
          "output_type": "stream",
          "name": "stdout",
          "text": [
            "N: 2662\n",
            "T-value for All Manuscript in Violence:14.180486000457956\n",
            "P-value for All Manuscript in Violence:4.674755247647187e-44***\n",
            "N: 2662\n",
            "T-value for All Manuscript in Hate:7.7826139697510985\n",
            "P-value for All Manuscript in Hate:1.00882066805612e-14***\n",
            "N: 2662\n",
            "T-value for All Manuscript in Action:-2.5595476438066895\n",
            "P-value for All Manuscript in Action:0.010535661673347742*\n"
          ]
        }
      ]
    },
    {
      "cell_type": "markdown",
      "source": [
        "Now for paired ttests:\n",
        "- H0: quotes - manuscript = 0\n",
        "- H1: quotes - manuscript != 0\n",
        "- Since the files sizes are different, I sample the manuscript to the size of the quotes."
      ],
      "metadata": {
        "id": "qdOEcvQvMgfw"
      }
    },
    {
      "cell_type": "code",
      "source": [
        "def vector_ttest_pair(sentences1, sentences2, sentence_lab1, sentence_lab2, dimension, dimension_lab, sample = None):\n",
        "    '''test '''\n",
        "    proj_vals1 = []\n",
        "    proj_vals2 = []\n",
        "    ct = 0\n",
        "    if sample:\n",
        "        sentences2 = random.sample(sentences2, len(sentences1))\n",
        "    for sentence1, sentence2 in zip(sentences1, sentences2):\n",
        "        ct += 1\n",
        "        emb_val1 = model.encode(sentence1)\n",
        "        emb_val2 = model.encode(sentence2)\n",
        "        proj_vals1.append(sklearn.metrics.pairwise.cosine_similarity(emb_val1.reshape(1,-1), dimension.reshape(1,-1))[0][0])\n",
        "        proj_vals2.append(sklearn.metrics.pairwise.cosine_similarity(emb_val2.reshape(1,-1), dimension.reshape(1,-1))[0][0])\n",
        "    proj_dif = []\n",
        "    for i, j in zip(proj_vals1, proj_vals2):\n",
        "        proj_dif.append(i - j)\n",
        "    t_value, p_value=stats.ttest_1samp(proj_dif, 0)\n",
        "    stars = ''\n",
        "    if p_value < 0.005:\n",
        "        stars = '***'\n",
        "    elif p_value < 0.01:\n",
        "        stars = '**'\n",
        "    elif p_value < 0.05:\n",
        "        stars = '*'\n",
        "\n",
        "    # print(proj_dif)\n",
        "    print(f'N : {ct}')\n",
        "    print(f'T-value for {sentence_lab1} - {sentence_lab2} in {dimension_lab}:' + str(t_value))\n",
        "    print(f'P-value for {sentence_lab1} - {sentence_lab2} in {dimension_lab}:' + str(p_value) + stars)\n",
        "    "
      ],
      "metadata": {
        "id": "UQMwpwnsJJHU"
      },
      "execution_count": 96,
      "outputs": []
    },
    {
      "cell_type": "code",
      "source": [
        "vector_ttest_pair(mlkquoteslst, birmjaillst, 'mlkquotes', 'birmjail', Violence, 'Violence', sample = True)\n",
        "vector_ttest_pair(mlkquoteslst, birmjaillst, 'mlkquotes', 'birmjail', Hate, 'Hate', sample = True)\n",
        "vector_ttest_pair(mlkquoteslst, birmjaillst, 'mlkquotes', 'birmjail', Action, 'Action', sample = True)"
      ],
      "metadata": {
        "colab": {
          "base_uri": "https://localhost:8080/"
        },
        "id": "w-rkI6ERQlnI",
        "outputId": "19267b1c-2ddb-4b0b-b27b-523ae029d52d"
      },
      "execution_count": 103,
      "outputs": [
        {
          "output_type": "stream",
          "name": "stdout",
          "text": [
            "N : 20\n",
            "T-value for mlkquotes - birmjail in Violence:-0.48129917046987997\n",
            "P-value for mlkquotes - birmjail in Violence:0.6358003376210251\n",
            "N : 20\n",
            "T-value for mlkquotes - birmjail in Hate:-1.9412028321989978\n",
            "P-value for mlkquotes - birmjail in Hate:0.06721459384599553\n",
            "N : 20\n",
            "T-value for mlkquotes - birmjail in Action:-1.1815726912439606\n",
            "P-value for mlkquotes - birmjail in Action:0.25195378148193753\n"
          ]
        }
      ]
    },
    {
      "cell_type": "code",
      "source": [
        "vector_ttest_pair(mlxquoteslst, byanymeanslst, 'malcolm x quotes', 'byanymeans', Violence, 'Violence', sample = True)\n",
        "vector_ttest_pair(mlxquoteslst, byanymeanslst, 'malcolm x quotes', 'byanymeans', Hate, 'Hate', sample = True)\n",
        "vector_ttest_pair(mlxquoteslst, byanymeanslst, 'malcolm x quotes', 'byanymeans', Action, 'Action', sample = True)"
      ],
      "metadata": {
        "colab": {
          "base_uri": "https://localhost:8080/"
        },
        "id": "2GZGk1aASIJR",
        "outputId": "17710c7a-de7f-45a3-9fdd-a80f7ed5bf29"
      },
      "execution_count": 104,
      "outputs": [
        {
          "output_type": "stream",
          "name": "stdout",
          "text": [
            "N : 20\n",
            "T-value for mlkquotes - byanymeans in Violence:-1.1728244549287803\n",
            "P-value for mlkquotes - byanymeans in Violence:0.25536106786133905\n",
            "N : 20\n",
            "T-value for mlkquotes - byanymeans in Hate:-1.644670984692968\n",
            "P-value for mlkquotes - byanymeans in Hate:0.11648154157810657\n",
            "N : 20\n",
            "T-value for mlkquotes - byanymeans in Action:-1.2436260465755786\n",
            "P-value for mlkquotes - byanymeans in Action:0.22876348218686016\n"
          ]
        }
      ]
    },
    {
      "cell_type": "code",
      "source": [
        "vector_ttest_pair(marxquoteslst, communistmanifestolst, 'marx quotes', 'communist manifesto', Violence, 'Violence', sample = True)\n",
        "vector_ttest_pair(marxquoteslst, communistmanifestolst, 'marx quotes', 'communist manifesto', Hate, 'Hate', sample = True)\n",
        "vector_ttest_pair(marxquoteslst, communistmanifestolst, 'marx quotes', 'communist manifesto', Action, 'Action', sample = True)\n"
      ],
      "metadata": {
        "colab": {
          "base_uri": "https://localhost:8080/"
        },
        "id": "k8EQOGjvSIRE",
        "outputId": "d21f02d8-e2ae-4c63-f375-d820a2553e13"
      },
      "execution_count": 105,
      "outputs": [
        {
          "output_type": "stream",
          "name": "stdout",
          "text": [
            "N : 20\n",
            "T-value for marx quotes - communist manifesto in Violence:-3.2642659491147885\n",
            "P-value for marx quotes - communist manifesto in Violence:0.004080718122760518***\n",
            "N : 20\n",
            "T-value for marx quotes - communist manifesto in Hate:-0.7461114422694757\n",
            "P-value for marx quotes - communist manifesto in Hate:0.464732156841448\n",
            "N : 20\n",
            "T-value for marx quotes - communist manifesto in Action:-1.5725012631932893\n",
            "P-value for marx quotes - communist manifesto in Action:0.13233882496410568\n"
          ]
        }
      ]
    },
    {
      "cell_type": "code",
      "source": [
        "vector_ttest_pair(harveyquoteslst, limitsofcaptlst, 'david harvey quotes', 'limits of capitalism', Violence, 'Violence', sample = True)\n",
        "vector_ttest_pair(harveyquoteslst, limitsofcaptlst, 'david harvey quotes', 'limits of capitalism', Hate, 'Hate', sample = True)\n",
        "vector_ttest_pair(harveyquoteslst, limitsofcaptlst, 'david harvey quotes', 'limits of capitalism', Action, 'Action', sample = True)\n"
      ],
      "metadata": {
        "colab": {
          "base_uri": "https://localhost:8080/"
        },
        "id": "WNRvZu3pSIad",
        "outputId": "5c0f1001-9ef4-424a-f0fb-04ab170f1dfd"
      },
      "execution_count": 106,
      "outputs": [
        {
          "output_type": "stream",
          "name": "stdout",
          "text": [
            "N : 20\n",
            "T-value for david harvey quotes - limits of capitalism in Violence:-0.32858177986188536\n",
            "P-value for david harvey quotes - limits of capitalism in Violence:0.7460656764745187\n",
            "N : 20\n",
            "T-value for david harvey quotes - limits of capitalism in Hate:1.1770684526283122\n",
            "P-value for david harvey quotes - limits of capitalism in Hate:0.2537038048838707\n",
            "N : 20\n",
            "T-value for david harvey quotes - limits of capitalism in Action:-2.052207293048732\n",
            "P-value for david harvey quotes - limits of capitalism in Action:0.05418714152970948\n"
          ]
        }
      ]
    },
    {
      "cell_type": "code",
      "source": [
        "vector_ttest_pair(butlerquoteslst, gendertroublelst, 'Judith Butler quotes', 'gender trouble', Violence, 'Violence', sample = True)\n",
        "vector_ttest_pair(butlerquoteslst, gendertroublelst, 'Judith Butler quotes', 'gender trouble', Hate, 'Hate', sample = True)\n",
        "vector_ttest_pair(butlerquoteslst, gendertroublelst, 'Judith Butler quotes', 'gender trouble', Action, 'Action', sample = True)"
      ],
      "metadata": {
        "colab": {
          "base_uri": "https://localhost:8080/"
        },
        "id": "KIla_anoSIi9",
        "outputId": "b52b8899-fe17-4d8a-a8b4-c448396f0d9a"
      },
      "execution_count": 107,
      "outputs": [
        {
          "output_type": "stream",
          "name": "stdout",
          "text": [
            "N : 20\n",
            "T-value for Judith Butler quotes - gender trouble in Violence:0.448005810781417\n",
            "P-value for Judith Butler quotes - gender trouble in Violence:0.6592155698055935\n",
            "N : 20\n",
            "T-value for Judith Butler quotes - gender trouble in Hate:0.32618991446330786\n",
            "P-value for Judith Butler quotes - gender trouble in Hate:0.7478461464408844\n",
            "N : 20\n",
            "T-value for Judith Butler quotes - gender trouble in Action:-0.8836048677248001\n",
            "P-value for Judith Butler quotes - gender trouble in Action:0.3879537025029124\n"
          ]
        }
      ]
    },
    {
      "cell_type": "code",
      "source": [
        "vector_ttest_pair(beauvoirquoteslst, secondsexlst, 'Simone Beauvoir quotes', 'second sex', Violence, 'Violence', sample = True)\n",
        "vector_ttest_pair(beauvoirquoteslst, secondsexlst, 'Simone Beauvoir quotes', 'second sex', Hate, 'Hate', sample = True)\n",
        "vector_ttest_pair(beauvoirquoteslst, secondsexlst, 'Simone Beauvoir quotes', 'second sex', Action, 'Action', sample = True)"
      ],
      "metadata": {
        "colab": {
          "base_uri": "https://localhost:8080/"
        },
        "id": "piTXRXFeSIot",
        "outputId": "114f7802-d9f1-4657-8e49-66c9d8123cfc"
      },
      "execution_count": 108,
      "outputs": [
        {
          "output_type": "stream",
          "name": "stdout",
          "text": [
            "N : 20\n",
            "T-value for Simone Beauvoir quotes - second sex in Violence:-0.7993894921035051\n",
            "P-value for Simone Beauvoir quotes - second sex in Violence:0.43394513659653355\n",
            "N : 20\n",
            "T-value for Simone Beauvoir quotes - second sex in Hate:-2.012228089760042\n",
            "P-value for Simone Beauvoir quotes - second sex in Hate:0.0585920051249807\n",
            "N : 20\n",
            "T-value for Simone Beauvoir quotes - second sex in Action:0.5029758367634395\n",
            "P-value for Simone Beauvoir quotes - second sex in Action:0.6207618795003207\n"
          ]
        }
      ]
    },
    {
      "cell_type": "markdown",
      "source": [
        "Back to plotting"
      ],
      "metadata": {
        "id": "tCakCTTzRjHl"
      }
    },
    {
      "cell_type": "code",
      "source": [
        "Quotesdf = makeDF(model, Quotes, Quoteslab)"
      ],
      "metadata": {
        "colab": {
          "base_uri": "https://localhost:8080/"
        },
        "id": "QI-t4-zFAinF",
        "outputId": "1a175767-df34-47fc-b91c-a2e01bebb92c"
      },
      "execution_count": 40,
      "outputs": [
        {
          "output_type": "stream",
          "name": "stdout",
          "text": [
            "6 6 6 6\n"
          ]
        }
      ]
    },
    {
      "cell_type": "code",
      "source": [
        "fig = plt.figure(figsize = (12,4))\n",
        "ax1 = fig.add_subplot(131)\n",
        "PlotDimension(ax1, Quotesdf, 'Violence')\n",
        "ax2 = fig.add_subplot(132)\n",
        "PlotDimension(ax2, Quotesdf, 'Hate')\n",
        "ax3 = fig.add_subplot(133)\n",
        "PlotDimension(ax3, Quotesdf, 'Action')\n",
        "plt.show()"
      ],
      "metadata": {
        "colab": {
          "base_uri": "https://localhost:8080/",
          "height": 272
        },
        "id": "62ogHAkfAipJ",
        "outputId": "a4db839c-e684-4464-9816-5210d2c6cd8d"
      },
      "execution_count": 41,
      "outputs": [
        {
          "output_type": "display_data",
          "data": {
            "text/plain": [
              "<Figure size 864x288 with 3 Axes>"
            ],
            "image/png": "[encoded data removed]"
          },
          "metadata": {}
        }
      ]
    },
    {
      "cell_type": "code",
      "source": [
        "Alltxtdf = makeDF(model, Alltxt, alllab)"
      ],
      "metadata": {
        "colab": {
          "base_uri": "https://localhost:8080/"
        },
        "id": "nEvO0ST5BF1u",
        "outputId": "94ec4c3b-868c-4204-89e7-a5a808a14c28"
      },
      "execution_count": 42,
      "outputs": [
        {
          "output_type": "stream",
          "name": "stdout",
          "text": [
            "18 18 18 18\n"
          ]
        }
      ]
    },
    {
      "cell_type": "code",
      "source": [
        "fig = plt.figure(figsize = (12,4))\n",
        "ax1 = fig.add_subplot(131)\n",
        "PlotDimension(ax1, Alltxtdf, 'Violence')\n",
        "ax2 = fig.add_subplot(132)\n",
        "PlotDimension(ax2, Alltxtdf, 'Hate')\n",
        "ax3 = fig.add_subplot(133)\n",
        "PlotDimension(ax3, Alltxtdf, 'Action')\n",
        "plt.show()"
      ],
      "metadata": {
        "colab": {
          "base_uri": "https://localhost:8080/",
          "height": 272
        },
        "id": "RQtyYgh4Ab5z",
        "outputId": "5debc47a-e2be-4f4a-8081-9b80aed57b5e"
      },
      "execution_count": 43,
      "outputs": [
        {
          "output_type": "display_data",
          "data": {
            "text/plain": [
              "<Figure size 864x288 with 3 Axes>"
            ],
            "image/png": "[encoded data removed]"
          },
          "metadata": {}
        }
      ]
    },
    {
      "cell_type": "markdown",
      "source": [
        "We will use the Alltxtdf to create the diffdf, which subtracts the projection values to see the \"distance-traveled\" during mainstreaming, as not every single manuscript are equally radical to start with. For example, while limits of capital scores highly on the violence scale, letter from birmingham jail actually starts quite low. It makes sense to take into consideration the starting point of the manuscript in relation to the final quote projections."
      ],
      "metadata": {
        "id": "tR8PI4duD7E4"
      }
    },
    {
      "cell_type": "code",
      "execution_count": null,
      "metadata": {
        "colab": {
          "base_uri": "https://localhost:8080/",
          "height": 614
        },
        "id": "9afTKTi32eAN",
        "outputId": "f541d20d-02b0-42fa-cae2-ebd2835bf41d"
      },
      "outputs": [
        {
          "data": {
            "text/html": [
              "\n",
              "  <div id=\"df-a0c63da8-624f-446e-b4db-7cda6040f505\">\n",
              "    <div class=\"colab-df-container\">\n",
              "      <div>\n",
              "<style scoped>\n",
              "    .dataframe tbody tr th:only-of-type {\n",
              "        vertical-align: middle;\n",
              "    }\n",
              "\n",
              "    .dataframe tbody tr th {\n",
              "        vertical-align: top;\n",
              "    }\n",
              "\n",
              "    .dataframe thead th {\n",
              "        text-align: right;\n",
              "    }\n",
              "</style>\n",
              "<table border=\"1\" class=\"dataframe\">\n",
              "  <thead>\n",
              "    <tr style=\"text-align: right;\">\n",
              "      <th></th>\n",
              "      <th>Violence</th>\n",
              "      <th>Hate</th>\n",
              "      <th>Action</th>\n",
              "      <th>labels</th>\n",
              "    </tr>\n",
              "  </thead>\n",
              "  <tbody>\n",
              "    <tr>\n",
              "      <th>mlk_quote</th>\n",
              "      <td>-0.150168</td>\n",
              "      <td>-0.009983</td>\n",
              "      <td>-0.248523</td>\n",
              "      <td>mlk_quote</td>\n",
              "    </tr>\n",
              "    <tr>\n",
              "      <th>malcolmx_quote</th>\n",
              "      <td>-0.161349</td>\n",
              "      <td>-0.102426</td>\n",
              "      <td>-0.128737</td>\n",
              "      <td>malcolmx_quote</td>\n",
              "    </tr>\n",
              "    <tr>\n",
              "      <th>marx_quote</th>\n",
              "      <td>-0.036551</td>\n",
              "      <td>0.046883</td>\n",
              "      <td>-0.062861</td>\n",
              "      <td>marx_quote</td>\n",
              "    </tr>\n",
              "    <tr>\n",
              "      <th>harvey_quote</th>\n",
              "      <td>0.075976</td>\n",
              "      <td>0.052593</td>\n",
              "      <td>-0.021632</td>\n",
              "      <td>harvey_quote</td>\n",
              "    </tr>\n",
              "    <tr>\n",
              "      <th>beauvoir_quote</th>\n",
              "      <td>-0.056727</td>\n",
              "      <td>-0.052869</td>\n",
              "      <td>-0.127891</td>\n",
              "      <td>beauvoir_quote</td>\n",
              "    </tr>\n",
              "    <tr>\n",
              "      <th>butler_quote</th>\n",
              "      <td>0.019791</td>\n",
              "      <td>0.063330</td>\n",
              "      <td>-0.089335</td>\n",
              "      <td>butler_quote</td>\n",
              "    </tr>\n",
              "    <tr>\n",
              "      <th>mlk_wiki</th>\n",
              "      <td>-0.038077</td>\n",
              "      <td>-0.066803</td>\n",
              "      <td>-0.017715</td>\n",
              "      <td>mlk_wiki</td>\n",
              "    </tr>\n",
              "    <tr>\n",
              "      <th>malcolmx_wiki</th>\n",
              "      <td>0.046458</td>\n",
              "      <td>0.013458</td>\n",
              "      <td>0.060540</td>\n",
              "      <td>malcolmx_wiki</td>\n",
              "    </tr>\n",
              "    <tr>\n",
              "      <th>marx_wiki</th>\n",
              "      <td>0.073328</td>\n",
              "      <td>0.162108</td>\n",
              "      <td>0.086733</td>\n",
              "      <td>marx_wiki</td>\n",
              "    </tr>\n",
              "    <tr>\n",
              "      <th>harvey_wiki</th>\n",
              "      <td>0.101465</td>\n",
              "      <td>-0.017416</td>\n",
              "      <td>0.135953</td>\n",
              "      <td>harvey_wiki</td>\n",
              "    </tr>\n",
              "    <tr>\n",
              "      <th>beauvoir_wiki</th>\n",
              "      <td>-0.055961</td>\n",
              "      <td>-0.055525</td>\n",
              "      <td>-0.070295</td>\n",
              "      <td>beauvoir_wiki</td>\n",
              "    </tr>\n",
              "    <tr>\n",
              "      <th>butler_wiki</th>\n",
              "      <td>0.027040</td>\n",
              "      <td>0.096671</td>\n",
              "      <td>-0.118396</td>\n",
              "      <td>butler_wiki</td>\n",
              "    </tr>\n",
              "    <tr>\n",
              "      <th>birmjail</th>\n",
              "      <td>-0.072472</td>\n",
              "      <td>0.075918</td>\n",
              "      <td>-0.178385</td>\n",
              "      <td>birmjail</td>\n",
              "    </tr>\n",
              "    <tr>\n",
              "      <th>byanymeans</th>\n",
              "      <td>0.022863</td>\n",
              "      <td>-0.026163</td>\n",
              "      <td>-0.010787</td>\n",
              "      <td>byanymeans</td>\n",
              "    </tr>\n",
              "    <tr>\n",
              "      <th>communist manifesto</th>\n",
              "      <td>0.152289</td>\n",
              "      <td>0.131117</td>\n",
              "      <td>0.088069</td>\n",
              "      <td>communist manifesto</td>\n",
              "    </tr>\n",
              "    <tr>\n",
              "      <th>limits of capital</th>\n",
              "      <td>0.123404</td>\n",
              "      <td>0.023839</td>\n",
              "      <td>0.086643</td>\n",
              "      <td>limits of capital</td>\n",
              "    </tr>\n",
              "    <tr>\n",
              "      <th>second sex</th>\n",
              "      <td>-0.036256</td>\n",
              "      <td>0.044916</td>\n",
              "      <td>-0.144571</td>\n",
              "      <td>second sex</td>\n",
              "    </tr>\n",
              "    <tr>\n",
              "      <th>gender trouble</th>\n",
              "      <td>0.064422</td>\n",
              "      <td>0.065298</td>\n",
              "      <td>-0.069704</td>\n",
              "      <td>gender trouble</td>\n",
              "    </tr>\n",
              "  </tbody>\n",
              "</table>\n",
              "</div>\n",
              "      <button class=\"colab-df-convert\" onclick=\"convertToInteractive('df-a0c63da8-624f-446e-b4db-7cda6040f505')\"\n",
              "              title=\"Convert this dataframe to an interactive table.\"\n",
              "              style=\"display:none;\">\n",
              "        \n",
              "  <svg xmlns=\"http://www.w3.org/2000/svg\" height=\"24px\"viewBox=\"0 0 24 24\"\n",
              "       width=\"24px\">\n",
              "    <path d=\"M0 0h24v24H0V0z\" fill=\"none\"/>\n",
              "    <path d=\"M18.56 5.44l.94 2.06.94-2.06 2.06-.94-2.06-.94-.94-2.06-.94 2.06-2.06.94zm-11 1L8.5 8.5l.94-2.06 2.06-.94-2.06-.94L8.5 2.5l-.94 2.06-2.06.94zm10 10l.94 2.06.94-2.06 2.06-.94-2.06-.94-.94-2.06-.94 2.06-2.06.94z\"/><path d=\"M17.41 7.96l-1.37-1.37c-.4-.4-.92-.59-1.43-.59-.52 0-1.04.2-1.43.59L10.3 9.45l-7.72 7.72c-.78.78-.78 2.05 0 2.83L4 21.41c.39.39.9.59 1.41.59.51 0 1.02-.2 1.41-.59l7.78-7.78 2.81-2.81c.8-.78.8-2.07 0-2.86zM5.41 20L4 18.59l7.72-7.72 1.47 1.35L5.41 20z\"/>\n",
              "  </svg>\n",
              "      </button>\n",
              "      \n",
              "  <style>\n",
              "    .colab-df-container {\n",
              "      display:flex;\n",
              "      flex-wrap:wrap;\n",
              "      gap: 12px;\n",
              "    }\n",
              "\n",
              "    .colab-df-convert {\n",
              "      background-color: #E8F0FE;\n",
              "      border: none;\n",
              "      border-radius: 50%;\n",
              "      cursor: pointer;\n",
              "      display: none;\n",
              "      fill: #1967D2;\n",
              "      height: 32px;\n",
              "      padding: 0 0 0 0;\n",
              "      width: 32px;\n",
              "    }\n",
              "\n",
              "    .colab-df-convert:hover {\n",
              "      background-color: #E2EBFA;\n",
              "      box-shadow: 0px 1px 2px rgba(60, 64, 67, 0.3), 0px 1px 3px 1px rgba(60, 64, 67, 0.15);\n",
              "      fill: #174EA6;\n",
              "    }\n",
              "\n",
              "    [theme=dark] .colab-df-convert {\n",
              "      background-color: #3B4455;\n",
              "      fill: #D2E3FC;\n",
              "    }\n",
              "\n",
              "    [theme=dark] .colab-df-convert:hover {\n",
              "      background-color: #434B5C;\n",
              "      box-shadow: 0px 1px 3px 1px rgba(0, 0, 0, 0.15);\n",
              "      filter: drop-shadow(0px 1px 2px rgba(0, 0, 0, 0.3));\n",
              "      fill: #FFFFFF;\n",
              "    }\n",
              "  </style>\n",
              "\n",
              "      <script>\n",
              "        const buttonEl =\n",
              "          document.querySelector('#df-a0c63da8-624f-446e-b4db-7cda6040f505 button.colab-df-convert');\n",
              "        buttonEl.style.display =\n",
              "          google.colab.kernel.accessAllowed ? 'block' : 'none';\n",
              "\n",
              "        async function convertToInteractive(key) {\n",
              "          const element = document.querySelector('#df-a0c63da8-624f-446e-b4db-7cda6040f505');\n",
              "          const dataTable =\n",
              "            await google.colab.kernel.invokeFunction('convertToInteractive',\n",
              "                                                     [key], {});\n",
              "          if (!dataTable) return;\n",
              "\n",
              "          const docLinkHtml = 'Like what you see? Visit the ' +\n",
              "            '<a target=\"_blank\" href=https://colab.research.google.com/notebooks/data_table.ipynb>data table notebook</a>'\n",
              "            + ' to learn more about interactive tables.';\n",
              "          element.innerHTML = '';\n",
              "          dataTable['output_type'] = 'display_data';\n",
              "          await google.colab.output.renderOutput(dataTable, element);\n",
              "          const docLink = document.createElement('div');\n",
              "          docLink.innerHTML = docLinkHtml;\n",
              "          element.appendChild(docLink);\n",
              "        }\n",
              "      </script>\n",
              "    </div>\n",
              "  </div>\n",
              "  "
            ],
            "text/plain": [
              "                     Violence      Hate    Action               labels\n",
              "mlk_quote           -0.150168 -0.009983 -0.248523            mlk_quote\n",
              "malcolmx_quote      -0.161349 -0.102426 -0.128737       malcolmx_quote\n",
              "marx_quote          -0.036551  0.046883 -0.062861           marx_quote\n",
              "harvey_quote         0.075976  0.052593 -0.021632         harvey_quote\n",
              "beauvoir_quote      -0.056727 -0.052869 -0.127891       beauvoir_quote\n",
              "butler_quote         0.019791  0.063330 -0.089335         butler_quote\n",
              "mlk_wiki            -0.038077 -0.066803 -0.017715             mlk_wiki\n",
              "malcolmx_wiki        0.046458  0.013458  0.060540        malcolmx_wiki\n",
              "marx_wiki            0.073328  0.162108  0.086733            marx_wiki\n",
              "harvey_wiki          0.101465 -0.017416  0.135953          harvey_wiki\n",
              "beauvoir_wiki       -0.055961 -0.055525 -0.070295        beauvoir_wiki\n",
              "butler_wiki          0.027040  0.096671 -0.118396          butler_wiki\n",
              "birmjail            -0.072472  0.075918 -0.178385             birmjail\n",
              "byanymeans           0.022863 -0.026163 -0.010787           byanymeans\n",
              "communist manifesto  0.152289  0.131117  0.088069  communist manifesto\n",
              "limits of capital    0.123404  0.023839  0.086643    limits of capital\n",
              "second sex          -0.036256  0.044916 -0.144571           second sex\n",
              "gender trouble       0.064422  0.065298 -0.069704       gender trouble"
            ]
          },
          "execution_count": 125,
          "metadata": {},
          "output_type": "execute_result"
        }
      ],
      "source": [
        "Alltxtdf"
      ]
    },
    {
      "cell_type": "code",
      "execution_count": 44,
      "metadata": {
        "id": "t7p0RkbEn0VK"
      },
      "outputs": [],
      "source": [
        "diffdf = pd.DataFrame(index = ['MLK', 'MalcolmX', 'Marx', 'Harvey', 'Beauvoir', 'Butler'])"
      ]
    },
    {
      "cell_type": "code",
      "execution_count": 45,
      "metadata": {
        "id": "nbvTDJWioB0n"
      },
      "outputs": [],
      "source": [
        "diffdf['Wiki_Manuscript_Action'] = Alltxtdf[6:12]['Action'].values - Alltxtdf[-6:]['Action'].values\n",
        "diffdf['Wiki_Manuscript_Hate'] = Alltxtdf[6:12]['Hate'].values - Alltxtdf[-6:]['Hate'].values\n",
        "diffdf['Wiki_Manuscript_Violence'] = Alltxtdf[6:12]['Violence'].values - Alltxtdf[-6:]['Violence'].values"
      ]
    },
    {
      "cell_type": "code",
      "execution_count": 46,
      "metadata": {
        "id": "A9br0LmX1Mnv"
      },
      "outputs": [],
      "source": [
        "diffdf['Quotes_Manuscript_Action'] = Alltxtdf[:6]['Action'].values - Alltxtdf[-6:]['Action'].values\n",
        "diffdf['Quotes_Manuscript_Hate'] = Alltxtdf[:6]['Hate'].values - Alltxtdf[-6:]['Hate'].values\n",
        "diffdf['Quotes_Manuscript_Violence'] = Alltxtdf[:6]['Violence'].values - Alltxtdf[-6:]['Violence'].values"
      ]
    },
    {
      "cell_type": "code",
      "execution_count": 47,
      "metadata": {
        "id": "SmWxLk8s1MxP"
      },
      "outputs": [],
      "source": [
        "diffdf['Quotes_Wiki_Violence'] = Alltxtdf[:6]['Violence'].values - Alltxtdf[6:12]['Violence'].values\n",
        "diffdf['Quotes_Wiki_Hate'] = Alltxtdf[:6]['Hate'].values - Alltxtdf[6:12]['Hate'].values\n",
        "diffdf['Quotes_Wiki_Action'] = Alltxtdf[:6]['Action'].values - Alltxtdf[6:12]['Action'].values"
      ]
    },
    {
      "cell_type": "code",
      "execution_count": 48,
      "metadata": {
        "colab": {
          "base_uri": "https://localhost:8080/",
          "height": 322
        },
        "id": "aZp32BkU2Inc",
        "outputId": "42a4b125-2f30-4b34-aa27-47d79933f814"
      },
      "outputs": [
        {
          "output_type": "execute_result",
          "data": {
            "text/plain": [
              "<matplotlib.axes._subplots.AxesSubplot at 0x7fc0e6043850>"
            ]
          },
          "metadata": {},
          "execution_count": 48
        },
        {
          "output_type": "display_data",
          "data": {
            "text/plain": [
              "<Figure size 432x288 with 1 Axes>"
            ],
            "image/png": "[encoded data removed]"
          },
          "metadata": {
            "needs_background": "light"
          }
        }
      ],
      "source": [
        "diffdf[['Quotes_Manuscript_Violence',\t'Quotes_Manuscript_Hate',\t'Quotes_Manuscript_Action']].plot(kind = 'bar')"
      ]
    },
    {
      "cell_type": "code",
      "execution_count": 49,
      "metadata": {
        "colab": {
          "base_uri": "https://localhost:8080/",
          "height": 322
        },
        "id": "rVAosNwL2IxP",
        "outputId": "c6ee27fa-6458-41dc-f325-0e129faf8159"
      },
      "outputs": [
        {
          "output_type": "execute_result",
          "data": {
            "text/plain": [
              "<matplotlib.axes._subplots.AxesSubplot at 0x7fc0e0f63d10>"
            ]
          },
          "metadata": {},
          "execution_count": 49
        },
        {
          "output_type": "display_data",
          "data": {
            "text/plain": [
              "<Figure size 432x288 with 1 Axes>"
            ],
            "image/png": "[encoded data removed]"
          },
          "metadata": {
            "needs_background": "light"
          }
        }
      ],
      "source": [
        "diffdf[['Quotes_Wiki_Violence',\t'Quotes_Wiki_Hate',\t'Quotes_Wiki_Action']].plot(kind = 'bar')"
      ]
    },
    {
      "cell_type": "code",
      "execution_count": 50,
      "metadata": {
        "colab": {
          "base_uri": "https://localhost:8080/",
          "height": 322
        },
        "id": "PwvcniRgrT17",
        "outputId": "83c85cd7-8d93-4403-a701-87a48b13f441"
      },
      "outputs": [
        {
          "output_type": "execute_result",
          "data": {
            "text/plain": [
              "<matplotlib.axes._subplots.AxesSubplot at 0x7fc0e0eeb790>"
            ]
          },
          "metadata": {},
          "execution_count": 50
        },
        {
          "output_type": "display_data",
          "data": {
            "text/plain": [
              "<Figure size 432x288 with 1 Axes>"
            ],
            "image/png": "[encoded data removed]"
          },
          "metadata": {
            "needs_background": "light"
          }
        }
      ],
      "source": [
        "diffdf[['Wiki_Manuscript_Violence',\t'Wiki_Manuscript_Hate',\t'Wiki_Manuscript_Action']].plot(kind = 'bar')"
      ]
    }
  ],
  "metadata": {
    "accelerator": "GPU",
    "colab": {
      "collapsed_sections": [],
      "machine_shape": "hm",
      "name": "sentence_embeddings.ipynb",
      "provenance": []
    },
    "kernelspec": {
      "display_name": "Python 3 (ipykernel)",
      "language": "python",
      "name": "python3"
    },
    "language_info": {
      "codemirror_mode": {
        "name": "ipython",
        "version": 3
      },
      "file_extension": ".py",
      "mimetype": "text/x-python",
      "name": "python",
      "nbconvert_exporter": "python",
      "pygments_lexer": "ipython3",
      "version": "3.8.8"
    },
    "widgets": {
      "application/vnd.jupyter.widget-state+json": {
        "c8af764e15b8420f899a14912428b53b": {
          "model_module": "@jupyter-widgets/controls",
          "model_name": "HBoxModel",
          "model_module_version": "1.5.0",
          "state": {
            "_dom_classes": [],
            "_model_module": "@jupyter-widgets/controls",
            "_model_module_version": "1.5.0",
            "_model_name": "HBoxModel",
            "_view_count": null,
            "_view_module": "@jupyter-widgets/controls",
            "_view_module_version": "1.5.0",
            "_view_name": "HBoxView",
            "box_style": "",
            "children": [
              "IPY_MODEL_a028a1753c1647729dabf03876263b42",
              "IPY_MODEL_c7a5a322791943e788ed6b13317e1ddc",
              "IPY_MODEL_5d8ac9a528c64bc7813be10516487de9"
            ],
            "layout": "IPY_MODEL_a64792d539bd44fd8d38bda2e69c161a"
          }
        },
        "a028a1753c1647729dabf03876263b42": {
          "model_module": "@jupyter-widgets/controls",
          "model_name": "HTMLModel",
          "model_module_version": "1.5.0",
          "state": {
            "_dom_classes": [],
            "_model_module": "@jupyter-widgets/controls",
            "_model_module_version": "1.5.0",
            "_model_name": "HTMLModel",
            "_view_count": null,
            "_view_module": "@jupyter-widgets/controls",
            "_view_module_version": "1.5.0",
            "_view_name": "HTMLView",
            "description": "",
            "description_tooltip": null,
            "layout": "IPY_MODEL_3bc43a52b37f4ec287644ad77ae97564",
            "placeholder": "​",
            "style": "IPY_MODEL_0ace8bdf40504900b8ce5237a2917791",
            "value": "Downloading: 100%"
          }
        },
        "c7a5a322791943e788ed6b13317e1ddc": {
          "model_module": "@jupyter-widgets/controls",
          "model_name": "FloatProgressModel",
          "model_module_version": "1.5.0",
          "state": {
            "_dom_classes": [],
            "_model_module": "@jupyter-widgets/controls",
            "_model_module_version": "1.5.0",
            "_model_name": "FloatProgressModel",
            "_view_count": null,
            "_view_module": "@jupyter-widgets/controls",
            "_view_module_version": "1.5.0",
            "_view_name": "ProgressView",
            "bar_style": "success",
            "description": "",
            "description_tooltip": null,
            "layout": "IPY_MODEL_bdf71281bf02402c92ac9273ad4509e9",
            "max": 345,
            "min": 0,
            "orientation": "horizontal",
            "style": "IPY_MODEL_6d86172077984b43b072e79a619b7931",
            "value": 345
          }
        },
        "5d8ac9a528c64bc7813be10516487de9": {
          "model_module": "@jupyter-widgets/controls",
          "model_name": "HTMLModel",
          "model_module_version": "1.5.0",
          "state": {
            "_dom_classes": [],
            "_model_module": "@jupyter-widgets/controls",
            "_model_module_version": "1.5.0",
            "_model_name": "HTMLModel",
            "_view_count": null,
            "_view_module": "@jupyter-widgets/controls",
            "_view_module_version": "1.5.0",
            "_view_name": "HTMLView",
            "description": "",
            "description_tooltip": null,
            "layout": "IPY_MODEL_d89268814dcc4e1e844a88a71cfa97ce",
            "placeholder": "​",
            "style": "IPY_MODEL_f0a4349dfeb24372831210717846dde3",
            "value": " 345/345 [00:00&lt;00:00, 5.33kB/s]"
          }
        },
        "a64792d539bd44fd8d38bda2e69c161a": {
          "model_module": "@jupyter-widgets/base",
          "model_name": "LayoutModel",
          "model_module_version": "1.2.0",
          "state": {
            "_model_module": "@jupyter-widgets/base",
            "_model_module_version": "1.2.0",
            "_model_name": "LayoutModel",
            "_view_count": null,
            "_view_module": "@jupyter-widgets/base",
            "_view_module_version": "1.2.0",
            "_view_name": "LayoutView",
            "align_content": null,
            "align_items": null,
            "align_self": null,
            "border": null,
            "bottom": null,
            "display": null,
            "flex": null,
            "flex_flow": null,
            "grid_area": null,
            "grid_auto_columns": null,
            "grid_auto_flow": null,
            "grid_auto_rows": null,
            "grid_column": null,
            "grid_gap": null,
            "grid_row": null,
            "grid_template_areas": null,
            "grid_template_columns": null,
            "grid_template_rows": null,
            "height": null,
            "justify_content": null,
            "justify_items": null,
            "left": null,
            "margin": null,
            "max_height": null,
            "max_width": null,
            "min_height": null,
            "min_width": null,
            "object_fit": null,
            "object_position": null,
            "order": null,
            "overflow": null,
            "overflow_x": null,
            "overflow_y": null,
            "padding": null,
            "right": null,
            "top": null,
            "visibility": null,
            "width": null
          }
        },
        "3bc43a52b37f4ec287644ad77ae97564": {
          "model_module": "@jupyter-widgets/base",
          "model_name": "LayoutModel",
          "model_module_version": "1.2.0",
          "state": {
            "_model_module": "@jupyter-widgets/base",
            "_model_module_version": "1.2.0",
            "_model_name": "LayoutModel",
            "_view_count": null,
            "_view_module": "@jupyter-widgets/base",
            "_view_module_version": "1.2.0",
            "_view_name": "LayoutView",
            "align_content": null,
            "align_items": null,
            "align_self": null,
            "border": null,
            "bottom": null,
            "display": null,
            "flex": null,
            "flex_flow": null,
            "grid_area": null,
            "grid_auto_columns": null,
            "grid_auto_flow": null,
            "grid_auto_rows": null,
            "grid_column": null,
            "grid_gap": null,
            "grid_row": null,
            "grid_template_areas": null,
            "grid_template_columns": null,
            "grid_template_rows": null,
            "height": null,
            "justify_content": null,
            "justify_items": null,
            "left": null,
            "margin": null,
            "max_height": null,
            "max_width": null,
            "min_height": null,
            "min_width": null,
            "object_fit": null,
            "object_position": null,
            "order": null,
            "overflow": null,
            "overflow_x": null,
            "overflow_y": null,
            "padding": null,
            "right": null,
            "top": null,
            "visibility": null,
            "width": null
          }
        },
        "0ace8bdf40504900b8ce5237a2917791": {
          "model_module": "@jupyter-widgets/controls",
          "model_name": "DescriptionStyleModel",
          "model_module_version": "1.5.0",
          "state": {
            "_model_module": "@jupyter-widgets/controls",
            "_model_module_version": "1.5.0",
            "_model_name": "DescriptionStyleModel",
            "_view_count": null,
            "_view_module": "@jupyter-widgets/base",
            "_view_module_version": "1.2.0",
            "_view_name": "StyleView",
            "description_width": ""
          }
        },
        "bdf71281bf02402c92ac9273ad4509e9": {
          "model_module": "@jupyter-widgets/base",
          "model_name": "LayoutModel",
          "model_module_version": "1.2.0",
          "state": {
            "_model_module": "@jupyter-widgets/base",
            "_model_module_version": "1.2.0",
            "_model_name": "LayoutModel",
            "_view_count": null,
            "_view_module": "@jupyter-widgets/base",
            "_view_module_version": "1.2.0",
            "_view_name": "LayoutView",
            "align_content": null,
            "align_items": null,
            "align_self": null,
            "border": null,
            "bottom": null,
            "display": null,
            "flex": null,
            "flex_flow": null,
            "grid_area": null,
            "grid_auto_columns": null,
            "grid_auto_flow": null,
            "grid_auto_rows": null,
            "grid_column": null,
            "grid_gap": null,
            "grid_row": null,
            "grid_template_areas": null,
            "grid_template_columns": null,
            "grid_template_rows": null,
            "height": null,
            "justify_content": null,
            "justify_items": null,
            "left": null,
            "margin": null,
            "max_height": null,
            "max_width": null,
            "min_height": null,
            "min_width": null,
            "object_fit": null,
            "object_position": null,
            "order": null,
            "overflow": null,
            "overflow_x": null,
            "overflow_y": null,
            "padding": null,
            "right": null,
            "top": null,
            "visibility": null,
            "width": null
          }
        },
        "6d86172077984b43b072e79a619b7931": {
          "model_module": "@jupyter-widgets/controls",
          "model_name": "ProgressStyleModel",
          "model_module_version": "1.5.0",
          "state": {
            "_model_module": "@jupyter-widgets/controls",
            "_model_module_version": "1.5.0",
            "_model_name": "ProgressStyleModel",
            "_view_count": null,
            "_view_module": "@jupyter-widgets/base",
            "_view_module_version": "1.2.0",
            "_view_name": "StyleView",
            "bar_color": null,
            "description_width": ""
          }
        },
        "d89268814dcc4e1e844a88a71cfa97ce": {
          "model_module": "@jupyter-widgets/base",
          "model_name": "LayoutModel",
          "model_module_version": "1.2.0",
          "state": {
            "_model_module": "@jupyter-widgets/base",
            "_model_module_version": "1.2.0",
            "_model_name": "LayoutModel",
            "_view_count": null,
            "_view_module": "@jupyter-widgets/base",
            "_view_module_version": "1.2.0",
            "_view_name": "LayoutView",
            "align_content": null,
            "align_items": null,
            "align_self": null,
            "border": null,
            "bottom": null,
            "display": null,
            "flex": null,
            "flex_flow": null,
            "grid_area": null,
            "grid_auto_columns": null,
            "grid_auto_flow": null,
            "grid_auto_rows": null,
            "grid_column": null,
            "grid_gap": null,
            "grid_row": null,
            "grid_template_areas": null,
            "grid_template_columns": null,
            "grid_template_rows": null,
            "height": null,
            "justify_content": null,
            "justify_items": null,
            "left": null,
            "margin": null,
            "max_height": null,
            "max_width": null,
            "min_height": null,
            "min_width": null,
            "object_fit": null,
            "object_position": null,
            "order": null,
            "overflow": null,
            "overflow_x": null,
            "overflow_y": null,
            "padding": null,
            "right": null,
            "top": null,
            "visibility": null,
            "width": null
          }
        },
        "f0a4349dfeb24372831210717846dde3": {
          "model_module": "@jupyter-widgets/controls",
          "model_name": "DescriptionStyleModel",
          "model_module_version": "1.5.0",
          "state": {
            "_model_module": "@jupyter-widgets/controls",
            "_model_module_version": "1.5.0",
            "_model_name": "DescriptionStyleModel",
            "_view_count": null,
            "_view_module": "@jupyter-widgets/base",
            "_view_module_version": "1.2.0",
            "_view_name": "StyleView",
            "description_width": ""
          }
        },
        "d13e175fea554bc29ef5a18a1eea0ce8": {
          "model_module": "@jupyter-widgets/controls",
          "model_name": "HBoxModel",
          "model_module_version": "1.5.0",
          "state": {
            "_dom_classes": [],
            "_model_module": "@jupyter-widgets/controls",
            "_model_module_version": "1.5.0",
            "_model_name": "HBoxModel",
            "_view_count": null,
            "_view_module": "@jupyter-widgets/controls",
            "_view_module_version": "1.5.0",
            "_view_name": "HBoxView",
            "box_style": "",
            "children": [
              "IPY_MODEL_223588a33da242b2ac2bb5b44bcf5ace",
              "IPY_MODEL_c471a35ce2db44859821d46e16fd8481",
              "IPY_MODEL_c5db281d7d71493baaaef31a2fcbf8bd"
            ],
            "layout": "IPY_MODEL_8365116abc9a41849548220765b20b29"
          }
        },
        "223588a33da242b2ac2bb5b44bcf5ace": {
          "model_module": "@jupyter-widgets/controls",
          "model_name": "HTMLModel",
          "model_module_version": "1.5.0",
          "state": {
            "_dom_classes": [],
            "_model_module": "@jupyter-widgets/controls",
            "_model_module_version": "1.5.0",
            "_model_name": "HTMLModel",
            "_view_count": null,
            "_view_module": "@jupyter-widgets/controls",
            "_view_module_version": "1.5.0",
            "_view_name": "HTMLView",
            "description": "",
            "description_tooltip": null,
            "layout": "IPY_MODEL_51c4705513a7405ba009490e7381c238",
            "placeholder": "​",
            "style": "IPY_MODEL_21e739f1056a43c9bc02ca525cfa1d9a",
            "value": "Downloading: 100%"
          }
        },
        "c471a35ce2db44859821d46e16fd8481": {
          "model_module": "@jupyter-widgets/controls",
          "model_name": "FloatProgressModel",
          "model_module_version": "1.5.0",
          "state": {
            "_dom_classes": [],
            "_model_module": "@jupyter-widgets/controls",
            "_model_module_version": "1.5.0",
            "_model_name": "FloatProgressModel",
            "_view_count": null,
            "_view_module": "@jupyter-widgets/controls",
            "_view_module_version": "1.5.0",
            "_view_name": "ProgressView",
            "bar_style": "success",
            "description": "",
            "description_tooltip": null,
            "layout": "IPY_MODEL_89a4adcc4de742ba8dd4c9edd295a548",
            "max": 4014,
            "min": 0,
            "orientation": "horizontal",
            "style": "IPY_MODEL_c73e1d50d59547a9896d879176c02c40",
            "value": 4014
          }
        },
        "c5db281d7d71493baaaef31a2fcbf8bd": {
          "model_module": "@jupyter-widgets/controls",
          "model_name": "HTMLModel",
          "model_module_version": "1.5.0",
          "state": {
            "_dom_classes": [],
            "_model_module": "@jupyter-widgets/controls",
            "_model_module_version": "1.5.0",
            "_model_name": "HTMLModel",
            "_view_count": null,
            "_view_module": "@jupyter-widgets/controls",
            "_view_module_version": "1.5.0",
            "_view_name": "HTMLView",
            "description": "",
            "description_tooltip": null,
            "layout": "IPY_MODEL_e9a6bedef0904dd4bd7d022bc82ddf1a",
            "placeholder": "​",
            "style": "IPY_MODEL_9d0fe700324c4ce9b2f9c4bd49cbe3ce",
            "value": " 4.01k/4.01k [00:00&lt;00:00, 130kB/s]"
          }
        },
        "8365116abc9a41849548220765b20b29": {
          "model_module": "@jupyter-widgets/base",
          "model_name": "LayoutModel",
          "model_module_version": "1.2.0",
          "state": {
            "_model_module": "@jupyter-widgets/base",
            "_model_module_version": "1.2.0",
            "_model_name": "LayoutModel",
            "_view_count": null,
            "_view_module": "@jupyter-widgets/base",
            "_view_module_version": "1.2.0",
            "_view_name": "LayoutView",
            "align_content": null,
            "align_items": null,
            "align_self": null,
            "border": null,
            "bottom": null,
            "display": null,
            "flex": null,
            "flex_flow": null,
            "grid_area": null,
            "grid_auto_columns": null,
            "grid_auto_flow": null,
            "grid_auto_rows": null,
            "grid_column": null,
            "grid_gap": null,
            "grid_row": null,
            "grid_template_areas": null,
            "grid_template_columns": null,
            "grid_template_rows": null,
            "height": null,
            "justify_content": null,
            "justify_items": null,
            "left": null,
            "margin": null,
            "max_height": null,
            "max_width": null,
            "min_height": null,
            "min_width": null,
            "object_fit": null,
            "object_position": null,
            "order": null,
            "overflow": null,
            "overflow_x": null,
            "overflow_y": null,
            "padding": null,
            "right": null,
            "top": null,
            "visibility": null,
            "width": null
          }
        },
        "51c4705513a7405ba009490e7381c238": {
          "model_module": "@jupyter-widgets/base",
          "model_name": "LayoutModel",
          "model_module_version": "1.2.0",
          "state": {
            "_model_module": "@jupyter-widgets/base",
            "_model_module_version": "1.2.0",
            "_model_name": "LayoutModel",
            "_view_count": null,
            "_view_module": "@jupyter-widgets/base",
            "_view_module_version": "1.2.0",
            "_view_name": "LayoutView",
            "align_content": null,
            "align_items": null,
            "align_self": null,
            "border": null,
            "bottom": null,
            "display": null,
            "flex": null,
            "flex_flow": null,
            "grid_area": null,
            "grid_auto_columns": null,
            "grid_auto_flow": null,
            "grid_auto_rows": null,
            "grid_column": null,
            "grid_gap": null,
            "grid_row": null,
            "grid_template_areas": null,
            "grid_template_columns": null,
            "grid_template_rows": null,
            "height": null,
            "justify_content": null,
            "justify_items": null,
            "left": null,
            "margin": null,
            "max_height": null,
            "max_width": null,
            "min_height": null,
            "min_width": null,
            "object_fit": null,
            "object_position": null,
            "order": null,
            "overflow": null,
            "overflow_x": null,
            "overflow_y": null,
            "padding": null,
            "right": null,
            "top": null,
            "visibility": null,
            "width": null
          }
        },
        "21e739f1056a43c9bc02ca525cfa1d9a": {
          "model_module": "@jupyter-widgets/controls",
          "model_name": "DescriptionStyleModel",
          "model_module_version": "1.5.0",
          "state": {
            "_model_module": "@jupyter-widgets/controls",
            "_model_module_version": "1.5.0",
            "_model_name": "DescriptionStyleModel",
            "_view_count": null,
            "_view_module": "@jupyter-widgets/base",
            "_view_module_version": "1.2.0",
            "_view_name": "StyleView",
            "description_width": ""
          }
        },
        "89a4adcc4de742ba8dd4c9edd295a548": {
          "model_module": "@jupyter-widgets/base",
          "model_name": "LayoutModel",
          "model_module_version": "1.2.0",
          "state": {
            "_model_module": "@jupyter-widgets/base",
            "_model_module_version": "1.2.0",
            "_model_name": "LayoutModel",
            "_view_count": null,
            "_view_module": "@jupyter-widgets/base",
            "_view_module_version": "1.2.0",
            "_view_name": "LayoutView",
            "align_content": null,
            "align_items": null,
            "align_self": null,
            "border": null,
            "bottom": null,
            "display": null,
            "flex": null,
            "flex_flow": null,
            "grid_area": null,
            "grid_auto_columns": null,
            "grid_auto_flow": null,
            "grid_auto_rows": null,
            "grid_column": null,
            "grid_gap": null,
            "grid_row": null,
            "grid_template_areas": null,
            "grid_template_columns": null,
            "grid_template_rows": null,
            "height": null,
            "justify_content": null,
            "justify_items": null,
            "left": null,
            "margin": null,
            "max_height": null,
            "max_width": null,
            "min_height": null,
            "min_width": null,
            "object_fit": null,
            "object_position": null,
            "order": null,
            "overflow": null,
            "overflow_x": null,
            "overflow_y": null,
            "padding": null,
            "right": null,
            "top": null,
            "visibility": null,
            "width": null
          }
        },
        "c73e1d50d59547a9896d879176c02c40": {
          "model_module": "@jupyter-widgets/controls",
          "model_name": "ProgressStyleModel",
          "model_module_version": "1.5.0",
          "state": {
            "_model_module": "@jupyter-widgets/controls",
            "_model_module_version": "1.5.0",
            "_model_name": "ProgressStyleModel",
            "_view_count": null,
            "_view_module": "@jupyter-widgets/base",
            "_view_module_version": "1.2.0",
            "_view_name": "StyleView",
            "bar_color": null,
            "description_width": ""
          }
        },
        "e9a6bedef0904dd4bd7d022bc82ddf1a": {
          "model_module": "@jupyter-widgets/base",
          "model_name": "LayoutModel",
          "model_module_version": "1.2.0",
          "state": {
            "_model_module": "@jupyter-widgets/base",
            "_model_module_version": "1.2.0",
            "_model_name": "LayoutModel",
            "_view_count": null,
            "_view_module": "@jupyter-widgets/base",
            "_view_module_version": "1.2.0",
            "_view_name": "LayoutView",
            "align_content": null,
            "align_items": null,
            "align_self": null,
            "border": null,
            "bottom": null,
            "display": null,
            "flex": null,
            "flex_flow": null,
            "grid_area": null,
            "grid_auto_columns": null,
            "grid_auto_flow": null,
            "grid_auto_rows": null,
            "grid_column": null,
            "grid_gap": null,
            "grid_row": null,
            "grid_template_areas": null,
            "grid_template_columns": null,
            "grid_template_rows": null,
            "height": null,
            "justify_content": null,
            "justify_items": null,
            "left": null,
            "margin": null,
            "max_height": null,
            "max_width": null,
            "min_height": null,
            "min_width": null,
            "object_fit": null,
            "object_position": null,
            "order": null,
            "overflow": null,
            "overflow_x": null,
            "overflow_y": null,
            "padding": null,
            "right": null,
            "top": null,
            "visibility": null,
            "width": null
          }
        },
        "9d0fe700324c4ce9b2f9c4bd49cbe3ce": {
          "model_module": "@jupyter-widgets/controls",
          "model_name": "DescriptionStyleModel",
          "model_module_version": "1.5.0",
          "state": {
            "_model_module": "@jupyter-widgets/controls",
            "_model_module_version": "1.5.0",
            "_model_name": "DescriptionStyleModel",
            "_view_count": null,
            "_view_module": "@jupyter-widgets/base",
            "_view_module_version": "1.2.0",
            "_view_name": "StyleView",
            "description_width": ""
          }
        },
        "533f0d81436c442487d9c051e3007fb3": {
          "model_module": "@jupyter-widgets/controls",
          "model_name": "HBoxModel",
          "model_module_version": "1.5.0",
          "state": {
            "_dom_classes": [],
            "_model_module": "@jupyter-widgets/controls",
            "_model_module_version": "1.5.0",
            "_model_name": "HBoxModel",
            "_view_count": null,
            "_view_module": "@jupyter-widgets/controls",
            "_view_module_version": "1.5.0",
            "_view_name": "HBoxView",
            "box_style": "",
            "children": [
              "IPY_MODEL_b1cee3eca9e54ff9ad1d347e1f429cf0",
              "IPY_MODEL_964986386e644285b9da991a50cc0c77",
              "IPY_MODEL_82003ef1d04847a19b2c921f3548e9da"
            ],
            "layout": "IPY_MODEL_c96863fb3bd44d3f920c58142525b6d7"
          }
        },
        "b1cee3eca9e54ff9ad1d347e1f429cf0": {
          "model_module": "@jupyter-widgets/controls",
          "model_name": "HTMLModel",
          "model_module_version": "1.5.0",
          "state": {
            "_dom_classes": [],
            "_model_module": "@jupyter-widgets/controls",
            "_model_module_version": "1.5.0",
            "_model_name": "HTMLModel",
            "_view_count": null,
            "_view_module": "@jupyter-widgets/controls",
            "_view_module_version": "1.5.0",
            "_view_name": "HTMLView",
            "description": "",
            "description_tooltip": null,
            "layout": "IPY_MODEL_90d342735e81440d83e658b9b5cd792e",
            "placeholder": "​",
            "style": "IPY_MODEL_8b97ce7611454b4ba0d1f9aad8fa9dd6",
            "value": "Downloading: 100%"
          }
        },
        "964986386e644285b9da991a50cc0c77": {
          "model_module": "@jupyter-widgets/controls",
          "model_name": "FloatProgressModel",
          "model_module_version": "1.5.0",
          "state": {
            "_dom_classes": [],
            "_model_module": "@jupyter-widgets/controls",
            "_model_module_version": "1.5.0",
            "_model_name": "FloatProgressModel",
            "_view_count": null,
            "_view_module": "@jupyter-widgets/controls",
            "_view_module_version": "1.5.0",
            "_view_name": "ProgressView",
            "bar_style": "success",
            "description": "",
            "description_tooltip": null,
            "layout": "IPY_MODEL_13d76e8036bc429c8ca8dfe9c15e9e62",
            "max": 555,
            "min": 0,
            "orientation": "horizontal",
            "style": "IPY_MODEL_71314091db8440b78cb94f30bbf86603",
            "value": 555
          }
        },
        "82003ef1d04847a19b2c921f3548e9da": {
          "model_module": "@jupyter-widgets/controls",
          "model_name": "HTMLModel",
          "model_module_version": "1.5.0",
          "state": {
            "_dom_classes": [],
            "_model_module": "@jupyter-widgets/controls",
            "_model_module_version": "1.5.0",
            "_model_name": "HTMLModel",
            "_view_count": null,
            "_view_module": "@jupyter-widgets/controls",
            "_view_module_version": "1.5.0",
            "_view_name": "HTMLView",
            "description": "",
            "description_tooltip": null,
            "layout": "IPY_MODEL_d1315bb30e0843a5861cf5b531c64bf0",
            "placeholder": "​",
            "style": "IPY_MODEL_4af2376e7498460fb6bb0e88c7d79b39",
            "value": " 555/555 [00:00&lt;00:00, 21.2kB/s]"
          }
        },
        "c96863fb3bd44d3f920c58142525b6d7": {
          "model_module": "@jupyter-widgets/base",
          "model_name": "LayoutModel",
          "model_module_version": "1.2.0",
          "state": {
            "_model_module": "@jupyter-widgets/base",
            "_model_module_version": "1.2.0",
            "_model_name": "LayoutModel",
            "_view_count": null,
            "_view_module": "@jupyter-widgets/base",
            "_view_module_version": "1.2.0",
            "_view_name": "LayoutView",
            "align_content": null,
            "align_items": null,
            "align_self": null,
            "border": null,
            "bottom": null,
            "display": null,
            "flex": null,
            "flex_flow": null,
            "grid_area": null,
            "grid_auto_columns": null,
            "grid_auto_flow": null,
            "grid_auto_rows": null,
            "grid_column": null,
            "grid_gap": null,
            "grid_row": null,
            "grid_template_areas": null,
            "grid_template_columns": null,
            "grid_template_rows": null,
            "height": null,
            "justify_content": null,
            "justify_items": null,
            "left": null,
            "margin": null,
            "max_height": null,
            "max_width": null,
            "min_height": null,
            "min_width": null,
            "object_fit": null,
            "object_position": null,
            "order": null,
            "overflow": null,
            "overflow_x": null,
            "overflow_y": null,
            "padding": null,
            "right": null,
            "top": null,
            "visibility": null,
            "width": null
          }
        },
        "90d342735e81440d83e658b9b5cd792e": {
          "model_module": "@jupyter-widgets/base",
          "model_name": "LayoutModel",
          "model_module_version": "1.2.0",
          "state": {
            "_model_module": "@jupyter-widgets/base",
            "_model_module_version": "1.2.0",
            "_model_name": "LayoutModel",
            "_view_count": null,
            "_view_module": "@jupyter-widgets/base",
            "_view_module_version": "1.2.0",
            "_view_name": "LayoutView",
            "align_content": null,
            "align_items": null,
            "align_self": null,
            "border": null,
            "bottom": null,
            "display": null,
            "flex": null,
            "flex_flow": null,
            "grid_area": null,
            "grid_auto_columns": null,
            "grid_auto_flow": null,
            "grid_auto_rows": null,
            "grid_column": null,
            "grid_gap": null,
            "grid_row": null,
            "grid_template_areas": null,
            "grid_template_columns": null,
            "grid_template_rows": null,
            "height": null,
            "justify_content": null,
            "justify_items": null,
            "left": null,
            "margin": null,
            "max_height": null,
            "max_width": null,
            "min_height": null,
            "min_width": null,
            "object_fit": null,
            "object_position": null,
            "order": null,
            "overflow": null,
            "overflow_x": null,
            "overflow_y": null,
            "padding": null,
            "right": null,
            "top": null,
            "visibility": null,
            "width": null
          }
        },
        "8b97ce7611454b4ba0d1f9aad8fa9dd6": {
          "model_module": "@jupyter-widgets/controls",
          "model_name": "DescriptionStyleModel",
          "model_module_version": "1.5.0",
          "state": {
            "_model_module": "@jupyter-widgets/controls",
            "_model_module_version": "1.5.0",
            "_model_name": "DescriptionStyleModel",
            "_view_count": null,
            "_view_module": "@jupyter-widgets/base",
            "_view_module_version": "1.2.0",
            "_view_name": "StyleView",
            "description_width": ""
          }
        },
        "13d76e8036bc429c8ca8dfe9c15e9e62": {
          "model_module": "@jupyter-widgets/base",
          "model_name": "LayoutModel",
          "model_module_version": "1.2.0",
          "state": {
            "_model_module": "@jupyter-widgets/base",
            "_model_module_version": "1.2.0",
            "_model_name": "LayoutModel",
            "_view_count": null,
            "_view_module": "@jupyter-widgets/base",
            "_view_module_version": "1.2.0",
            "_view_name": "LayoutView",
            "align_content": null,
            "align_items": null,
            "align_self": null,
            "border": null,
            "bottom": null,
            "display": null,
            "flex": null,
            "flex_flow": null,
            "grid_area": null,
            "grid_auto_columns": null,
            "grid_auto_flow": null,
            "grid_auto_rows": null,
            "grid_column": null,
            "grid_gap": null,
            "grid_row": null,
            "grid_template_areas": null,
            "grid_template_columns": null,
            "grid_template_rows": null,
            "height": null,
            "justify_content": null,
            "justify_items": null,
            "left": null,
            "margin": null,
            "max_height": null,
            "max_width": null,
            "min_height": null,
            "min_width": null,
            "object_fit": null,
            "object_position": null,
            "order": null,
            "overflow": null,
            "overflow_x": null,
            "overflow_y": null,
            "padding": null,
            "right": null,
            "top": null,
            "visibility": null,
            "width": null
          }
        },
        "71314091db8440b78cb94f30bbf86603": {
          "model_module": "@jupyter-widgets/controls",
          "model_name": "ProgressStyleModel",
          "model_module_version": "1.5.0",
          "state": {
            "_model_module": "@jupyter-widgets/controls",
            "_model_module_version": "1.5.0",
            "_model_name": "ProgressStyleModel",
            "_view_count": null,
            "_view_module": "@jupyter-widgets/base",
            "_view_module_version": "1.2.0",
            "_view_name": "StyleView",
            "bar_color": null,
            "description_width": ""
          }
        },
        "d1315bb30e0843a5861cf5b531c64bf0": {
          "model_module": "@jupyter-widgets/base",
          "model_name": "LayoutModel",
          "model_module_version": "1.2.0",
          "state": {
            "_model_module": "@jupyter-widgets/base",
            "_model_module_version": "1.2.0",
            "_model_name": "LayoutModel",
            "_view_count": null,
            "_view_module": "@jupyter-widgets/base",
            "_view_module_version": "1.2.0",
            "_view_name": "LayoutView",
            "align_content": null,
            "align_items": null,
            "align_self": null,
            "border": null,
            "bottom": null,
            "display": null,
            "flex": null,
            "flex_flow": null,
            "grid_area": null,
            "grid_auto_columns": null,
            "grid_auto_flow": null,
            "grid_auto_rows": null,
            "grid_column": null,
            "grid_gap": null,
            "grid_row": null,
            "grid_template_areas": null,
            "grid_template_columns": null,
            "grid_template_rows": null,
            "height": null,
            "justify_content": null,
            "justify_items": null,
            "left": null,
            "margin": null,
            "max_height": null,
            "max_width": null,
            "min_height": null,
            "min_width": null,
            "object_fit": null,
            "object_position": null,
            "order": null,
            "overflow": null,
            "overflow_x": null,
            "overflow_y": null,
            "padding": null,
            "right": null,
            "top": null,
            "visibility": null,
            "width": null
          }
        },
        "4af2376e7498460fb6bb0e88c7d79b39": {
          "model_module": "@jupyter-widgets/controls",
          "model_name": "DescriptionStyleModel",
          "model_module_version": "1.5.0",
          "state": {
            "_model_module": "@jupyter-widgets/controls",
            "_model_module_version": "1.5.0",
            "_model_name": "DescriptionStyleModel",
            "_view_count": null,
            "_view_module": "@jupyter-widgets/base",
            "_view_module_version": "1.2.0",
            "_view_name": "StyleView",
            "description_width": ""
          }
        },
        "420f58fe73f445219369c55fdc6cfef9": {
          "model_module": "@jupyter-widgets/controls",
          "model_name": "HBoxModel",
          "model_module_version": "1.5.0",
          "state": {
            "_dom_classes": [],
            "_model_module": "@jupyter-widgets/controls",
            "_model_module_version": "1.5.0",
            "_model_name": "HBoxModel",
            "_view_count": null,
            "_view_module": "@jupyter-widgets/controls",
            "_view_module_version": "1.5.0",
            "_view_name": "HBoxView",
            "box_style": "",
            "children": [
              "IPY_MODEL_25a34b6f860c49f38f5e2aebad55a202",
              "IPY_MODEL_19a220db88a144639bc10df91def44b9",
              "IPY_MODEL_187b446d9edf47ffbb7bdced06edf0d2"
            ],
            "layout": "IPY_MODEL_2ef0b15fe34a4d5ca9fc39c38d0ec7e6"
          }
        },
        "25a34b6f860c49f38f5e2aebad55a202": {
          "model_module": "@jupyter-widgets/controls",
          "model_name": "HTMLModel",
          "model_module_version": "1.5.0",
          "state": {
            "_dom_classes": [],
            "_model_module": "@jupyter-widgets/controls",
            "_model_module_version": "1.5.0",
            "_model_name": "HTMLModel",
            "_view_count": null,
            "_view_module": "@jupyter-widgets/controls",
            "_view_module_version": "1.5.0",
            "_view_name": "HTMLView",
            "description": "",
            "description_tooltip": null,
            "layout": "IPY_MODEL_c0ba85e6166c4a41b191917aab22bc81",
            "placeholder": "​",
            "style": "IPY_MODEL_0a120e37b4254f328daf0c6ff56dced4",
            "value": "Downloading: 100%"
          }
        },
        "19a220db88a144639bc10df91def44b9": {
          "model_module": "@jupyter-widgets/controls",
          "model_name": "FloatProgressModel",
          "model_module_version": "1.5.0",
          "state": {
            "_dom_classes": [],
            "_model_module": "@jupyter-widgets/controls",
            "_model_module_version": "1.5.0",
            "_model_name": "FloatProgressModel",
            "_view_count": null,
            "_view_module": "@jupyter-widgets/controls",
            "_view_module_version": "1.5.0",
            "_view_name": "ProgressView",
            "bar_style": "success",
            "description": "",
            "description_tooltip": null,
            "layout": "IPY_MODEL_0cc409d2a93d47bd8a18f1a8210731f5",
            "max": 122,
            "min": 0,
            "orientation": "horizontal",
            "style": "IPY_MODEL_dc0714666c2c4e13b4efafcb60955836",
            "value": 122
          }
        },
        "187b446d9edf47ffbb7bdced06edf0d2": {
          "model_module": "@jupyter-widgets/controls",
          "model_name": "HTMLModel",
          "model_module_version": "1.5.0",
          "state": {
            "_dom_classes": [],
            "_model_module": "@jupyter-widgets/controls",
            "_model_module_version": "1.5.0",
            "_model_name": "HTMLModel",
            "_view_count": null,
            "_view_module": "@jupyter-widgets/controls",
            "_view_module_version": "1.5.0",
            "_view_name": "HTMLView",
            "description": "",
            "description_tooltip": null,
            "layout": "IPY_MODEL_8f00b60a43d44346bfb1828ab49063d5",
            "placeholder": "​",
            "style": "IPY_MODEL_439ba19f03824a08905defab522827c8",
            "value": " 122/122 [00:00&lt;00:00, 5.08kB/s]"
          }
        },
        "2ef0b15fe34a4d5ca9fc39c38d0ec7e6": {
          "model_module": "@jupyter-widgets/base",
          "model_name": "LayoutModel",
          "model_module_version": "1.2.0",
          "state": {
            "_model_module": "@jupyter-widgets/base",
            "_model_module_version": "1.2.0",
            "_model_name": "LayoutModel",
            "_view_count": null,
            "_view_module": "@jupyter-widgets/base",
            "_view_module_version": "1.2.0",
            "_view_name": "LayoutView",
            "align_content": null,
            "align_items": null,
            "align_self": null,
            "border": null,
            "bottom": null,
            "display": null,
            "flex": null,
            "flex_flow": null,
            "grid_area": null,
            "grid_auto_columns": null,
            "grid_auto_flow": null,
            "grid_auto_rows": null,
            "grid_column": null,
            "grid_gap": null,
            "grid_row": null,
            "grid_template_areas": null,
            "grid_template_columns": null,
            "grid_template_rows": null,
            "height": null,
            "justify_content": null,
            "justify_items": null,
            "left": null,
            "margin": null,
            "max_height": null,
            "max_width": null,
            "min_height": null,
            "min_width": null,
            "object_fit": null,
            "object_position": null,
            "order": null,
            "overflow": null,
            "overflow_x": null,
            "overflow_y": null,
            "padding": null,
            "right": null,
            "top": null,
            "visibility": null,
            "width": null
          }
        },
        "c0ba85e6166c4a41b191917aab22bc81": {
          "model_module": "@jupyter-widgets/base",
          "model_name": "LayoutModel",
          "model_module_version": "1.2.0",
          "state": {
            "_model_module": "@jupyter-widgets/base",
            "_model_module_version": "1.2.0",
            "_model_name": "LayoutModel",
            "_view_count": null,
            "_view_module": "@jupyter-widgets/base",
            "_view_module_version": "1.2.0",
            "_view_name": "LayoutView",
            "align_content": null,
            "align_items": null,
            "align_self": null,
            "border": null,
            "bottom": null,
            "display": null,
            "flex": null,
            "flex_flow": null,
            "grid_area": null,
            "grid_auto_columns": null,
            "grid_auto_flow": null,
            "grid_auto_rows": null,
            "grid_column": null,
            "grid_gap": null,
            "grid_row": null,
            "grid_template_areas": null,
            "grid_template_columns": null,
            "grid_template_rows": null,
            "height": null,
            "justify_content": null,
            "justify_items": null,
            "left": null,
            "margin": null,
            "max_height": null,
            "max_width": null,
            "min_height": null,
            "min_width": null,
            "object_fit": null,
            "object_position": null,
            "order": null,
            "overflow": null,
            "overflow_x": null,
            "overflow_y": null,
            "padding": null,
            "right": null,
            "top": null,
            "visibility": null,
            "width": null
          }
        },
        "0a120e37b4254f328daf0c6ff56dced4": {
          "model_module": "@jupyter-widgets/controls",
          "model_name": "DescriptionStyleModel",
          "model_module_version": "1.5.0",
          "state": {
            "_model_module": "@jupyter-widgets/controls",
            "_model_module_version": "1.5.0",
            "_model_name": "DescriptionStyleModel",
            "_view_count": null,
            "_view_module": "@jupyter-widgets/base",
            "_view_module_version": "1.2.0",
            "_view_name": "StyleView",
            "description_width": ""
          }
        },
        "0cc409d2a93d47bd8a18f1a8210731f5": {
          "model_module": "@jupyter-widgets/base",
          "model_name": "LayoutModel",
          "model_module_version": "1.2.0",
          "state": {
            "_model_module": "@jupyter-widgets/base",
            "_model_module_version": "1.2.0",
            "_model_name": "LayoutModel",
            "_view_count": null,
            "_view_module": "@jupyter-widgets/base",
            "_view_module_version": "1.2.0",
            "_view_name": "LayoutView",
            "align_content": null,
            "align_items": null,
            "align_self": null,
            "border": null,
            "bottom": null,
            "display": null,
            "flex": null,
            "flex_flow": null,
            "grid_area": null,
            "grid_auto_columns": null,
            "grid_auto_flow": null,
            "grid_auto_rows": null,
            "grid_column": null,
            "grid_gap": null,
            "grid_row": null,
            "grid_template_areas": null,
            "grid_template_columns": null,
            "grid_template_rows": null,
            "height": null,
            "justify_content": null,
            "justify_items": null,
            "left": null,
            "margin": null,
            "max_height": null,
            "max_width": null,
            "min_height": null,
            "min_width": null,
            "object_fit": null,
            "object_position": null,
            "order": null,
            "overflow": null,
            "overflow_x": null,
            "overflow_y": null,
            "padding": null,
            "right": null,
            "top": null,
            "visibility": null,
            "width": null
          }
        },
        "dc0714666c2c4e13b4efafcb60955836": {
          "model_module": "@jupyter-widgets/controls",
          "model_name": "ProgressStyleModel",
          "model_module_version": "1.5.0",
          "state": {
            "_model_module": "@jupyter-widgets/controls",
            "_model_module_version": "1.5.0",
            "_model_name": "ProgressStyleModel",
            "_view_count": null,
            "_view_module": "@jupyter-widgets/base",
            "_view_module_version": "1.2.0",
            "_view_name": "StyleView",
            "bar_color": null,
            "description_width": ""
          }
        },
        "8f00b60a43d44346bfb1828ab49063d5": {
          "model_module": "@jupyter-widgets/base",
          "model_name": "LayoutModel",
          "model_module_version": "1.2.0",
          "state": {
            "_model_module": "@jupyter-widgets/base",
            "_model_module_version": "1.2.0",
            "_model_name": "LayoutModel",
            "_view_count": null,
            "_view_module": "@jupyter-widgets/base",
            "_view_module_version": "1.2.0",
            "_view_name": "LayoutView",
            "align_content": null,
            "align_items": null,
            "align_self": null,
            "border": null,
            "bottom": null,
            "display": null,
            "flex": null,
            "flex_flow": null,
            "grid_area": null,
            "grid_auto_columns": null,
            "grid_auto_flow": null,
            "grid_auto_rows": null,
            "grid_column": null,
            "grid_gap": null,
            "grid_row": null,
            "grid_template_areas": null,
            "grid_template_columns": null,
            "grid_template_rows": null,
            "height": null,
            "justify_content": null,
            "justify_items": null,
            "left": null,
            "margin": null,
            "max_height": null,
            "max_width": null,
            "min_height": null,
            "min_width": null,
            "object_fit": null,
            "object_position": null,
            "order": null,
            "overflow": null,
            "overflow_x": null,
            "overflow_y": null,
            "padding": null,
            "right": null,
            "top": null,
            "visibility": null,
            "width": null
          }
        },
        "439ba19f03824a08905defab522827c8": {
          "model_module": "@jupyter-widgets/controls",
          "model_name": "DescriptionStyleModel",
          "model_module_version": "1.5.0",
          "state": {
            "_model_module": "@jupyter-widgets/controls",
            "_model_module_version": "1.5.0",
            "_model_name": "DescriptionStyleModel",
            "_view_count": null,
            "_view_module": "@jupyter-widgets/base",
            "_view_module_version": "1.2.0",
            "_view_name": "StyleView",
            "description_width": ""
          }
        },
        "7978448875394a9588bb8208f138f46e": {
          "model_module": "@jupyter-widgets/controls",
          "model_name": "HBoxModel",
          "model_module_version": "1.5.0",
          "state": {
            "_dom_classes": [],
            "_model_module": "@jupyter-widgets/controls",
            "_model_module_version": "1.5.0",
            "_model_name": "HBoxModel",
            "_view_count": null,
            "_view_module": "@jupyter-widgets/controls",
            "_view_module_version": "1.5.0",
            "_view_name": "HBoxView",
            "box_style": "",
            "children": [
              "IPY_MODEL_24a38a8c245248d7a2c90efd501b43a5",
              "IPY_MODEL_9dae1c198e4e42cfab983e9c3742d712",
              "IPY_MODEL_1893b5c7bda64f338c1328d91f5729a2"
            ],
            "layout": "IPY_MODEL_283fb770abdc4cb2aff8d6801010d027"
          }
        },
        "24a38a8c245248d7a2c90efd501b43a5": {
          "model_module": "@jupyter-widgets/controls",
          "model_name": "HTMLModel",
          "model_module_version": "1.5.0",
          "state": {
            "_dom_classes": [],
            "_model_module": "@jupyter-widgets/controls",
            "_model_module_version": "1.5.0",
            "_model_name": "HTMLModel",
            "_view_count": null,
            "_view_module": "@jupyter-widgets/controls",
            "_view_module_version": "1.5.0",
            "_view_name": "HTMLView",
            "description": "",
            "description_tooltip": null,
            "layout": "IPY_MODEL_cf6eb2f4c6024c91a2cee90bd6fb6cd9",
            "placeholder": "​",
            "style": "IPY_MODEL_f9dbc794863144a1bf62a94a3e01375a",
            "value": "Downloading: 100%"
          }
        },
        "9dae1c198e4e42cfab983e9c3742d712": {
          "model_module": "@jupyter-widgets/controls",
          "model_name": "FloatProgressModel",
          "model_module_version": "1.5.0",
          "state": {
            "_dom_classes": [],
            "_model_module": "@jupyter-widgets/controls",
            "_model_module_version": "1.5.0",
            "_model_name": "FloatProgressModel",
            "_view_count": null,
            "_view_module": "@jupyter-widgets/controls",
            "_view_module_version": "1.5.0",
            "_view_name": "ProgressView",
            "bar_style": "success",
            "description": "",
            "description_tooltip": null,
            "layout": "IPY_MODEL_8a07e51adb8b43118df8718d998bedfc",
            "max": 229,
            "min": 0,
            "orientation": "horizontal",
            "style": "IPY_MODEL_db547be697fc47b59bc1d1b743bd2b14",
            "value": 229
          }
        },
        "1893b5c7bda64f338c1328d91f5729a2": {
          "model_module": "@jupyter-widgets/controls",
          "model_name": "HTMLModel",
          "model_module_version": "1.5.0",
          "state": {
            "_dom_classes": [],
            "_model_module": "@jupyter-widgets/controls",
            "_model_module_version": "1.5.0",
            "_model_name": "HTMLModel",
            "_view_count": null,
            "_view_module": "@jupyter-widgets/controls",
            "_view_module_version": "1.5.0",
            "_view_name": "HTMLView",
            "description": "",
            "description_tooltip": null,
            "layout": "IPY_MODEL_6af8e70e62764c0393b9e7243dad4ea6",
            "placeholder": "​",
            "style": "IPY_MODEL_c6636a5ebc60473c93e54f481e579222",
            "value": " 229/229 [00:00&lt;00:00, 6.98kB/s]"
          }
        },
        "283fb770abdc4cb2aff8d6801010d027": {
          "model_module": "@jupyter-widgets/base",
          "model_name": "LayoutModel",
          "model_module_version": "1.2.0",
          "state": {
            "_model_module": "@jupyter-widgets/base",
            "_model_module_version": "1.2.0",
            "_model_name": "LayoutModel",
            "_view_count": null,
            "_view_module": "@jupyter-widgets/base",
            "_view_module_version": "1.2.0",
            "_view_name": "LayoutView",
            "align_content": null,
            "align_items": null,
            "align_self": null,
            "border": null,
            "bottom": null,
            "display": null,
            "flex": null,
            "flex_flow": null,
            "grid_area": null,
            "grid_auto_columns": null,
            "grid_auto_flow": null,
            "grid_auto_rows": null,
            "grid_column": null,
            "grid_gap": null,
            "grid_row": null,
            "grid_template_areas": null,
            "grid_template_columns": null,
            "grid_template_rows": null,
            "height": null,
            "justify_content": null,
            "justify_items": null,
            "left": null,
            "margin": null,
            "max_height": null,
            "max_width": null,
            "min_height": null,
            "min_width": null,
            "object_fit": null,
            "object_position": null,
            "order": null,
            "overflow": null,
            "overflow_x": null,
            "overflow_y": null,
            "padding": null,
            "right": null,
            "top": null,
            "visibility": null,
            "width": null
          }
        },
        "cf6eb2f4c6024c91a2cee90bd6fb6cd9": {
          "model_module": "@jupyter-widgets/base",
          "model_name": "LayoutModel",
          "model_module_version": "1.2.0",
          "state": {
            "_model_module": "@jupyter-widgets/base",
            "_model_module_version": "1.2.0",
            "_model_name": "LayoutModel",
            "_view_count": null,
            "_view_module": "@jupyter-widgets/base",
            "_view_module_version": "1.2.0",
            "_view_name": "LayoutView",
            "align_content": null,
            "align_items": null,
            "align_self": null,
            "border": null,
            "bottom": null,
            "display": null,
            "flex": null,
            "flex_flow": null,
            "grid_area": null,
            "grid_auto_columns": null,
            "grid_auto_flow": null,
            "grid_auto_rows": null,
            "grid_column": null,
            "grid_gap": null,
            "grid_row": null,
            "grid_template_areas": null,
            "grid_template_columns": null,
            "grid_template_rows": null,
            "height": null,
            "justify_content": null,
            "justify_items": null,
            "left": null,
            "margin": null,
            "max_height": null,
            "max_width": null,
            "min_height": null,
            "min_width": null,
            "object_fit": null,
            "object_position": null,
            "order": null,
            "overflow": null,
            "overflow_x": null,
            "overflow_y": null,
            "padding": null,
            "right": null,
            "top": null,
            "visibility": null,
            "width": null
          }
        },
        "f9dbc794863144a1bf62a94a3e01375a": {
          "model_module": "@jupyter-widgets/controls",
          "model_name": "DescriptionStyleModel",
          "model_module_version": "1.5.0",
          "state": {
            "_model_module": "@jupyter-widgets/controls",
            "_model_module_version": "1.5.0",
            "_model_name": "DescriptionStyleModel",
            "_view_count": null,
            "_view_module": "@jupyter-widgets/base",
            "_view_module_version": "1.2.0",
            "_view_name": "StyleView",
            "description_width": ""
          }
        },
        "8a07e51adb8b43118df8718d998bedfc": {
          "model_module": "@jupyter-widgets/base",
          "model_name": "LayoutModel",
          "model_module_version": "1.2.0",
          "state": {
            "_model_module": "@jupyter-widgets/base",
            "_model_module_version": "1.2.0",
            "_model_name": "LayoutModel",
            "_view_count": null,
            "_view_module": "@jupyter-widgets/base",
            "_view_module_version": "1.2.0",
            "_view_name": "LayoutView",
            "align_content": null,
            "align_items": null,
            "align_self": null,
            "border": null,
            "bottom": null,
            "display": null,
            "flex": null,
            "flex_flow": null,
            "grid_area": null,
            "grid_auto_columns": null,
            "grid_auto_flow": null,
            "grid_auto_rows": null,
            "grid_column": null,
            "grid_gap": null,
            "grid_row": null,
            "grid_template_areas": null,
            "grid_template_columns": null,
            "grid_template_rows": null,
            "height": null,
            "justify_content": null,
            "justify_items": null,
            "left": null,
            "margin": null,
            "max_height": null,
            "max_width": null,
            "min_height": null,
            "min_width": null,
            "object_fit": null,
            "object_position": null,
            "order": null,
            "overflow": null,
            "overflow_x": null,
            "overflow_y": null,
            "padding": null,
            "right": null,
            "top": null,
            "visibility": null,
            "width": null
          }
        },
        "db547be697fc47b59bc1d1b743bd2b14": {
          "model_module": "@jupyter-widgets/controls",
          "model_name": "ProgressStyleModel",
          "model_module_version": "1.5.0",
          "state": {
            "_model_module": "@jupyter-widgets/controls",
            "_model_module_version": "1.5.0",
            "_model_name": "ProgressStyleModel",
            "_view_count": null,
            "_view_module": "@jupyter-widgets/base",
            "_view_module_version": "1.2.0",
            "_view_name": "StyleView",
            "bar_color": null,
            "description_width": ""
          }
        },
        "6af8e70e62764c0393b9e7243dad4ea6": {
          "model_module": "@jupyter-widgets/base",
          "model_name": "LayoutModel",
          "model_module_version": "1.2.0",
          "state": {
            "_model_module": "@jupyter-widgets/base",
            "_model_module_version": "1.2.0",
            "_model_name": "LayoutModel",
            "_view_count": null,
            "_view_module": "@jupyter-widgets/base",
            "_view_module_version": "1.2.0",
            "_view_name": "LayoutView",
            "align_content": null,
            "align_items": null,
            "align_self": null,
            "border": null,
            "bottom": null,
            "display": null,
            "flex": null,
            "flex_flow": null,
            "grid_area": null,
            "grid_auto_columns": null,
            "grid_auto_flow": null,
            "grid_auto_rows": null,
            "grid_column": null,
            "grid_gap": null,
            "grid_row": null,
            "grid_template_areas": null,
            "grid_template_columns": null,
            "grid_template_rows": null,
            "height": null,
            "justify_content": null,
            "justify_items": null,
            "left": null,
            "margin": null,
            "max_height": null,
            "max_width": null,
            "min_height": null,
            "min_width": null,
            "object_fit": null,
            "object_position": null,
            "order": null,
            "overflow": null,
            "overflow_x": null,
            "overflow_y": null,
            "padding": null,
            "right": null,
            "top": null,
            "visibility": null,
            "width": null
          }
        },
        "c6636a5ebc60473c93e54f481e579222": {
          "model_module": "@jupyter-widgets/controls",
          "model_name": "DescriptionStyleModel",
          "model_module_version": "1.5.0",
          "state": {
            "_model_module": "@jupyter-widgets/controls",
            "_model_module_version": "1.5.0",
            "_model_name": "DescriptionStyleModel",
            "_view_count": null,
            "_view_module": "@jupyter-widgets/base",
            "_view_module_version": "1.2.0",
            "_view_name": "StyleView",
            "description_width": ""
          }
        },
        "82615b3ab34543b48ad8f262497d0041": {
          "model_module": "@jupyter-widgets/controls",
          "model_name": "HBoxModel",
          "model_module_version": "1.5.0",
          "state": {
            "_dom_classes": [],
            "_model_module": "@jupyter-widgets/controls",
            "_model_module_version": "1.5.0",
            "_model_name": "HBoxModel",
            "_view_count": null,
            "_view_module": "@jupyter-widgets/controls",
            "_view_module_version": "1.5.0",
            "_view_name": "HBoxView",
            "box_style": "",
            "children": [
              "IPY_MODEL_8638d31583c54f9cac707f9d4af17372",
              "IPY_MODEL_507523c34a6746218a7e527859268b9c",
              "IPY_MODEL_768a1019b58844b8aea0a805263da2ef"
            ],
            "layout": "IPY_MODEL_16e5d3cfc27744d2b544bf04ac61f28a"
          }
        },
        "8638d31583c54f9cac707f9d4af17372": {
          "model_module": "@jupyter-widgets/controls",
          "model_name": "HTMLModel",
          "model_module_version": "1.5.0",
          "state": {
            "_dom_classes": [],
            "_model_module": "@jupyter-widgets/controls",
            "_model_module_version": "1.5.0",
            "_model_name": "HTMLModel",
            "_view_count": null,
            "_view_module": "@jupyter-widgets/controls",
            "_view_module_version": "1.5.0",
            "_view_name": "HTMLView",
            "description": "",
            "description_tooltip": null,
            "layout": "IPY_MODEL_07f3d1f75962467cbccba014cfd14a6b",
            "placeholder": "​",
            "style": "IPY_MODEL_691d5c8e526646bcb09fadbd99ec8705",
            "value": "Downloading: 100%"
          }
        },
        "507523c34a6746218a7e527859268b9c": {
          "model_module": "@jupyter-widgets/controls",
          "model_name": "FloatProgressModel",
          "model_module_version": "1.5.0",
          "state": {
            "_dom_classes": [],
            "_model_module": "@jupyter-widgets/controls",
            "_model_module_version": "1.5.0",
            "_model_name": "FloatProgressModel",
            "_view_count": null,
            "_view_module": "@jupyter-widgets/controls",
            "_view_module_version": "1.5.0",
            "_view_name": "ProgressView",
            "bar_style": "success",
            "description": "",
            "description_tooltip": null,
            "layout": "IPY_MODEL_8673b27c680342fe8b4a28a8369ad514",
            "max": 265486777,
            "min": 0,
            "orientation": "horizontal",
            "style": "IPY_MODEL_dbb32635b9904f04ac006fb55c625a5c",
            "value": 265486777
          }
        },
        "768a1019b58844b8aea0a805263da2ef": {
          "model_module": "@jupyter-widgets/controls",
          "model_name": "HTMLModel",
          "model_module_version": "1.5.0",
          "state": {
            "_dom_classes": [],
            "_model_module": "@jupyter-widgets/controls",
            "_model_module_version": "1.5.0",
            "_model_name": "HTMLModel",
            "_view_count": null,
            "_view_module": "@jupyter-widgets/controls",
            "_view_module_version": "1.5.0",
            "_view_name": "HTMLView",
            "description": "",
            "description_tooltip": null,
            "layout": "IPY_MODEL_3b283d141d1f456fbe4b53b8e6b85803",
            "placeholder": "​",
            "style": "IPY_MODEL_c65170126fd7454aaa9280dbc2e67be3",
            "value": " 265M/265M [00:04&lt;00:00, 53.0MB/s]"
          }
        },
        "16e5d3cfc27744d2b544bf04ac61f28a": {
          "model_module": "@jupyter-widgets/base",
          "model_name": "LayoutModel",
          "model_module_version": "1.2.0",
          "state": {
            "_model_module": "@jupyter-widgets/base",
            "_model_module_version": "1.2.0",
            "_model_name": "LayoutModel",
            "_view_count": null,
            "_view_module": "@jupyter-widgets/base",
            "_view_module_version": "1.2.0",
            "_view_name": "LayoutView",
            "align_content": null,
            "align_items": null,
            "align_self": null,
            "border": null,
            "bottom": null,
            "display": null,
            "flex": null,
            "flex_flow": null,
            "grid_area": null,
            "grid_auto_columns": null,
            "grid_auto_flow": null,
            "grid_auto_rows": null,
            "grid_column": null,
            "grid_gap": null,
            "grid_row": null,
            "grid_template_areas": null,
            "grid_template_columns": null,
            "grid_template_rows": null,
            "height": null,
            "justify_content": null,
            "justify_items": null,
            "left": null,
            "margin": null,
            "max_height": null,
            "max_width": null,
            "min_height": null,
            "min_width": null,
            "object_fit": null,
            "object_position": null,
            "order": null,
            "overflow": null,
            "overflow_x": null,
            "overflow_y": null,
            "padding": null,
            "right": null,
            "top": null,
            "visibility": null,
            "width": null
          }
        },
        "07f3d1f75962467cbccba014cfd14a6b": {
          "model_module": "@jupyter-widgets/base",
          "model_name": "LayoutModel",
          "model_module_version": "1.2.0",
          "state": {
            "_model_module": "@jupyter-widgets/base",
            "_model_module_version": "1.2.0",
            "_model_name": "LayoutModel",
            "_view_count": null,
            "_view_module": "@jupyter-widgets/base",
            "_view_module_version": "1.2.0",
            "_view_name": "LayoutView",
            "align_content": null,
            "align_items": null,
            "align_self": null,
            "border": null,
            "bottom": null,
            "display": null,
            "flex": null,
            "flex_flow": null,
            "grid_area": null,
            "grid_auto_columns": null,
            "grid_auto_flow": null,
            "grid_auto_rows": null,
            "grid_column": null,
            "grid_gap": null,
            "grid_row": null,
            "grid_template_areas": null,
            "grid_template_columns": null,
            "grid_template_rows": null,
            "height": null,
            "justify_content": null,
            "justify_items": null,
            "left": null,
            "margin": null,
            "max_height": null,
            "max_width": null,
            "min_height": null,
            "min_width": null,
            "object_fit": null,
            "object_position": null,
            "order": null,
            "overflow": null,
            "overflow_x": null,
            "overflow_y": null,
            "padding": null,
            "right": null,
            "top": null,
            "visibility": null,
            "width": null
          }
        },
        "691d5c8e526646bcb09fadbd99ec8705": {
          "model_module": "@jupyter-widgets/controls",
          "model_name": "DescriptionStyleModel",
          "model_module_version": "1.5.0",
          "state": {
            "_model_module": "@jupyter-widgets/controls",
            "_model_module_version": "1.5.0",
            "_model_name": "DescriptionStyleModel",
            "_view_count": null,
            "_view_module": "@jupyter-widgets/base",
            "_view_module_version": "1.2.0",
            "_view_name": "StyleView",
            "description_width": ""
          }
        },
        "8673b27c680342fe8b4a28a8369ad514": {
          "model_module": "@jupyter-widgets/base",
          "model_name": "LayoutModel",
          "model_module_version": "1.2.0",
          "state": {
            "_model_module": "@jupyter-widgets/base",
            "_model_module_version": "1.2.0",
            "_model_name": "LayoutModel",
            "_view_count": null,
            "_view_module": "@jupyter-widgets/base",
            "_view_module_version": "1.2.0",
            "_view_name": "LayoutView",
            "align_content": null,
            "align_items": null,
            "align_self": null,
            "border": null,
            "bottom": null,
            "display": null,
            "flex": null,
            "flex_flow": null,
            "grid_area": null,
            "grid_auto_columns": null,
            "grid_auto_flow": null,
            "grid_auto_rows": null,
            "grid_column": null,
            "grid_gap": null,
            "grid_row": null,
            "grid_template_areas": null,
            "grid_template_columns": null,
            "grid_template_rows": null,
            "height": null,
            "justify_content": null,
            "justify_items": null,
            "left": null,
            "margin": null,
            "max_height": null,
            "max_width": null,
            "min_height": null,
            "min_width": null,
            "object_fit": null,
            "object_position": null,
            "order": null,
            "overflow": null,
            "overflow_x": null,
            "overflow_y": null,
            "padding": null,
            "right": null,
            "top": null,
            "visibility": null,
            "width": null
          }
        },
        "dbb32635b9904f04ac006fb55c625a5c": {
          "model_module": "@jupyter-widgets/controls",
          "model_name": "ProgressStyleModel",
          "model_module_version": "1.5.0",
          "state": {
            "_model_module": "@jupyter-widgets/controls",
            "_model_module_version": "1.5.0",
            "_model_name": "ProgressStyleModel",
            "_view_count": null,
            "_view_module": "@jupyter-widgets/base",
            "_view_module_version": "1.2.0",
            "_view_name": "StyleView",
            "bar_color": null,
            "description_width": ""
          }
        },
        "3b283d141d1f456fbe4b53b8e6b85803": {
          "model_module": "@jupyter-widgets/base",
          "model_name": "LayoutModel",
          "model_module_version": "1.2.0",
          "state": {
            "_model_module": "@jupyter-widgets/base",
            "_model_module_version": "1.2.0",
            "_model_name": "LayoutModel",
            "_view_count": null,
            "_view_module": "@jupyter-widgets/base",
            "_view_module_version": "1.2.0",
            "_view_name": "LayoutView",
            "align_content": null,
            "align_items": null,
            "align_self": null,
            "border": null,
            "bottom": null,
            "display": null,
            "flex": null,
            "flex_flow": null,
            "grid_area": null,
            "grid_auto_columns": null,
            "grid_auto_flow": null,
            "grid_auto_rows": null,
            "grid_column": null,
            "grid_gap": null,
            "grid_row": null,
            "grid_template_areas": null,
            "grid_template_columns": null,
            "grid_template_rows": null,
            "height": null,
            "justify_content": null,
            "justify_items": null,
            "left": null,
            "margin": null,
            "max_height": null,
            "max_width": null,
            "min_height": null,
            "min_width": null,
            "object_fit": null,
            "object_position": null,
            "order": null,
            "overflow": null,
            "overflow_x": null,
            "overflow_y": null,
            "padding": null,
            "right": null,
            "top": null,
            "visibility": null,
            "width": null
          }
        },
        "c65170126fd7454aaa9280dbc2e67be3": {
          "model_module": "@jupyter-widgets/controls",
          "model_name": "DescriptionStyleModel",
          "model_module_version": "1.5.0",
          "state": {
            "_model_module": "@jupyter-widgets/controls",
            "_model_module_version": "1.5.0",
            "_model_name": "DescriptionStyleModel",
            "_view_count": null,
            "_view_module": "@jupyter-widgets/base",
            "_view_module_version": "1.2.0",
            "_view_name": "StyleView",
            "description_width": ""
          }
        },
        "f9de167fe2594237beac1dd98d15225c": {
          "model_module": "@jupyter-widgets/controls",
          "model_name": "HBoxModel",
          "model_module_version": "1.5.0",
          "state": {
            "_dom_classes": [],
            "_model_module": "@jupyter-widgets/controls",
            "_model_module_version": "1.5.0",
            "_model_name": "HBoxModel",
            "_view_count": null,
            "_view_module": "@jupyter-widgets/controls",
            "_view_module_version": "1.5.0",
            "_view_name": "HBoxView",
            "box_style": "",
            "children": [
              "IPY_MODEL_d1f5c669915b4875beac401468d0feca",
              "IPY_MODEL_f163cdd9a24d4d8eb9ff96cd857e845a",
              "IPY_MODEL_02420851fd0a40759fa643ab5e10ba30"
            ],
            "layout": "IPY_MODEL_7c63bdf6ca174f8cb3ddcbb665c6006f"
          }
        },
        "d1f5c669915b4875beac401468d0feca": {
          "model_module": "@jupyter-widgets/controls",
          "model_name": "HTMLModel",
          "model_module_version": "1.5.0",
          "state": {
            "_dom_classes": [],
            "_model_module": "@jupyter-widgets/controls",
            "_model_module_version": "1.5.0",
            "_model_name": "HTMLModel",
            "_view_count": null,
            "_view_module": "@jupyter-widgets/controls",
            "_view_module_version": "1.5.0",
            "_view_name": "HTMLView",
            "description": "",
            "description_tooltip": null,
            "layout": "IPY_MODEL_12f5fcf3704a4031a3049cbcf82b7dae",
            "placeholder": "​",
            "style": "IPY_MODEL_b5dc0d0941c844109931aa5b9e5b6307",
            "value": "Downloading: 100%"
          }
        },
        "f163cdd9a24d4d8eb9ff96cd857e845a": {
          "model_module": "@jupyter-widgets/controls",
          "model_name": "FloatProgressModel",
          "model_module_version": "1.5.0",
          "state": {
            "_dom_classes": [],
            "_model_module": "@jupyter-widgets/controls",
            "_model_module_version": "1.5.0",
            "_model_name": "FloatProgressModel",
            "_view_count": null,
            "_view_module": "@jupyter-widgets/controls",
            "_view_module_version": "1.5.0",
            "_view_name": "ProgressView",
            "bar_style": "success",
            "description": "",
            "description_tooltip": null,
            "layout": "IPY_MODEL_c78ac5e5b848403f8ad1fc4fc0c55ffc",
            "max": 53,
            "min": 0,
            "orientation": "horizontal",
            "style": "IPY_MODEL_96067e45ed654c22b4d27f13c63df5db",
            "value": 53
          }
        },
        "02420851fd0a40759fa643ab5e10ba30": {
          "model_module": "@jupyter-widgets/controls",
          "model_name": "HTMLModel",
          "model_module_version": "1.5.0",
          "state": {
            "_dom_classes": [],
            "_model_module": "@jupyter-widgets/controls",
            "_model_module_version": "1.5.0",
            "_model_name": "HTMLModel",
            "_view_count": null,
            "_view_module": "@jupyter-widgets/controls",
            "_view_module_version": "1.5.0",
            "_view_name": "HTMLView",
            "description": "",
            "description_tooltip": null,
            "layout": "IPY_MODEL_d4b35bdac0804410a9bb37c4930888fc",
            "placeholder": "​",
            "style": "IPY_MODEL_555239e6859e4a7cb46b1f6a0ca04e45",
            "value": " 53.0/53.0 [00:00&lt;00:00, 1.88kB/s]"
          }
        },
        "7c63bdf6ca174f8cb3ddcbb665c6006f": {
          "model_module": "@jupyter-widgets/base",
          "model_name": "LayoutModel",
          "model_module_version": "1.2.0",
          "state": {
            "_model_module": "@jupyter-widgets/base",
            "_model_module_version": "1.2.0",
            "_model_name": "LayoutModel",
            "_view_count": null,
            "_view_module": "@jupyter-widgets/base",
            "_view_module_version": "1.2.0",
            "_view_name": "LayoutView",
            "align_content": null,
            "align_items": null,
            "align_self": null,
            "border": null,
            "bottom": null,
            "display": null,
            "flex": null,
            "flex_flow": null,
            "grid_area": null,
            "grid_auto_columns": null,
            "grid_auto_flow": null,
            "grid_auto_rows": null,
            "grid_column": null,
            "grid_gap": null,
            "grid_row": null,
            "grid_template_areas": null,
            "grid_template_columns": null,
            "grid_template_rows": null,
            "height": null,
            "justify_content": null,
            "justify_items": null,
            "left": null,
            "margin": null,
            "max_height": null,
            "max_width": null,
            "min_height": null,
            "min_width": null,
            "object_fit": null,
            "object_position": null,
            "order": null,
            "overflow": null,
            "overflow_x": null,
            "overflow_y": null,
            "padding": null,
            "right": null,
            "top": null,
            "visibility": null,
            "width": null
          }
        },
        "12f5fcf3704a4031a3049cbcf82b7dae": {
          "model_module": "@jupyter-widgets/base",
          "model_name": "LayoutModel",
          "model_module_version": "1.2.0",
          "state": {
            "_model_module": "@jupyter-widgets/base",
            "_model_module_version": "1.2.0",
            "_model_name": "LayoutModel",
            "_view_count": null,
            "_view_module": "@jupyter-widgets/base",
            "_view_module_version": "1.2.0",
            "_view_name": "LayoutView",
            "align_content": null,
            "align_items": null,
            "align_self": null,
            "border": null,
            "bottom": null,
            "display": null,
            "flex": null,
            "flex_flow": null,
            "grid_area": null,
            "grid_auto_columns": null,
            "grid_auto_flow": null,
            "grid_auto_rows": null,
            "grid_column": null,
            "grid_gap": null,
            "grid_row": null,
            "grid_template_areas": null,
            "grid_template_columns": null,
            "grid_template_rows": null,
            "height": null,
            "justify_content": null,
            "justify_items": null,
            "left": null,
            "margin": null,
            "max_height": null,
            "max_width": null,
            "min_height": null,
            "min_width": null,
            "object_fit": null,
            "object_position": null,
            "order": null,
            "overflow": null,
            "overflow_x": null,
            "overflow_y": null,
            "padding": null,
            "right": null,
            "top": null,
            "visibility": null,
            "width": null
          }
        },
        "b5dc0d0941c844109931aa5b9e5b6307": {
          "model_module": "@jupyter-widgets/controls",
          "model_name": "DescriptionStyleModel",
          "model_module_version": "1.5.0",
          "state": {
            "_model_module": "@jupyter-widgets/controls",
            "_model_module_version": "1.5.0",
            "_model_name": "DescriptionStyleModel",
            "_view_count": null,
            "_view_module": "@jupyter-widgets/base",
            "_view_module_version": "1.2.0",
            "_view_name": "StyleView",
            "description_width": ""
          }
        },
        "c78ac5e5b848403f8ad1fc4fc0c55ffc": {
          "model_module": "@jupyter-widgets/base",
          "model_name": "LayoutModel",
          "model_module_version": "1.2.0",
          "state": {
            "_model_module": "@jupyter-widgets/base",
            "_model_module_version": "1.2.0",
            "_model_name": "LayoutModel",
            "_view_count": null,
            "_view_module": "@jupyter-widgets/base",
            "_view_module_version": "1.2.0",
            "_view_name": "LayoutView",
            "align_content": null,
            "align_items": null,
            "align_self": null,
            "border": null,
            "bottom": null,
            "display": null,
            "flex": null,
            "flex_flow": null,
            "grid_area": null,
            "grid_auto_columns": null,
            "grid_auto_flow": null,
            "grid_auto_rows": null,
            "grid_column": null,
            "grid_gap": null,
            "grid_row": null,
            "grid_template_areas": null,
            "grid_template_columns": null,
            "grid_template_rows": null,
            "height": null,
            "justify_content": null,
            "justify_items": null,
            "left": null,
            "margin": null,
            "max_height": null,
            "max_width": null,
            "min_height": null,
            "min_width": null,
            "object_fit": null,
            "object_position": null,
            "order": null,
            "overflow": null,
            "overflow_x": null,
            "overflow_y": null,
            "padding": null,
            "right": null,
            "top": null,
            "visibility": null,
            "width": null
          }
        },
        "96067e45ed654c22b4d27f13c63df5db": {
          "model_module": "@jupyter-widgets/controls",
          "model_name": "ProgressStyleModel",
          "model_module_version": "1.5.0",
          "state": {
            "_model_module": "@jupyter-widgets/controls",
            "_model_module_version": "1.5.0",
            "_model_name": "ProgressStyleModel",
            "_view_count": null,
            "_view_module": "@jupyter-widgets/base",
            "_view_module_version": "1.2.0",
            "_view_name": "StyleView",
            "bar_color": null,
            "description_width": ""
          }
        },
        "d4b35bdac0804410a9bb37c4930888fc": {
          "model_module": "@jupyter-widgets/base",
          "model_name": "LayoutModel",
          "model_module_version": "1.2.0",
          "state": {
            "_model_module": "@jupyter-widgets/base",
            "_model_module_version": "1.2.0",
            "_model_name": "LayoutModel",
            "_view_count": null,
            "_view_module": "@jupyter-widgets/base",
            "_view_module_version": "1.2.0",
            "_view_name": "LayoutView",
            "align_content": null,
            "align_items": null,
            "align_self": null,
            "border": null,
            "bottom": null,
            "display": null,
            "flex": null,
            "flex_flow": null,
            "grid_area": null,
            "grid_auto_columns": null,
            "grid_auto_flow": null,
            "grid_auto_rows": null,
            "grid_column": null,
            "grid_gap": null,
            "grid_row": null,
            "grid_template_areas": null,
            "grid_template_columns": null,
            "grid_template_rows": null,
            "height": null,
            "justify_content": null,
            "justify_items": null,
            "left": null,
            "margin": null,
            "max_height": null,
            "max_width": null,
            "min_height": null,
            "min_width": null,
            "object_fit": null,
            "object_position": null,
            "order": null,
            "overflow": null,
            "overflow_x": null,
            "overflow_y": null,
            "padding": null,
            "right": null,
            "top": null,
            "visibility": null,
            "width": null
          }
        },
        "555239e6859e4a7cb46b1f6a0ca04e45": {
          "model_module": "@jupyter-widgets/controls",
          "model_name": "DescriptionStyleModel",
          "model_module_version": "1.5.0",
          "state": {
            "_model_module": "@jupyter-widgets/controls",
            "_model_module_version": "1.5.0",
            "_model_name": "DescriptionStyleModel",
            "_view_count": null,
            "_view_module": "@jupyter-widgets/base",
            "_view_module_version": "1.2.0",
            "_view_name": "StyleView",
            "description_width": ""
          }
        },
        "7f4982beeaee47e699bd685008b3d740": {
          "model_module": "@jupyter-widgets/controls",
          "model_name": "HBoxModel",
          "model_module_version": "1.5.0",
          "state": {
            "_dom_classes": [],
            "_model_module": "@jupyter-widgets/controls",
            "_model_module_version": "1.5.0",
            "_model_name": "HBoxModel",
            "_view_count": null,
            "_view_module": "@jupyter-widgets/controls",
            "_view_module_version": "1.5.0",
            "_view_name": "HBoxView",
            "box_style": "",
            "children": [
              "IPY_MODEL_62975d0a241b49199ec4af4536e441dc",
              "IPY_MODEL_9ca6b96cdd8b4120b38fc78e709839b5",
              "IPY_MODEL_2e4e01ad9ab14c87beb08c9900ea5c47"
            ],
            "layout": "IPY_MODEL_0e50a7b4a9734c0fa30496af8fd6ccc4"
          }
        },
        "62975d0a241b49199ec4af4536e441dc": {
          "model_module": "@jupyter-widgets/controls",
          "model_name": "HTMLModel",
          "model_module_version": "1.5.0",
          "state": {
            "_dom_classes": [],
            "_model_module": "@jupyter-widgets/controls",
            "_model_module_version": "1.5.0",
            "_model_name": "HTMLModel",
            "_view_count": null,
            "_view_module": "@jupyter-widgets/controls",
            "_view_module_version": "1.5.0",
            "_view_name": "HTMLView",
            "description": "",
            "description_tooltip": null,
            "layout": "IPY_MODEL_0b3e121eed6c4b1ca4ac5f362ea454a9",
            "placeholder": "​",
            "style": "IPY_MODEL_c06b5623161341688466ee0849f980e2",
            "value": "Downloading: 100%"
          }
        },
        "9ca6b96cdd8b4120b38fc78e709839b5": {
          "model_module": "@jupyter-widgets/controls",
          "model_name": "FloatProgressModel",
          "model_module_version": "1.5.0",
          "state": {
            "_dom_classes": [],
            "_model_module": "@jupyter-widgets/controls",
            "_model_module_version": "1.5.0",
            "_model_name": "FloatProgressModel",
            "_view_count": null,
            "_view_module": "@jupyter-widgets/controls",
            "_view_module_version": "1.5.0",
            "_view_name": "ProgressView",
            "bar_style": "success",
            "description": "",
            "description_tooltip": null,
            "layout": "IPY_MODEL_8e6765f0706f41bb840f569f7a1ecd6b",
            "max": 112,
            "min": 0,
            "orientation": "horizontal",
            "style": "IPY_MODEL_25dca93d335b4defb2e43829c43d5e97",
            "value": 112
          }
        },
        "2e4e01ad9ab14c87beb08c9900ea5c47": {
          "model_module": "@jupyter-widgets/controls",
          "model_name": "HTMLModel",
          "model_module_version": "1.5.0",
          "state": {
            "_dom_classes": [],
            "_model_module": "@jupyter-widgets/controls",
            "_model_module_version": "1.5.0",
            "_model_name": "HTMLModel",
            "_view_count": null,
            "_view_module": "@jupyter-widgets/controls",
            "_view_module_version": "1.5.0",
            "_view_name": "HTMLView",
            "description": "",
            "description_tooltip": null,
            "layout": "IPY_MODEL_40946bada3a347309ceb54bf5ec60a2a",
            "placeholder": "​",
            "style": "IPY_MODEL_2e6c7f6d8a2b4dc29a48a40863cfea1f",
            "value": " 112/112 [00:00&lt;00:00, 995B/s]"
          }
        },
        "0e50a7b4a9734c0fa30496af8fd6ccc4": {
          "model_module": "@jupyter-widgets/base",
          "model_name": "LayoutModel",
          "model_module_version": "1.2.0",
          "state": {
            "_model_module": "@jupyter-widgets/base",
            "_model_module_version": "1.2.0",
            "_model_name": "LayoutModel",
            "_view_count": null,
            "_view_module": "@jupyter-widgets/base",
            "_view_module_version": "1.2.0",
            "_view_name": "LayoutView",
            "align_content": null,
            "align_items": null,
            "align_self": null,
            "border": null,
            "bottom": null,
            "display": null,
            "flex": null,
            "flex_flow": null,
            "grid_area": null,
            "grid_auto_columns": null,
            "grid_auto_flow": null,
            "grid_auto_rows": null,
            "grid_column": null,
            "grid_gap": null,
            "grid_row": null,
            "grid_template_areas": null,
            "grid_template_columns": null,
            "grid_template_rows": null,
            "height": null,
            "justify_content": null,
            "justify_items": null,
            "left": null,
            "margin": null,
            "max_height": null,
            "max_width": null,
            "min_height": null,
            "min_width": null,
            "object_fit": null,
            "object_position": null,
            "order": null,
            "overflow": null,
            "overflow_x": null,
            "overflow_y": null,
            "padding": null,
            "right": null,
            "top": null,
            "visibility": null,
            "width": null
          }
        },
        "0b3e121eed6c4b1ca4ac5f362ea454a9": {
          "model_module": "@jupyter-widgets/base",
          "model_name": "LayoutModel",
          "model_module_version": "1.2.0",
          "state": {
            "_model_module": "@jupyter-widgets/base",
            "_model_module_version": "1.2.0",
            "_model_name": "LayoutModel",
            "_view_count": null,
            "_view_module": "@jupyter-widgets/base",
            "_view_module_version": "1.2.0",
            "_view_name": "LayoutView",
            "align_content": null,
            "align_items": null,
            "align_self": null,
            "border": null,
            "bottom": null,
            "display": null,
            "flex": null,
            "flex_flow": null,
            "grid_area": null,
            "grid_auto_columns": null,
            "grid_auto_flow": null,
            "grid_auto_rows": null,
            "grid_column": null,
            "grid_gap": null,
            "grid_row": null,
            "grid_template_areas": null,
            "grid_template_columns": null,
            "grid_template_rows": null,
            "height": null,
            "justify_content": null,
            "justify_items": null,
            "left": null,
            "margin": null,
            "max_height": null,
            "max_width": null,
            "min_height": null,
            "min_width": null,
            "object_fit": null,
            "object_position": null,
            "order": null,
            "overflow": null,
            "overflow_x": null,
            "overflow_y": null,
            "padding": null,
            "right": null,
            "top": null,
            "visibility": null,
            "width": null
          }
        },
        "c06b5623161341688466ee0849f980e2": {
          "model_module": "@jupyter-widgets/controls",
          "model_name": "DescriptionStyleModel",
          "model_module_version": "1.5.0",
          "state": {
            "_model_module": "@jupyter-widgets/controls",
            "_model_module_version": "1.5.0",
            "_model_name": "DescriptionStyleModel",
            "_view_count": null,
            "_view_module": "@jupyter-widgets/base",
            "_view_module_version": "1.2.0",
            "_view_name": "StyleView",
            "description_width": ""
          }
        },
        "8e6765f0706f41bb840f569f7a1ecd6b": {
          "model_module": "@jupyter-widgets/base",
          "model_name": "LayoutModel",
          "model_module_version": "1.2.0",
          "state": {
            "_model_module": "@jupyter-widgets/base",
            "_model_module_version": "1.2.0",
            "_model_name": "LayoutModel",
            "_view_count": null,
            "_view_module": "@jupyter-widgets/base",
            "_view_module_version": "1.2.0",
            "_view_name": "LayoutView",
            "align_content": null,
            "align_items": null,
            "align_self": null,
            "border": null,
            "bottom": null,
            "display": null,
            "flex": null,
            "flex_flow": null,
            "grid_area": null,
            "grid_auto_columns": null,
            "grid_auto_flow": null,
            "grid_auto_rows": null,
            "grid_column": null,
            "grid_gap": null,
            "grid_row": null,
            "grid_template_areas": null,
            "grid_template_columns": null,
            "grid_template_rows": null,
            "height": null,
            "justify_content": null,
            "justify_items": null,
            "left": null,
            "margin": null,
            "max_height": null,
            "max_width": null,
            "min_height": null,
            "min_width": null,
            "object_fit": null,
            "object_position": null,
            "order": null,
            "overflow": null,
            "overflow_x": null,
            "overflow_y": null,
            "padding": null,
            "right": null,
            "top": null,
            "visibility": null,
            "width": null
          }
        },
        "25dca93d335b4defb2e43829c43d5e97": {
          "model_module": "@jupyter-widgets/controls",
          "model_name": "ProgressStyleModel",
          "model_module_version": "1.5.0",
          "state": {
            "_model_module": "@jupyter-widgets/controls",
            "_model_module_version": "1.5.0",
            "_model_name": "ProgressStyleModel",
            "_view_count": null,
            "_view_module": "@jupyter-widgets/base",
            "_view_module_version": "1.2.0",
            "_view_name": "StyleView",
            "bar_color": null,
            "description_width": ""
          }
        },
        "40946bada3a347309ceb54bf5ec60a2a": {
          "model_module": "@jupyter-widgets/base",
          "model_name": "LayoutModel",
          "model_module_version": "1.2.0",
          "state": {
            "_model_module": "@jupyter-widgets/base",
            "_model_module_version": "1.2.0",
            "_model_name": "LayoutModel",
            "_view_count": null,
            "_view_module": "@jupyter-widgets/base",
            "_view_module_version": "1.2.0",
            "_view_name": "LayoutView",
            "align_content": null,
            "align_items": null,
            "align_self": null,
            "border": null,
            "bottom": null,
            "display": null,
            "flex": null,
            "flex_flow": null,
            "grid_area": null,
            "grid_auto_columns": null,
            "grid_auto_flow": null,
            "grid_auto_rows": null,
            "grid_column": null,
            "grid_gap": null,
            "grid_row": null,
            "grid_template_areas": null,
            "grid_template_columns": null,
            "grid_template_rows": null,
            "height": null,
            "justify_content": null,
            "justify_items": null,
            "left": null,
            "margin": null,
            "max_height": null,
            "max_width": null,
            "min_height": null,
            "min_width": null,
            "object_fit": null,
            "object_position": null,
            "order": null,
            "overflow": null,
            "overflow_x": null,
            "overflow_y": null,
            "padding": null,
            "right": null,
            "top": null,
            "visibility": null,
            "width": null
          }
        },
        "2e6c7f6d8a2b4dc29a48a40863cfea1f": {
          "model_module": "@jupyter-widgets/controls",
          "model_name": "DescriptionStyleModel",
          "model_module_version": "1.5.0",
          "state": {
            "_model_module": "@jupyter-widgets/controls",
            "_model_module_version": "1.5.0",
            "_model_name": "DescriptionStyleModel",
            "_view_count": null,
            "_view_module": "@jupyter-widgets/base",
            "_view_module_version": "1.2.0",
            "_view_name": "StyleView",
            "description_width": ""
          }
        },
        "f27afd13d75d4fe29075bface24a7f81": {
          "model_module": "@jupyter-widgets/controls",
          "model_name": "HBoxModel",
          "model_module_version": "1.5.0",
          "state": {
            "_dom_classes": [],
            "_model_module": "@jupyter-widgets/controls",
            "_model_module_version": "1.5.0",
            "_model_name": "HBoxModel",
            "_view_count": null,
            "_view_module": "@jupyter-widgets/controls",
            "_view_module_version": "1.5.0",
            "_view_name": "HBoxView",
            "box_style": "",
            "children": [
              "IPY_MODEL_ca430c18a1c24e42bf04161148d388eb",
              "IPY_MODEL_6b350d7c073a45f4862a9ee8698bff83",
              "IPY_MODEL_2623b22d2a6647e4ae0fe76e0ed2e4c4"
            ],
            "layout": "IPY_MODEL_263a5fb497b3420891b9b697bf48772d"
          }
        },
        "ca430c18a1c24e42bf04161148d388eb": {
          "model_module": "@jupyter-widgets/controls",
          "model_name": "HTMLModel",
          "model_module_version": "1.5.0",
          "state": {
            "_dom_classes": [],
            "_model_module": "@jupyter-widgets/controls",
            "_model_module_version": "1.5.0",
            "_model_name": "HTMLModel",
            "_view_count": null,
            "_view_module": "@jupyter-widgets/controls",
            "_view_module_version": "1.5.0",
            "_view_name": "HTMLView",
            "description": "",
            "description_tooltip": null,
            "layout": "IPY_MODEL_32966c5adb2842699a95ba4466bb969c",
            "placeholder": "​",
            "style": "IPY_MODEL_fb69db9bcc024033a3b1d5a709c2dc1b",
            "value": "Downloading: 100%"
          }
        },
        "6b350d7c073a45f4862a9ee8698bff83": {
          "model_module": "@jupyter-widgets/controls",
          "model_name": "FloatProgressModel",
          "model_module_version": "1.5.0",
          "state": {
            "_dom_classes": [],
            "_model_module": "@jupyter-widgets/controls",
            "_model_module_version": "1.5.0",
            "_model_name": "FloatProgressModel",
            "_view_count": null,
            "_view_module": "@jupyter-widgets/controls",
            "_view_module_version": "1.5.0",
            "_view_name": "ProgressView",
            "bar_style": "success",
            "description": "",
            "description_tooltip": null,
            "layout": "IPY_MODEL_ef04fa24cadd4ee987ad7cafca0d2527",
            "max": 466081,
            "min": 0,
            "orientation": "horizontal",
            "style": "IPY_MODEL_d1741c5726b74194a088e0d417a7e514",
            "value": 466081
          }
        },
        "2623b22d2a6647e4ae0fe76e0ed2e4c4": {
          "model_module": "@jupyter-widgets/controls",
          "model_name": "HTMLModel",
          "model_module_version": "1.5.0",
          "state": {
            "_dom_classes": [],
            "_model_module": "@jupyter-widgets/controls",
            "_model_module_version": "1.5.0",
            "_model_name": "HTMLModel",
            "_view_count": null,
            "_view_module": "@jupyter-widgets/controls",
            "_view_module_version": "1.5.0",
            "_view_name": "HTMLView",
            "description": "",
            "description_tooltip": null,
            "layout": "IPY_MODEL_728290db05084614855ef11e4a6e76dd",
            "placeholder": "​",
            "style": "IPY_MODEL_4936250524ab43f68cf2cd91fca406c7",
            "value": " 466k/466k [00:01&lt;00:00, 458kB/s]"
          }
        },
        "263a5fb497b3420891b9b697bf48772d": {
          "model_module": "@jupyter-widgets/base",
          "model_name": "LayoutModel",
          "model_module_version": "1.2.0",
          "state": {
            "_model_module": "@jupyter-widgets/base",
            "_model_module_version": "1.2.0",
            "_model_name": "LayoutModel",
            "_view_count": null,
            "_view_module": "@jupyter-widgets/base",
            "_view_module_version": "1.2.0",
            "_view_name": "LayoutView",
            "align_content": null,
            "align_items": null,
            "align_self": null,
            "border": null,
            "bottom": null,
            "display": null,
            "flex": null,
            "flex_flow": null,
            "grid_area": null,
            "grid_auto_columns": null,
            "grid_auto_flow": null,
            "grid_auto_rows": null,
            "grid_column": null,
            "grid_gap": null,
            "grid_row": null,
            "grid_template_areas": null,
            "grid_template_columns": null,
            "grid_template_rows": null,
            "height": null,
            "justify_content": null,
            "justify_items": null,
            "left": null,
            "margin": null,
            "max_height": null,
            "max_width": null,
            "min_height": null,
            "min_width": null,
            "object_fit": null,
            "object_position": null,
            "order": null,
            "overflow": null,
            "overflow_x": null,
            "overflow_y": null,
            "padding": null,
            "right": null,
            "top": null,
            "visibility": null,
            "width": null
          }
        },
        "32966c5adb2842699a95ba4466bb969c": {
          "model_module": "@jupyter-widgets/base",
          "model_name": "LayoutModel",
          "model_module_version": "1.2.0",
          "state": {
            "_model_module": "@jupyter-widgets/base",
            "_model_module_version": "1.2.0",
            "_model_name": "LayoutModel",
            "_view_count": null,
            "_view_module": "@jupyter-widgets/base",
            "_view_module_version": "1.2.0",
            "_view_name": "LayoutView",
            "align_content": null,
            "align_items": null,
            "align_self": null,
            "border": null,
            "bottom": null,
            "display": null,
            "flex": null,
            "flex_flow": null,
            "grid_area": null,
            "grid_auto_columns": null,
            "grid_auto_flow": null,
            "grid_auto_rows": null,
            "grid_column": null,
            "grid_gap": null,
            "grid_row": null,
            "grid_template_areas": null,
            "grid_template_columns": null,
            "grid_template_rows": null,
            "height": null,
            "justify_content": null,
            "justify_items": null,
            "left": null,
            "margin": null,
            "max_height": null,
            "max_width": null,
            "min_height": null,
            "min_width": null,
            "object_fit": null,
            "object_position": null,
            "order": null,
            "overflow": null,
            "overflow_x": null,
            "overflow_y": null,
            "padding": null,
            "right": null,
            "top": null,
            "visibility": null,
            "width": null
          }
        },
        "fb69db9bcc024033a3b1d5a709c2dc1b": {
          "model_module": "@jupyter-widgets/controls",
          "model_name": "DescriptionStyleModel",
          "model_module_version": "1.5.0",
          "state": {
            "_model_module": "@jupyter-widgets/controls",
            "_model_module_version": "1.5.0",
            "_model_name": "DescriptionStyleModel",
            "_view_count": null,
            "_view_module": "@jupyter-widgets/base",
            "_view_module_version": "1.2.0",
            "_view_name": "StyleView",
            "description_width": ""
          }
        },
        "ef04fa24cadd4ee987ad7cafca0d2527": {
          "model_module": "@jupyter-widgets/base",
          "model_name": "LayoutModel",
          "model_module_version": "1.2.0",
          "state": {
            "_model_module": "@jupyter-widgets/base",
            "_model_module_version": "1.2.0",
            "_model_name": "LayoutModel",
            "_view_count": null,
            "_view_module": "@jupyter-widgets/base",
            "_view_module_version": "1.2.0",
            "_view_name": "LayoutView",
            "align_content": null,
            "align_items": null,
            "align_self": null,
            "border": null,
            "bottom": null,
            "display": null,
            "flex": null,
            "flex_flow": null,
            "grid_area": null,
            "grid_auto_columns": null,
            "grid_auto_flow": null,
            "grid_auto_rows": null,
            "grid_column": null,
            "grid_gap": null,
            "grid_row": null,
            "grid_template_areas": null,
            "grid_template_columns": null,
            "grid_template_rows": null,
            "height": null,
            "justify_content": null,
            "justify_items": null,
            "left": null,
            "margin": null,
            "max_height": null,
            "max_width": null,
            "min_height": null,
            "min_width": null,
            "object_fit": null,
            "object_position": null,
            "order": null,
            "overflow": null,
            "overflow_x": null,
            "overflow_y": null,
            "padding": null,
            "right": null,
            "top": null,
            "visibility": null,
            "width": null
          }
        },
        "d1741c5726b74194a088e0d417a7e514": {
          "model_module": "@jupyter-widgets/controls",
          "model_name": "ProgressStyleModel",
          "model_module_version": "1.5.0",
          "state": {
            "_model_module": "@jupyter-widgets/controls",
            "_model_module_version": "1.5.0",
            "_model_name": "ProgressStyleModel",
            "_view_count": null,
            "_view_module": "@jupyter-widgets/base",
            "_view_module_version": "1.2.0",
            "_view_name": "StyleView",
            "bar_color": null,
            "description_width": ""
          }
        },
        "728290db05084614855ef11e4a6e76dd": {
          "model_module": "@jupyter-widgets/base",
          "model_name": "LayoutModel",
          "model_module_version": "1.2.0",
          "state": {
            "_model_module": "@jupyter-widgets/base",
            "_model_module_version": "1.2.0",
            "_model_name": "LayoutModel",
            "_view_count": null,
            "_view_module": "@jupyter-widgets/base",
            "_view_module_version": "1.2.0",
            "_view_name": "LayoutView",
            "align_content": null,
            "align_items": null,
            "align_self": null,
            "border": null,
            "bottom": null,
            "display": null,
            "flex": null,
            "flex_flow": null,
            "grid_area": null,
            "grid_auto_columns": null,
            "grid_auto_flow": null,
            "grid_auto_rows": null,
            "grid_column": null,
            "grid_gap": null,
            "grid_row": null,
            "grid_template_areas": null,
            "grid_template_columns": null,
            "grid_template_rows": null,
            "height": null,
            "justify_content": null,
            "justify_items": null,
            "left": null,
            "margin": null,
            "max_height": null,
            "max_width": null,
            "min_height": null,
            "min_width": null,
            "object_fit": null,
            "object_position": null,
            "order": null,
            "overflow": null,
            "overflow_x": null,
            "overflow_y": null,
            "padding": null,
            "right": null,
            "top": null,
            "visibility": null,
            "width": null
          }
        },
        "4936250524ab43f68cf2cd91fca406c7": {
          "model_module": "@jupyter-widgets/controls",
          "model_name": "DescriptionStyleModel",
          "model_module_version": "1.5.0",
          "state": {
            "_model_module": "@jupyter-widgets/controls",
            "_model_module_version": "1.5.0",
            "_model_name": "DescriptionStyleModel",
            "_view_count": null,
            "_view_module": "@jupyter-widgets/base",
            "_view_module_version": "1.2.0",
            "_view_name": "StyleView",
            "description_width": ""
          }
        },
        "f6344b686d26423aa9f1340fd49668b8": {
          "model_module": "@jupyter-widgets/controls",
          "model_name": "HBoxModel",
          "model_module_version": "1.5.0",
          "state": {
            "_dom_classes": [],
            "_model_module": "@jupyter-widgets/controls",
            "_model_module_version": "1.5.0",
            "_model_name": "HBoxModel",
            "_view_count": null,
            "_view_module": "@jupyter-widgets/controls",
            "_view_module_version": "1.5.0",
            "_view_name": "HBoxView",
            "box_style": "",
            "children": [
              "IPY_MODEL_e3f51b069411488e82a1ff2433eedadc",
              "IPY_MODEL_19bd5ed2720f4455a5eacb07abbc3557",
              "IPY_MODEL_c4d00b0f11dc4dcdbc6222bb153173cd"
            ],
            "layout": "IPY_MODEL_a4811c9dee04412b8b64b68a27829159"
          }
        },
        "e3f51b069411488e82a1ff2433eedadc": {
          "model_module": "@jupyter-widgets/controls",
          "model_name": "HTMLModel",
          "model_module_version": "1.5.0",
          "state": {
            "_dom_classes": [],
            "_model_module": "@jupyter-widgets/controls",
            "_model_module_version": "1.5.0",
            "_model_name": "HTMLModel",
            "_view_count": null,
            "_view_module": "@jupyter-widgets/controls",
            "_view_module_version": "1.5.0",
            "_view_name": "HTMLView",
            "description": "",
            "description_tooltip": null,
            "layout": "IPY_MODEL_8141581facf44b7f90393a9e72149c9d",
            "placeholder": "​",
            "style": "IPY_MODEL_3dae430afbf648d39809e6fb1268ac2d",
            "value": "Downloading: 100%"
          }
        },
        "19bd5ed2720f4455a5eacb07abbc3557": {
          "model_module": "@jupyter-widgets/controls",
          "model_name": "FloatProgressModel",
          "model_module_version": "1.5.0",
          "state": {
            "_dom_classes": [],
            "_model_module": "@jupyter-widgets/controls",
            "_model_module_version": "1.5.0",
            "_model_name": "FloatProgressModel",
            "_view_count": null,
            "_view_module": "@jupyter-widgets/controls",
            "_view_module_version": "1.5.0",
            "_view_name": "ProgressView",
            "bar_style": "success",
            "description": "",
            "description_tooltip": null,
            "layout": "IPY_MODEL_868e0e21ad0242dcb4f57a3f6a30ca4d",
            "max": 505,
            "min": 0,
            "orientation": "horizontal",
            "style": "IPY_MODEL_4565f9d0e97a4736bacf96524d9aaf83",
            "value": 505
          }
        },
        "c4d00b0f11dc4dcdbc6222bb153173cd": {
          "model_module": "@jupyter-widgets/controls",
          "model_name": "HTMLModel",
          "model_module_version": "1.5.0",
          "state": {
            "_dom_classes": [],
            "_model_module": "@jupyter-widgets/controls",
            "_model_module_version": "1.5.0",
            "_model_name": "HTMLModel",
            "_view_count": null,
            "_view_module": "@jupyter-widgets/controls",
            "_view_module_version": "1.5.0",
            "_view_name": "HTMLView",
            "description": "",
            "description_tooltip": null,
            "layout": "IPY_MODEL_8b39910ba4c64c05967a7eb9088b9be5",
            "placeholder": "​",
            "style": "IPY_MODEL_88588c650c664236b9cff8f1c5675e99",
            "value": " 505/505 [00:00&lt;00:00, 18.0kB/s]"
          }
        },
        "a4811c9dee04412b8b64b68a27829159": {
          "model_module": "@jupyter-widgets/base",
          "model_name": "LayoutModel",
          "model_module_version": "1.2.0",
          "state": {
            "_model_module": "@jupyter-widgets/base",
            "_model_module_version": "1.2.0",
            "_model_name": "LayoutModel",
            "_view_count": null,
            "_view_module": "@jupyter-widgets/base",
            "_view_module_version": "1.2.0",
            "_view_name": "LayoutView",
            "align_content": null,
            "align_items": null,
            "align_self": null,
            "border": null,
            "bottom": null,
            "display": null,
            "flex": null,
            "flex_flow": null,
            "grid_area": null,
            "grid_auto_columns": null,
            "grid_auto_flow": null,
            "grid_auto_rows": null,
            "grid_column": null,
            "grid_gap": null,
            "grid_row": null,
            "grid_template_areas": null,
            "grid_template_columns": null,
            "grid_template_rows": null,
            "height": null,
            "justify_content": null,
            "justify_items": null,
            "left": null,
            "margin": null,
            "max_height": null,
            "max_width": null,
            "min_height": null,
            "min_width": null,
            "object_fit": null,
            "object_position": null,
            "order": null,
            "overflow": null,
            "overflow_x": null,
            "overflow_y": null,
            "padding": null,
            "right": null,
            "top": null,
            "visibility": null,
            "width": null
          }
        },
        "8141581facf44b7f90393a9e72149c9d": {
          "model_module": "@jupyter-widgets/base",
          "model_name": "LayoutModel",
          "model_module_version": "1.2.0",
          "state": {
            "_model_module": "@jupyter-widgets/base",
            "_model_module_version": "1.2.0",
            "_model_name": "LayoutModel",
            "_view_count": null,
            "_view_module": "@jupyter-widgets/base",
            "_view_module_version": "1.2.0",
            "_view_name": "LayoutView",
            "align_content": null,
            "align_items": null,
            "align_self": null,
            "border": null,
            "bottom": null,
            "display": null,
            "flex": null,
            "flex_flow": null,
            "grid_area": null,
            "grid_auto_columns": null,
            "grid_auto_flow": null,
            "grid_auto_rows": null,
            "grid_column": null,
            "grid_gap": null,
            "grid_row": null,
            "grid_template_areas": null,
            "grid_template_columns": null,
            "grid_template_rows": null,
            "height": null,
            "justify_content": null,
            "justify_items": null,
            "left": null,
            "margin": null,
            "max_height": null,
            "max_width": null,
            "min_height": null,
            "min_width": null,
            "object_fit": null,
            "object_position": null,
            "order": null,
            "overflow": null,
            "overflow_x": null,
            "overflow_y": null,
            "padding": null,
            "right": null,
            "top": null,
            "visibility": null,
            "width": null
          }
        },
        "3dae430afbf648d39809e6fb1268ac2d": {
          "model_module": "@jupyter-widgets/controls",
          "model_name": "DescriptionStyleModel",
          "model_module_version": "1.5.0",
          "state": {
            "_model_module": "@jupyter-widgets/controls",
            "_model_module_version": "1.5.0",
            "_model_name": "DescriptionStyleModel",
            "_view_count": null,
            "_view_module": "@jupyter-widgets/base",
            "_view_module_version": "1.2.0",
            "_view_name": "StyleView",
            "description_width": ""
          }
        },
        "868e0e21ad0242dcb4f57a3f6a30ca4d": {
          "model_module": "@jupyter-widgets/base",
          "model_name": "LayoutModel",
          "model_module_version": "1.2.0",
          "state": {
            "_model_module": "@jupyter-widgets/base",
            "_model_module_version": "1.2.0",
            "_model_name": "LayoutModel",
            "_view_count": null,
            "_view_module": "@jupyter-widgets/base",
            "_view_module_version": "1.2.0",
            "_view_name": "LayoutView",
            "align_content": null,
            "align_items": null,
            "align_self": null,
            "border": null,
            "bottom": null,
            "display": null,
            "flex": null,
            "flex_flow": null,
            "grid_area": null,
            "grid_auto_columns": null,
            "grid_auto_flow": null,
            "grid_auto_rows": null,
            "grid_column": null,
            "grid_gap": null,
            "grid_row": null,
            "grid_template_areas": null,
            "grid_template_columns": null,
            "grid_template_rows": null,
            "height": null,
            "justify_content": null,
            "justify_items": null,
            "left": null,
            "margin": null,
            "max_height": null,
            "max_width": null,
            "min_height": null,
            "min_width": null,
            "object_fit": null,
            "object_position": null,
            "order": null,
            "overflow": null,
            "overflow_x": null,
            "overflow_y": null,
            "padding": null,
            "right": null,
            "top": null,
            "visibility": null,
            "width": null
          }
        },
        "4565f9d0e97a4736bacf96524d9aaf83": {
          "model_module": "@jupyter-widgets/controls",
          "model_name": "ProgressStyleModel",
          "model_module_version": "1.5.0",
          "state": {
            "_model_module": "@jupyter-widgets/controls",
            "_model_module_version": "1.5.0",
            "_model_name": "ProgressStyleModel",
            "_view_count": null,
            "_view_module": "@jupyter-widgets/base",
            "_view_module_version": "1.2.0",
            "_view_name": "StyleView",
            "bar_color": null,
            "description_width": ""
          }
        },
        "8b39910ba4c64c05967a7eb9088b9be5": {
          "model_module": "@jupyter-widgets/base",
          "model_name": "LayoutModel",
          "model_module_version": "1.2.0",
          "state": {
            "_model_module": "@jupyter-widgets/base",
            "_model_module_version": "1.2.0",
            "_model_name": "LayoutModel",
            "_view_count": null,
            "_view_module": "@jupyter-widgets/base",
            "_view_module_version": "1.2.0",
            "_view_name": "LayoutView",
            "align_content": null,
            "align_items": null,
            "align_self": null,
            "border": null,
            "bottom": null,
            "display": null,
            "flex": null,
            "flex_flow": null,
            "grid_area": null,
            "grid_auto_columns": null,
            "grid_auto_flow": null,
            "grid_auto_rows": null,
            "grid_column": null,
            "grid_gap": null,
            "grid_row": null,
            "grid_template_areas": null,
            "grid_template_columns": null,
            "grid_template_rows": null,
            "height": null,
            "justify_content": null,
            "justify_items": null,
            "left": null,
            "margin": null,
            "max_height": null,
            "max_width": null,
            "min_height": null,
            "min_width": null,
            "object_fit": null,
            "object_position": null,
            "order": null,
            "overflow": null,
            "overflow_x": null,
            "overflow_y": null,
            "padding": null,
            "right": null,
            "top": null,
            "visibility": null,
            "width": null
          }
        },
        "88588c650c664236b9cff8f1c5675e99": {
          "model_module": "@jupyter-widgets/controls",
          "model_name": "DescriptionStyleModel",
          "model_module_version": "1.5.0",
          "state": {
            "_model_module": "@jupyter-widgets/controls",
            "_model_module_version": "1.5.0",
            "_model_name": "DescriptionStyleModel",
            "_view_count": null,
            "_view_module": "@jupyter-widgets/base",
            "_view_module_version": "1.2.0",
            "_view_name": "StyleView",
            "description_width": ""
          }
        },
        "2f78160c280042059159471fb88ed4c2": {
          "model_module": "@jupyter-widgets/controls",
          "model_name": "HBoxModel",
          "model_module_version": "1.5.0",
          "state": {
            "_dom_classes": [],
            "_model_module": "@jupyter-widgets/controls",
            "_model_module_version": "1.5.0",
            "_model_name": "HBoxModel",
            "_view_count": null,
            "_view_module": "@jupyter-widgets/controls",
            "_view_module_version": "1.5.0",
            "_view_name": "HBoxView",
            "box_style": "",
            "children": [
              "IPY_MODEL_cf2ab660b45f47928515288869d6cbf7",
              "IPY_MODEL_6a5c7eae6491478798f8d25574d23b7a",
              "IPY_MODEL_61a6c830dc574051b7b73d0acdf9710b"
            ],
            "layout": "IPY_MODEL_f230fa618e1044639e101057abc79192"
          }
        },
        "cf2ab660b45f47928515288869d6cbf7": {
          "model_module": "@jupyter-widgets/controls",
          "model_name": "HTMLModel",
          "model_module_version": "1.5.0",
          "state": {
            "_dom_classes": [],
            "_model_module": "@jupyter-widgets/controls",
            "_model_module_version": "1.5.0",
            "_model_name": "HTMLModel",
            "_view_count": null,
            "_view_module": "@jupyter-widgets/controls",
            "_view_module_version": "1.5.0",
            "_view_name": "HTMLView",
            "description": "",
            "description_tooltip": null,
            "layout": "IPY_MODEL_3e8760987ce441e8aa01493990180073",
            "placeholder": "​",
            "style": "IPY_MODEL_e606d88088374d76b347325a3632198d",
            "value": "Downloading: 100%"
          }
        },
        "6a5c7eae6491478798f8d25574d23b7a": {
          "model_module": "@jupyter-widgets/controls",
          "model_name": "FloatProgressModel",
          "model_module_version": "1.5.0",
          "state": {
            "_dom_classes": [],
            "_model_module": "@jupyter-widgets/controls",
            "_model_module_version": "1.5.0",
            "_model_name": "FloatProgressModel",
            "_view_count": null,
            "_view_module": "@jupyter-widgets/controls",
            "_view_module_version": "1.5.0",
            "_view_name": "ProgressView",
            "bar_style": "success",
            "description": "",
            "description_tooltip": null,
            "layout": "IPY_MODEL_7f5bbd6d098047ab84a01e80313aada0",
            "max": 231508,
            "min": 0,
            "orientation": "horizontal",
            "style": "IPY_MODEL_b8cb9c570a7a4587ba9ddbb069182981",
            "value": 231508
          }
        },
        "61a6c830dc574051b7b73d0acdf9710b": {
          "model_module": "@jupyter-widgets/controls",
          "model_name": "HTMLModel",
          "model_module_version": "1.5.0",
          "state": {
            "_dom_classes": [],
            "_model_module": "@jupyter-widgets/controls",
            "_model_module_version": "1.5.0",
            "_model_name": "HTMLModel",
            "_view_count": null,
            "_view_module": "@jupyter-widgets/controls",
            "_view_module_version": "1.5.0",
            "_view_name": "HTMLView",
            "description": "",
            "description_tooltip": null,
            "layout": "IPY_MODEL_3e74f47ceb404257b1dc5a7fb31f1868",
            "placeholder": "​",
            "style": "IPY_MODEL_1de90891c99f43f689314acaa013d8b4",
            "value": " 232k/232k [00:00&lt;00:00, 286kB/s]"
          }
        },
        "f230fa618e1044639e101057abc79192": {
          "model_module": "@jupyter-widgets/base",
          "model_name": "LayoutModel",
          "model_module_version": "1.2.0",
          "state": {
            "_model_module": "@jupyter-widgets/base",
            "_model_module_version": "1.2.0",
            "_model_name": "LayoutModel",
            "_view_count": null,
            "_view_module": "@jupyter-widgets/base",
            "_view_module_version": "1.2.0",
            "_view_name": "LayoutView",
            "align_content": null,
            "align_items": null,
            "align_self": null,
            "border": null,
            "bottom": null,
            "display": null,
            "flex": null,
            "flex_flow": null,
            "grid_area": null,
            "grid_auto_columns": null,
            "grid_auto_flow": null,
            "grid_auto_rows": null,
            "grid_column": null,
            "grid_gap": null,
            "grid_row": null,
            "grid_template_areas": null,
            "grid_template_columns": null,
            "grid_template_rows": null,
            "height": null,
            "justify_content": null,
            "justify_items": null,
            "left": null,
            "margin": null,
            "max_height": null,
            "max_width": null,
            "min_height": null,
            "min_width": null,
            "object_fit": null,
            "object_position": null,
            "order": null,
            "overflow": null,
            "overflow_x": null,
            "overflow_y": null,
            "padding": null,
            "right": null,
            "top": null,
            "visibility": null,
            "width": null
          }
        },
        "3e8760987ce441e8aa01493990180073": {
          "model_module": "@jupyter-widgets/base",
          "model_name": "LayoutModel",
          "model_module_version": "1.2.0",
          "state": {
            "_model_module": "@jupyter-widgets/base",
            "_model_module_version": "1.2.0",
            "_model_name": "LayoutModel",
            "_view_count": null,
            "_view_module": "@jupyter-widgets/base",
            "_view_module_version": "1.2.0",
            "_view_name": "LayoutView",
            "align_content": null,
            "align_items": null,
            "align_self": null,
            "border": null,
            "bottom": null,
            "display": null,
            "flex": null,
            "flex_flow": null,
            "grid_area": null,
            "grid_auto_columns": null,
            "grid_auto_flow": null,
            "grid_auto_rows": null,
            "grid_column": null,
            "grid_gap": null,
            "grid_row": null,
            "grid_template_areas": null,
            "grid_template_columns": null,
            "grid_template_rows": null,
            "height": null,
            "justify_content": null,
            "justify_items": null,
            "left": null,
            "margin": null,
            "max_height": null,
            "max_width": null,
            "min_height": null,
            "min_width": null,
            "object_fit": null,
            "object_position": null,
            "order": null,
            "overflow": null,
            "overflow_x": null,
            "overflow_y": null,
            "padding": null,
            "right": null,
            "top": null,
            "visibility": null,
            "width": null
          }
        },
        "e606d88088374d76b347325a3632198d": {
          "model_module": "@jupyter-widgets/controls",
          "model_name": "DescriptionStyleModel",
          "model_module_version": "1.5.0",
          "state": {
            "_model_module": "@jupyter-widgets/controls",
            "_model_module_version": "1.5.0",
            "_model_name": "DescriptionStyleModel",
            "_view_count": null,
            "_view_module": "@jupyter-widgets/base",
            "_view_module_version": "1.2.0",
            "_view_name": "StyleView",
            "description_width": ""
          }
        },
        "7f5bbd6d098047ab84a01e80313aada0": {
          "model_module": "@jupyter-widgets/base",
          "model_name": "LayoutModel",
          "model_module_version": "1.2.0",
          "state": {
            "_model_module": "@jupyter-widgets/base",
            "_model_module_version": "1.2.0",
            "_model_name": "LayoutModel",
            "_view_count": null,
            "_view_module": "@jupyter-widgets/base",
            "_view_module_version": "1.2.0",
            "_view_name": "LayoutView",
            "align_content": null,
            "align_items": null,
            "align_self": null,
            "border": null,
            "bottom": null,
            "display": null,
            "flex": null,
            "flex_flow": null,
            "grid_area": null,
            "grid_auto_columns": null,
            "grid_auto_flow": null,
            "grid_auto_rows": null,
            "grid_column": null,
            "grid_gap": null,
            "grid_row": null,
            "grid_template_areas": null,
            "grid_template_columns": null,
            "grid_template_rows": null,
            "height": null,
            "justify_content": null,
            "justify_items": null,
            "left": null,
            "margin": null,
            "max_height": null,
            "max_width": null,
            "min_height": null,
            "min_width": null,
            "object_fit": null,
            "object_position": null,
            "order": null,
            "overflow": null,
            "overflow_x": null,
            "overflow_y": null,
            "padding": null,
            "right": null,
            "top": null,
            "visibility": null,
            "width": null
          }
        },
        "b8cb9c570a7a4587ba9ddbb069182981": {
          "model_module": "@jupyter-widgets/controls",
          "model_name": "ProgressStyleModel",
          "model_module_version": "1.5.0",
          "state": {
            "_model_module": "@jupyter-widgets/controls",
            "_model_module_version": "1.5.0",
            "_model_name": "ProgressStyleModel",
            "_view_count": null,
            "_view_module": "@jupyter-widgets/base",
            "_view_module_version": "1.2.0",
            "_view_name": "StyleView",
            "bar_color": null,
            "description_width": ""
          }
        },
        "3e74f47ceb404257b1dc5a7fb31f1868": {
          "model_module": "@jupyter-widgets/base",
          "model_name": "LayoutModel",
          "model_module_version": "1.2.0",
          "state": {
            "_model_module": "@jupyter-widgets/base",
            "_model_module_version": "1.2.0",
            "_model_name": "LayoutModel",
            "_view_count": null,
            "_view_module": "@jupyter-widgets/base",
            "_view_module_version": "1.2.0",
            "_view_name": "LayoutView",
            "align_content": null,
            "align_items": null,
            "align_self": null,
            "border": null,
            "bottom": null,
            "display": null,
            "flex": null,
            "flex_flow": null,
            "grid_area": null,
            "grid_auto_columns": null,
            "grid_auto_flow": null,
            "grid_auto_rows": null,
            "grid_column": null,
            "grid_gap": null,
            "grid_row": null,
            "grid_template_areas": null,
            "grid_template_columns": null,
            "grid_template_rows": null,
            "height": null,
            "justify_content": null,
            "justify_items": null,
            "left": null,
            "margin": null,
            "max_height": null,
            "max_width": null,
            "min_height": null,
            "min_width": null,
            "object_fit": null,
            "object_position": null,
            "order": null,
            "overflow": null,
            "overflow_x": null,
            "overflow_y": null,
            "padding": null,
            "right": null,
            "top": null,
            "visibility": null,
            "width": null
          }
        },
        "1de90891c99f43f689314acaa013d8b4": {
          "model_module": "@jupyter-widgets/controls",
          "model_name": "DescriptionStyleModel",
          "model_module_version": "1.5.0",
          "state": {
            "_model_module": "@jupyter-widgets/controls",
            "_model_module_version": "1.5.0",
            "_model_name": "DescriptionStyleModel",
            "_view_count": null,
            "_view_module": "@jupyter-widgets/base",
            "_view_module_version": "1.2.0",
            "_view_name": "StyleView",
            "description_width": ""
          }
        },
        "ece92a23d7bc4a95a41a751cacbc4180": {
          "model_module": "@jupyter-widgets/controls",
          "model_name": "HBoxModel",
          "model_module_version": "1.5.0",
          "state": {
            "_dom_classes": [],
            "_model_module": "@jupyter-widgets/controls",
            "_model_module_version": "1.5.0",
            "_model_name": "HBoxModel",
            "_view_count": null,
            "_view_module": "@jupyter-widgets/controls",
            "_view_module_version": "1.5.0",
            "_view_name": "HBoxView",
            "box_style": "",
            "children": [
              "IPY_MODEL_a861cb8c68e54e8cb186cc2754798594",
              "IPY_MODEL_4fca89979c21481c8a9bc18e2f100581",
              "IPY_MODEL_5625b80f598840e694648f1b3eaf2423"
            ],
            "layout": "IPY_MODEL_d0edcce3fb4b42a0aa74b5b26ff82dd3"
          }
        },
        "a861cb8c68e54e8cb186cc2754798594": {
          "model_module": "@jupyter-widgets/controls",
          "model_name": "HTMLModel",
          "model_module_version": "1.5.0",
          "state": {
            "_dom_classes": [],
            "_model_module": "@jupyter-widgets/controls",
            "_model_module_version": "1.5.0",
            "_model_name": "HTMLModel",
            "_view_count": null,
            "_view_module": "@jupyter-widgets/controls",
            "_view_module_version": "1.5.0",
            "_view_name": "HTMLView",
            "description": "",
            "description_tooltip": null,
            "layout": "IPY_MODEL_8bfb14dafc574bc3ad6588ab6efd521d",
            "placeholder": "​",
            "style": "IPY_MODEL_777fe1c656484592bc62ff8da4370fc7",
            "value": "Downloading: 100%"
          }
        },
        "4fca89979c21481c8a9bc18e2f100581": {
          "model_module": "@jupyter-widgets/controls",
          "model_name": "FloatProgressModel",
          "model_module_version": "1.5.0",
          "state": {
            "_dom_classes": [],
            "_model_module": "@jupyter-widgets/controls",
            "_model_module_version": "1.5.0",
            "_model_name": "FloatProgressModel",
            "_view_count": null,
            "_view_module": "@jupyter-widgets/controls",
            "_view_module_version": "1.5.0",
            "_view_name": "ProgressView",
            "bar_style": "success",
            "description": "",
            "description_tooltip": null,
            "layout": "IPY_MODEL_13eb43f6398946e7a260468230ec48c4",
            "max": 190,
            "min": 0,
            "orientation": "horizontal",
            "style": "IPY_MODEL_74c1738bc4424aaca612f96031e79b0c",
            "value": 190
          }
        },
        "5625b80f598840e694648f1b3eaf2423": {
          "model_module": "@jupyter-widgets/controls",
          "model_name": "HTMLModel",
          "model_module_version": "1.5.0",
          "state": {
            "_dom_classes": [],
            "_model_module": "@jupyter-widgets/controls",
            "_model_module_version": "1.5.0",
            "_model_name": "HTMLModel",
            "_view_count": null,
            "_view_module": "@jupyter-widgets/controls",
            "_view_module_version": "1.5.0",
            "_view_name": "HTMLView",
            "description": "",
            "description_tooltip": null,
            "layout": "IPY_MODEL_56e347fa4053401e89d9bf35d0cbef83",
            "placeholder": "​",
            "style": "IPY_MODEL_f7e3f57dea554c1aa36a88fe68065931",
            "value": " 190/190 [00:00&lt;00:00, 7.41kB/s]"
          }
        },
        "d0edcce3fb4b42a0aa74b5b26ff82dd3": {
          "model_module": "@jupyter-widgets/base",
          "model_name": "LayoutModel",
          "model_module_version": "1.2.0",
          "state": {
            "_model_module": "@jupyter-widgets/base",
            "_model_module_version": "1.2.0",
            "_model_name": "LayoutModel",
            "_view_count": null,
            "_view_module": "@jupyter-widgets/base",
            "_view_module_version": "1.2.0",
            "_view_name": "LayoutView",
            "align_content": null,
            "align_items": null,
            "align_self": null,
            "border": null,
            "bottom": null,
            "display": null,
            "flex": null,
            "flex_flow": null,
            "grid_area": null,
            "grid_auto_columns": null,
            "grid_auto_flow": null,
            "grid_auto_rows": null,
            "grid_column": null,
            "grid_gap": null,
            "grid_row": null,
            "grid_template_areas": null,
            "grid_template_columns": null,
            "grid_template_rows": null,
            "height": null,
            "justify_content": null,
            "justify_items": null,
            "left": null,
            "margin": null,
            "max_height": null,
            "max_width": null,
            "min_height": null,
            "min_width": null,
            "object_fit": null,
            "object_position": null,
            "order": null,
            "overflow": null,
            "overflow_x": null,
            "overflow_y": null,
            "padding": null,
            "right": null,
            "top": null,
            "visibility": null,
            "width": null
          }
        },
        "8bfb14dafc574bc3ad6588ab6efd521d": {
          "model_module": "@jupyter-widgets/base",
          "model_name": "LayoutModel",
          "model_module_version": "1.2.0",
          "state": {
            "_model_module": "@jupyter-widgets/base",
            "_model_module_version": "1.2.0",
            "_model_name": "LayoutModel",
            "_view_count": null,
            "_view_module": "@jupyter-widgets/base",
            "_view_module_version": "1.2.0",
            "_view_name": "LayoutView",
            "align_content": null,
            "align_items": null,
            "align_self": null,
            "border": null,
            "bottom": null,
            "display": null,
            "flex": null,
            "flex_flow": null,
            "grid_area": null,
            "grid_auto_columns": null,
            "grid_auto_flow": null,
            "grid_auto_rows": null,
            "grid_column": null,
            "grid_gap": null,
            "grid_row": null,
            "grid_template_areas": null,
            "grid_template_columns": null,
            "grid_template_rows": null,
            "height": null,
            "justify_content": null,
            "justify_items": null,
            "left": null,
            "margin": null,
            "max_height": null,
            "max_width": null,
            "min_height": null,
            "min_width": null,
            "object_fit": null,
            "object_position": null,
            "order": null,
            "overflow": null,
            "overflow_x": null,
            "overflow_y": null,
            "padding": null,
            "right": null,
            "top": null,
            "visibility": null,
            "width": null
          }
        },
        "777fe1c656484592bc62ff8da4370fc7": {
          "model_module": "@jupyter-widgets/controls",
          "model_name": "DescriptionStyleModel",
          "model_module_version": "1.5.0",
          "state": {
            "_model_module": "@jupyter-widgets/controls",
            "_model_module_version": "1.5.0",
            "_model_name": "DescriptionStyleModel",
            "_view_count": null,
            "_view_module": "@jupyter-widgets/base",
            "_view_module_version": "1.2.0",
            "_view_name": "StyleView",
            "description_width": ""
          }
        },
        "13eb43f6398946e7a260468230ec48c4": {
          "model_module": "@jupyter-widgets/base",
          "model_name": "LayoutModel",
          "model_module_version": "1.2.0",
          "state": {
            "_model_module": "@jupyter-widgets/base",
            "_model_module_version": "1.2.0",
            "_model_name": "LayoutModel",
            "_view_count": null,
            "_view_module": "@jupyter-widgets/base",
            "_view_module_version": "1.2.0",
            "_view_name": "LayoutView",
            "align_content": null,
            "align_items": null,
            "align_self": null,
            "border": null,
            "bottom": null,
            "display": null,
            "flex": null,
            "flex_flow": null,
            "grid_area": null,
            "grid_auto_columns": null,
            "grid_auto_flow": null,
            "grid_auto_rows": null,
            "grid_column": null,
            "grid_gap": null,
            "grid_row": null,
            "grid_template_areas": null,
            "grid_template_columns": null,
            "grid_template_rows": null,
            "height": null,
            "justify_content": null,
            "justify_items": null,
            "left": null,
            "margin": null,
            "max_height": null,
            "max_width": null,
            "min_height": null,
            "min_width": null,
            "object_fit": null,
            "object_position": null,
            "order": null,
            "overflow": null,
            "overflow_x": null,
            "overflow_y": null,
            "padding": null,
            "right": null,
            "top": null,
            "visibility": null,
            "width": null
          }
        },
        "74c1738bc4424aaca612f96031e79b0c": {
          "model_module": "@jupyter-widgets/controls",
          "model_name": "ProgressStyleModel",
          "model_module_version": "1.5.0",
          "state": {
            "_model_module": "@jupyter-widgets/controls",
            "_model_module_version": "1.5.0",
            "_model_name": "ProgressStyleModel",
            "_view_count": null,
            "_view_module": "@jupyter-widgets/base",
            "_view_module_version": "1.2.0",
            "_view_name": "StyleView",
            "bar_color": null,
            "description_width": ""
          }
        },
        "56e347fa4053401e89d9bf35d0cbef83": {
          "model_module": "@jupyter-widgets/base",
          "model_name": "LayoutModel",
          "model_module_version": "1.2.0",
          "state": {
            "_model_module": "@jupyter-widgets/base",
            "_model_module_version": "1.2.0",
            "_model_name": "LayoutModel",
            "_view_count": null,
            "_view_module": "@jupyter-widgets/base",
            "_view_module_version": "1.2.0",
            "_view_name": "LayoutView",
            "align_content": null,
            "align_items": null,
            "align_self": null,
            "border": null,
            "bottom": null,
            "display": null,
            "flex": null,
            "flex_flow": null,
            "grid_area": null,
            "grid_auto_columns": null,
            "grid_auto_flow": null,
            "grid_auto_rows": null,
            "grid_column": null,
            "grid_gap": null,
            "grid_row": null,
            "grid_template_areas": null,
            "grid_template_columns": null,
            "grid_template_rows": null,
            "height": null,
            "justify_content": null,
            "justify_items": null,
            "left": null,
            "margin": null,
            "max_height": null,
            "max_width": null,
            "min_height": null,
            "min_width": null,
            "object_fit": null,
            "object_position": null,
            "order": null,
            "overflow": null,
            "overflow_x": null,
            "overflow_y": null,
            "padding": null,
            "right": null,
            "top": null,
            "visibility": null,
            "width": null
          }
        },
        "f7e3f57dea554c1aa36a88fe68065931": {
          "model_module": "@jupyter-widgets/controls",
          "model_name": "DescriptionStyleModel",
          "model_module_version": "1.5.0",
          "state": {
            "_model_module": "@jupyter-widgets/controls",
            "_model_module_version": "1.5.0",
            "_model_name": "DescriptionStyleModel",
            "_view_count": null,
            "_view_module": "@jupyter-widgets/base",
            "_view_module_version": "1.2.0",
            "_view_name": "StyleView",
            "description_width": ""
          }
        }
      }
    }
  },
  "nbformat": 4,
  "nbformat_minor": 0
}
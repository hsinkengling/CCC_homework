{
  "nbformat": 4,
  "nbformat_minor": 0,
  "metadata": {
    "colab": {
      "name": "plan_B_WordCount.ipynb",
      "provenance": []
    },
    "kernelspec": {
      "name": "python3",
      "display_name": "Python 3"
    },
    "language_info": {
      "name": "python"
    }
  },
  "cells": [
    {
      "cell_type": "markdown",
      "source": [
        "This file calculates part-of-speech counts using spacy"
      ],
      "metadata": {
        "id": "ukqoTRg-15vj"
      }
    },
    {
      "cell_type": "code",
      "execution_count": 1,
      "metadata": {
        "id": "5NdmHkNLrNKN"
      },
      "outputs": [],
      "source": [
        "import spacy\n",
        "import pandas as pd"
      ]
    },
    {
      "cell_type": "markdown",
      "source": [
        ""
      ],
      "metadata": {
        "id": "iezb0N0v1pLh"
      }
    },
    {
      "cell_type": "code",
      "source": [
        "from google.colab import drive\n",
        "drive.mount('/content/drive')"
      ],
      "metadata": {
        "colab": {
          "base_uri": "https://localhost:8080/"
        },
        "id": "a0EUATF5x052",
        "outputId": "e24b319a-1587-47f6-df33-d92e7beaffd0"
      },
      "execution_count": 2,
      "outputs": [
        {
          "output_type": "stream",
          "name": "stdout",
          "text": [
            "Mounted at /content/drive\n"
          ]
        }
      ]
    },
    {
      "cell_type": "code",
      "source": [
        "nlp = spacy.load(\"en_core_web_sm\")"
      ],
      "metadata": {
        "id": "uVc_dwDdzxPz"
      },
      "execution_count": 3,
      "outputs": []
    },
    {
      "cell_type": "code",
      "source": [
        "quotes = pd.read_csv('drive/MyDrive/data2/mlk131quotes.csv', delimiter = '|', header = None)\n",
        "quotes = quotes[0].tolist()\n",
        "quotes = ' '.join(quotes)"
      ],
      "metadata": {
        "id": "h4a2XiGVx08R"
      },
      "execution_count": 10,
      "outputs": []
    },
    {
      "cell_type": "code",
      "source": [
        "dfmlkwiki = pd.read_csv(\"drive/MyDrive/data/coding_prez/mlkwiki.csv\", delimiter='|', header=None, names=['sentence', 'label'])\n",
        "mlkwikistr = ' '.join(dfmlkwiki.sentence.values.astype('str'))\n",
        "dfbirmjail = pd.read_csv(\"drive/MyDrive/data/coding_prez/birminghamjail.csv\", delimiter='|', header=None, names=['sentence', 'label'])\n",
        "birmjailstr = ' '.join(dfbirmjail.sentence.values.astype('str'))"
      ],
      "metadata": {
        "id": "hoYNoYghznHi"
      },
      "execution_count": 5,
      "outputs": []
    },
    {
      "cell_type": "code",
      "source": [
        "def tag_sents_pos(final_string):\n",
        "    \"\"\"\n",
        "    function which replicates NLTK pos tagging on sentences.\n",
        "    \"\"\"\n",
        "    doc = nlp(final_string)\n",
        "    pos_sents = []\n",
        "    for sent in doc.sents:\n",
        "        pos_sent = []\n",
        "        for token in sent:\n",
        "            pos_sent.append((token.text, token.pos_))\n",
        "        pos_sents.append(pos_sent)\n",
        "    \n",
        "    return pos_sents"
      ],
      "metadata": {
        "id": "RdF9fFppx1EX"
      },
      "execution_count": 33,
      "outputs": []
    },
    {
      "cell_type": "code",
      "source": [
        "quotespos = tag_sents_pos(quotes)\n",
        "wikipos = tag_sents_pos(mlkwikistr)\n",
        "birmjailpos = tag_sents_pos(birmjailstr)\n",
        "# quotespos\n",
        "# birmjailpos"
      ],
      "metadata": {
        "id": "xWbkiY9Nx1Fk"
      },
      "execution_count": 31,
      "outputs": []
    },
    {
      "cell_type": "code",
      "source": [
        "def top_pos(tokenpos, postype):\n",
        "    '''get top token pos'''\n",
        "    count = {}\n",
        "    tokens = [token for sentences in tokenpos for token in sentences]\n",
        "    for token in tokens:\n",
        "        if token[1] == postype:\n",
        "            if token not in count:\n",
        "                count[token] = 0\n",
        "            count[token] += 1\n",
        "    return sorted(count.items(), key = lambda x: x[1], reverse = True)"
      ],
      "metadata": {
        "id": "d9WWXVyRx1G6"
      },
      "execution_count": 48,
      "outputs": []
    },
    {
      "cell_type": "code",
      "source": [
        "print('Quotes VERBS')\n",
        "top_pos(quotespos, 'VERB')[:20]"
      ],
      "metadata": {
        "colab": {
          "base_uri": "https://localhost:8080/"
        },
        "id": "WuTbQvyp3qqz",
        "outputId": "c0518479-dc54-46d2-be8b-e20f36712629"
      },
      "execution_count": 62,
      "outputs": [
        {
          "output_type": "stream",
          "name": "stdout",
          "text": [
            "Quotes VERBS\n"
          ]
        },
        {
          "output_type": "execute_result",
          "data": {
            "text/plain": [
              "[(('can', 'VERB'), 21),\n",
              " (('must', 'VERB'), 18),\n",
              " (('will', 'VERB'), 16),\n",
              " (('love', 'VERB'), 6),\n",
              " (('make', 'VERB'), 5),\n",
              " (('walk', 'VERB'), 5),\n",
              " (('live', 'VERB'), 5),\n",
              " (('should', 'VERB'), 4),\n",
              " (('serve', 'VERB'), 4),\n",
              " (('change', 'VERB'), 4),\n",
              " (('become', 'VERB'), 4),\n",
              " (('take', 'VERB'), 4),\n",
              " (('think', 'VERB'), 4),\n",
              " (('rise', 'VERB'), 3),\n",
              " (('find', 'VERB'), 3),\n",
              " (('hate', 'VERB'), 3),\n",
              " (('forgive', 'VERB'), 3),\n",
              " (('say', 'VERB'), 3),\n",
              " (('see', 'VERB'), 3),\n",
              " (('ca', 'VERB'), 3)]"
            ]
          },
          "metadata": {},
          "execution_count": 62
        }
      ]
    },
    {
      "cell_type": "code",
      "source": [
        "print('Wiki VERBS')\n",
        "top_pos(wikipos, 'VERB')[:20]"
      ],
      "metadata": {
        "colab": {
          "base_uri": "https://localhost:8080/"
        },
        "id": "Z9Kxl21q2nWp",
        "outputId": "bc6a371c-4e42-4e7c-b38e-4b2675348b68"
      },
      "execution_count": 60,
      "outputs": [
        {
          "output_type": "stream",
          "name": "stdout",
          "text": [
            "Wiki VERBS\n"
          ]
        },
        {
          "output_type": "execute_result",
          "data": {
            "text/plain": [
              "[(('would', 'VERB'), 49),\n",
              " (('said', 'VERB'), 29),\n",
              " (('became', 'VERB'), 22),\n",
              " (('stated', 'VERB'), 21),\n",
              " (('will', 'VERB'), 20),\n",
              " (('could', 'VERB'), 20),\n",
              " (('made', 'VERB'), 19),\n",
              " (('called', 'VERB'), 19),\n",
              " (('including', 'VERB'), 15),\n",
              " (('led', 'VERB'), 12),\n",
              " (('began', 'VERB'), 12),\n",
              " (('see', 'VERB'), 12),\n",
              " (('known', 'VERB'), 12),\n",
              " (('must', 'VERB'), 12),\n",
              " (('say', 'VERB'), 12),\n",
              " (('took', 'VERB'), 11),\n",
              " (('saying', 'VERB'), 11),\n",
              " (('want', 'VERB'), 11),\n",
              " (('See', 'VERB'), 10),\n",
              " (('wrote', 'VERB'), 10)]"
            ]
          },
          "metadata": {},
          "execution_count": 60
        }
      ]
    },
    {
      "cell_type": "code",
      "source": [
        "print('Birmingham Jail VERBS')\n",
        "top_pos(birmjailpos, 'VERB')[:20]"
      ],
      "metadata": {
        "colab": {
          "base_uri": "https://localhost:8080/"
        },
        "id": "1YSFkZuZx1Ic",
        "outputId": "6949e17b-cec8-46e2-d99e-529be9623542"
      },
      "execution_count": 58,
      "outputs": [
        {
          "output_type": "stream",
          "name": "stdout",
          "text": [
            "Birmingham Jail VERBS\n"
          ]
        },
        {
          "output_type": "execute_result",
          "data": {
            "text/plain": [
              "[(('will', 'VERB'), 34),\n",
              " (('would', 'VERB'), 26),\n",
              " (('can', 'VERB'), 24),\n",
              " (('must', 'VERB'), 19),\n",
              " (('see', 'VERB'), 19),\n",
              " (('say', 'VERB'), 11),\n",
              " (('made', 'VERB'), 10),\n",
              " (('give', 'VERB'), 8),\n",
              " (('come', 'VERB'), 8),\n",
              " (('understand', 'VERB'), 7),\n",
              " (('said', 'VERB'), 6),\n",
              " (('set', 'VERB'), 5),\n",
              " (('decided', 'VERB'), 5),\n",
              " (('felt', 'VERB'), 5),\n",
              " (('could', 'VERB'), 5),\n",
              " (('used', 'VERB'), 5),\n",
              " (('may', 'VERB'), 5),\n",
              " (('oppressed', 'VERB'), 5),\n",
              " (('find', 'VERB'), 5),\n",
              " (('becomes', 'VERB'), 5)]"
            ]
          },
          "metadata": {},
          "execution_count": 58
        }
      ]
    },
    {
      "cell_type": "code",
      "source": [
        "print('Quotes ADJ')\n",
        "top_pos(quotespos, 'ADJ')[:20]"
      ],
      "metadata": {
        "colab": {
          "base_uri": "https://localhost:8080/"
        },
        "id": "wO4hOrCDx1Kc",
        "outputId": "813a9111-fe4a-4269-b4c4-f5e73e3f2be2"
      },
      "execution_count": 63,
      "outputs": [
        {
          "output_type": "stream",
          "name": "stdout",
          "text": [
            "Quotes ADJ\n"
          ]
        },
        {
          "output_type": "execute_result",
          "data": {
            "text/plain": [
              "[(('great', 'ADJ'), 6),\n",
              " (('devoid', 'ADJ'), 5),\n",
              " (('right', 'ADJ'), 5),\n",
              " (('creative', 'ADJ'), 3),\n",
              " (('internal', 'ADJ'), 3),\n",
              " (('external', 'ADJ'), 3),\n",
              " (('physical', 'ADJ'), 3),\n",
              " (('spiritual', 'ADJ'), 2),\n",
              " (('important', 'ADJ'), 2),\n",
              " (('absolute', 'ADJ'), 2),\n",
              " (('emotional', 'ADJ'), 2),\n",
              " (('whole', 'ADJ'), 2),\n",
              " (('deep', 'ADJ'), 2),\n",
              " (('human', 'ADJ'), 2),\n",
              " (('small', 'ADJ'), 2),\n",
              " (('bright', 'ADJ'), 2),\n",
              " (('poor', 'ADJ'), 2),\n",
              " (('dedicated', 'ADJ'), 2),\n",
              " (('free', 'ADJ'), 2),\n",
              " (('American', 'ADJ'), 2)]"
            ]
          },
          "metadata": {},
          "execution_count": 63
        }
      ]
    },
    {
      "cell_type": "code",
      "source": [
        "print('Wiki ADJ')\n",
        "top_pos(wikipos, 'ADJ')[:20]"
      ],
      "metadata": {
        "colab": {
          "base_uri": "https://localhost:8080/"
        },
        "id": "QW26gaib4kIB",
        "outputId": "6c828408-0e56-4b27-aaef-2d5846b3d625"
      },
      "execution_count": 64,
      "outputs": [
        {
          "output_type": "stream",
          "name": "stdout",
          "text": [
            "Wiki ADJ\n"
          ]
        },
        {
          "output_type": "execute_result",
          "data": {
            "text/plain": [
              "[(('civil', 'ADJ'), 85),\n",
              " (('American', 'ADJ'), 37),\n",
              " (('other', 'ADJ'), 33),\n",
              " (('black', 'ADJ'), 31),\n",
              " (('white', 'ADJ'), 26),\n",
              " (('nonviolent', 'ADJ'), 24),\n",
              " (('first', 'ADJ'), 22),\n",
              " (('racial', 'ADJ'), 20),\n",
              " (('social', 'ADJ'), 19),\n",
              " (('many', 'ADJ'), 17),\n",
              " (('public', 'ADJ'), 17),\n",
              " (('African', 'ADJ'), 16),\n",
              " (('national', 'ADJ'), 15),\n",
              " (('political', 'ADJ'), 14),\n",
              " (('-', 'ADJ'), 14),\n",
              " (('Main', 'ADJ'), 12),\n",
              " (('economic', 'ADJ'), 12),\n",
              " (('several', 'ADJ'), 11),\n",
              " (('high', 'ADJ'), 11),\n",
              " (('old', 'ADJ'), 10)]"
            ]
          },
          "metadata": {},
          "execution_count": 64
        }
      ]
    },
    {
      "cell_type": "code",
      "source": [
        "print('Birmingham Jail ADJ')\n",
        "top_pos(birmjailpos, 'ADJ')[:20]"
      ],
      "metadata": {
        "colab": {
          "base_uri": "https://localhost:8080/"
        },
        "id": "HlZ8T2Mo4kKk",
        "outputId": "9ad654d6-2c60-4959-c462-3c043cf88e1d"
      },
      "execution_count": 65,
      "outputs": [
        {
          "output_type": "stream",
          "name": "stdout",
          "text": [
            "Birmingham Jail ADJ\n"
          ]
        },
        {
          "output_type": "execute_result",
          "data": {
            "text/plain": [
              "[(('nonviolent', 'ADJ'), 16),\n",
              " (('white', 'ADJ'), 16),\n",
              " (('unjust', 'ADJ'), 16),\n",
              " (('direct', 'ADJ'), 15),\n",
              " (('other', 'ADJ'), 9),\n",
              " (('many', 'ADJ'), 7),\n",
              " (('moral', 'ADJ'), 7),\n",
              " (('old', 'ADJ'), 7),\n",
              " (('black', 'ADJ'), 6),\n",
              " (('little', 'ADJ'), 6),\n",
              " (('racial', 'ADJ'), 6),\n",
              " (('long', 'ADJ'), 6),\n",
              " (('wrong', 'ADJ'), 6),\n",
              " (('few', 'ADJ'), 6),\n",
              " (('public', 'ADJ'), 5),\n",
              " (('religious', 'ADJ'), 5),\n",
              " (('good', 'ADJ'), 5),\n",
              " (('necessary', 'ADJ'), 5),\n",
              " (('social', 'ADJ'), 5),\n",
              " (('young', 'ADJ'), 5)]"
            ]
          },
          "metadata": {},
          "execution_count": 65
        }
      ]
    },
    {
      "cell_type": "code",
      "source": [
        "print('Quotes NOUNS')\n",
        "top_pos(quotespos, 'NOUN')[:20]"
      ],
      "metadata": {
        "colab": {
          "base_uri": "https://localhost:8080/"
        },
        "id": "eWX2mGRJ4xY3",
        "outputId": "98a745ac-cca3-4778-e5db-c2a12093b98f"
      },
      "execution_count": 66,
      "outputs": [
        {
          "output_type": "stream",
          "name": "stdout",
          "text": [
            "Quotes NOUNS\n"
          ]
        },
        {
          "output_type": "execute_result",
          "data": {
            "text/plain": [
              "[(('man', 'NOUN'), 13),\n",
              " (('time', 'NOUN'), 10),\n",
              " (('power', 'NOUN'), 9),\n",
              " (('justice', 'NOUN'), 8),\n",
              " (('love', 'NOUN'), 7),\n",
              " (('people', 'NOUN'), 6),\n",
              " (('dream', 'NOUN'), 5),\n",
              " (('men', 'NOUN'), 5),\n",
              " (('life', 'NOUN'), 4),\n",
              " (('way', 'NOUN'), 4),\n",
              " (('religion', 'NOUN'), 4),\n",
              " (('method', 'NOUN'), 4),\n",
              " (('day', 'NOUN'), 4),\n",
              " (('nation', 'NOUN'), 4),\n",
              " (('goal', 'NOUN'), 4),\n",
              " (('peace', 'NOUN'), 4),\n",
              " (('war', 'NOUN'), 4),\n",
              " (('soul', 'NOUN'), 3),\n",
              " (('Love', 'NOUN'), 3),\n",
              " (('being', 'NOUN'), 3)]"
            ]
          },
          "metadata": {},
          "execution_count": 66
        }
      ]
    },
    {
      "cell_type": "code",
      "source": [
        "print('Wiki NOUNS')\n",
        "top_pos(wikipos, 'NOUN')[:20]"
      ],
      "metadata": {
        "colab": {
          "base_uri": "https://localhost:8080/"
        },
        "id": "HcWVq_E35Vs7",
        "outputId": "b307c2ef-94ec-425a-99a1-33a3870c8044"
      },
      "execution_count": 67,
      "outputs": [
        {
          "output_type": "stream",
          "name": "stdout",
          "text": [
            "Wiki NOUNS\n"
          ]
        },
        {
          "output_type": "execute_result",
          "data": {
            "text/plain": [
              "[(('rights', 'NOUN'), 99),\n",
              " (('movement', 'NOUN'), 51),\n",
              " (('speech', 'NOUN'), 27),\n",
              " (('time', 'NOUN'), 27),\n",
              " (('day', 'NOUN'), 25),\n",
              " (('church', 'NOUN'), 23),\n",
              " (('father', 'NOUN'), 23),\n",
              " (('years', 'NOUN'), 22),\n",
              " (('assassination', 'NOUN'), 21),\n",
              " (('life', 'NOUN'), 21),\n",
              " (('death', 'NOUN'), 21),\n",
              " (('school', 'NOUN'), 21),\n",
              " (('march', 'NOUN'), 21),\n",
              " (('people', 'NOUN'), 20),\n",
              " (('leaders', 'NOUN'), 20),\n",
              " (('campaign', 'NOUN'), 20),\n",
              " (('year', 'NOUN'), 18),\n",
              " (('children', 'NOUN'), 17),\n",
              " (('role', 'NOUN'), 14),\n",
              " (('police', 'NOUN'), 14)]"
            ]
          },
          "metadata": {},
          "execution_count": 67
        }
      ]
    },
    {
      "cell_type": "code",
      "source": [
        "print('Birmingham Jail NOUNS')\n",
        "top_pos(birmjailpos, 'NOUN')[:20]"
      ],
      "metadata": {
        "colab": {
          "base_uri": "https://localhost:8080/"
        },
        "id": "IoP8E18k5VwD",
        "outputId": "d222b360-f098-415f-ec36-537a98124e82"
      },
      "execution_count": 68,
      "outputs": [
        {
          "output_type": "stream",
          "name": "stdout",
          "text": [
            "Birmingham Jail NOUNS\n"
          ]
        },
        {
          "output_type": "execute_result",
          "data": {
            "text/plain": [
              "[(('law', 'NOUN'), 20),\n",
              " (('action', 'NOUN'), 19),\n",
              " (('time', 'NOUN'), 17),\n",
              " (('people', 'NOUN'), 17),\n",
              " (('segregation', 'NOUN'), 16),\n",
              " (('church', 'NOUN'), 15),\n",
              " (('freedom', 'NOUN'), 14),\n",
              " (('laws', 'NOUN'), 12),\n",
              " (('justice', 'NOUN'), 11),\n",
              " (('community', 'NOUN'), 10),\n",
              " (('brothers', 'NOUN'), 10),\n",
              " (('day', 'NOUN'), 9),\n",
              " (('extremist', 'NOUN'), 9),\n",
              " (('leaders', 'NOUN'), 8),\n",
              " (('city', 'NOUN'), 8),\n",
              " (('fact', 'NOUN'), 8),\n",
              " (('tension', 'NOUN'), 8),\n",
              " (('years', 'NOUN'), 8),\n",
              " (('sense', 'NOUN'), 8),\n",
              " (('jail', 'NOUN'), 7)]"
            ]
          },
          "metadata": {},
          "execution_count": 68
        }
      ]
    },
    {
      "cell_type": "code",
      "source": [
        ""
      ],
      "metadata": {
        "id": "K6dDUcZc5dpS"
      },
      "execution_count": null,
      "outputs": []
    }
  ]
}